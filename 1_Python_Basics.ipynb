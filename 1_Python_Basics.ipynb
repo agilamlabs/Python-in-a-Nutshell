{
 "cells": [
  {
   "cell_type": "markdown",
   "metadata": {},
   "source": [
    "# Python\n",
    "Hi from Gokul"
   ]
  },
  {
   "cell_type": "code",
   "execution_count": 8,
   "metadata": {},
   "outputs": [
    {
     "name": "stdout",
     "output_type": "stream",
     "text": [
      "Hello, World!\n"
     ]
    }
   ],
   "source": [
    "print(\"Hello, World!\") #This is a comment.\n"
   ]
  },
  {
   "cell_type": "code",
   "execution_count": 3,
   "metadata": {},
   "outputs": [
    {
     "data": {
      "text/plain": [
       "'This is a comment.\\n\\nprint(\"Hello, World!\")\\n\\nThis is also is comment'"
      ]
     },
     "execution_count": 3,
     "metadata": {},
     "output_type": "execute_result"
    }
   ],
   "source": [
    "\"\"\"This is a comment.\n",
    "\n",
    "print(\"Hello, World!\")\n",
    "\n",
    "This is also is comment\"\"\"\n"
   ]
  },
  {
   "cell_type": "markdown",
   "metadata": {},
   "source": [
    "### Variables\n",
    "\n",
    "Variables are containers for storing data values."
   ]
  },
  {
   "cell_type": "code",
   "execution_count": 4,
   "metadata": {},
   "outputs": [
    {
     "name": "stdout",
     "output_type": "stream",
     "text": [
      "6\n",
      "Gokul\n"
     ]
    }
   ],
   "source": [
    "x = 6\n",
    "y = \"Gokul\"\n",
    "\n",
    "print(x)\n",
    "print(y)\n"
   ]
  },
  {
   "cell_type": "code",
   "execution_count": 5,
   "metadata": {},
   "outputs": [
    {
     "name": "stdout",
     "output_type": "stream",
     "text": [
      "3 7 2.5\n"
     ]
    }
   ],
   "source": [
    "x = str(3)    # x will be '3'\n",
    "y = int(7)    # y will be 7\n",
    "z = float(2.5)  # z will be 2.5 \n",
    "\n",
    "print(x,y,z)\n"
   ]
  },
  {
   "cell_type": "code",
   "execution_count": 6,
   "metadata": {},
   "outputs": [
    {
     "name": "stdout",
     "output_type": "stream",
     "text": [
      "Orange\n",
      "Banana\n",
      "Cherry\n"
     ]
    }
   ],
   "source": [
    "x, y, z = \"Orange\", \"Banana\", \"Cherry\"\n",
    "\n",
    "print(x)\n",
    "print(y)\n",
    "print(z)\n"
   ]
  },
  {
   "cell_type": "code",
   "execution_count": 7,
   "metadata": {},
   "outputs": [
    {
     "name": "stdout",
     "output_type": "stream",
     "text": [
      "apple banana cherry\n"
     ]
    }
   ],
   "source": [
    "fruits = [\"apple\", \"banana\", \"cherry\"]\n",
    "\n",
    "x, y, z = fruits\n",
    "\n",
    "print(x,y,z)\n"
   ]
  },
  {
   "cell_type": "markdown",
   "metadata": {},
   "source": [
    "### Global variables"
   ]
  },
  {
   "cell_type": "code",
   "execution_count": 9,
   "metadata": {},
   "outputs": [
    {
     "name": "stdout",
     "output_type": "stream",
     "text": [
      "Python is fantastic\n",
      "Python is awesome\n"
     ]
    }
   ],
   "source": [
    "x = \"awesome\"\n",
    "\n",
    "def myfunc():\n",
    "  x = \"fantastic\"\n",
    "  print(\"Python is \" + x)\n",
    "\n",
    "myfunc()\n",
    "\n",
    "print(\"Python is \" + x)\n"
   ]
  },
  {
   "cell_type": "code",
   "execution_count": 12,
   "metadata": {},
   "outputs": [
    {
     "name": "stdout",
     "output_type": "stream",
     "text": [
      "Python is fantastic\n",
      "Python is fantastic\n"
     ]
    }
   ],
   "source": [
    "x = \"awesome\"\n",
    "\n",
    "def myfunc():\n",
    "  global x\n",
    "  x = \"fantastic\"\n",
    "  print(\"Python is \" + x)\n",
    "\n",
    "myfunc()\n",
    "\n",
    "print(\"Python is \" + x) \n"
   ]
  },
  {
   "cell_type": "markdown",
   "metadata": {},
   "source": [
    "### Data Types\n",
    "\n",
    "| Type Category    | Data Types                              |\n",
    "|------------------|------------------------------------------|\n",
    "| Text Type        | `str`                                    |\n",
    "| Numeric Types    | `int`, `float`, `complex`                |\n",
    "| Sequence Types   | `list`, `tuple`, `range`                 |\n",
    "| Mapping Type     | `dict`                                   |\n",
    "| Set Types        | `set`, `frozenset`                       |\n",
    "| Boolean Type     | `bool`                                   |\n",
    "| Binary Types     | `bytes`, `bytearray`, `memoryview`       |\n",
    "| None Type        | `NoneType`                               |\n"
   ]
  },
  {
   "cell_type": "code",
   "execution_count": 18,
   "metadata": {},
   "outputs": [
    {
     "name": "stdout",
     "output_type": "stream",
     "text": [
      "<class 'str'>\n",
      "<class 'int'>\n",
      "<class 'float'>\n",
      "<class 'complex'>\n",
      "<class 'list'>\n",
      "<class 'tuple'>\n",
      "<class 'range'>\n",
      "<class 'dict'>\n",
      "<class 'set'>\n",
      "<class 'frozenset'>\n",
      "<class 'bool'>\n",
      "<class 'bytes'>\n",
      "<class 'bytearray'>\n",
      "<class 'memoryview'>\n",
      "<class 'NoneType'>\n"
     ]
    }
   ],
   "source": [
    "#Example                                             Data Type \n",
    "\n",
    "a = \"Hello World\"                                  # str\n",
    "print(type(a))\n",
    "\n",
    "b = 20                                             # int\n",
    "print(type(b))\n",
    "\n",
    "c = 20.5                                           # float\n",
    "print(type(c))\n",
    "\n",
    "d = 1j                                             # complex\n",
    "print(type(d))\n",
    "\n",
    "e = [\"apple\", \"banana\", \"cherry\"]                  # list\n",
    "print(type(e))\n",
    "\n",
    "f = (\"apple\", \"banana\", \"cherry\")                  # tuple \n",
    "print(type(f))\n",
    "\n",
    "g = range(6)                                       # range \n",
    "print(type(g))\n",
    "\n",
    "h = {\"name\" : \"John\", \"age\" : 36}                  # dict \n",
    "print(type(h))\n",
    "\n",
    "i = {\"apple\", \"banana\", \"cherry\"}                  # set \n",
    "print(type(i))\n",
    "\n",
    "j = frozenset({\"apple\", \"banana\", \"cherry\"})       # frozenset \n",
    "print(type(j))\n",
    "\n",
    "k = True                                           # bool \n",
    "print(type(k))\n",
    "\n",
    "l = b\"Hello\"                                       # bytes \n",
    "print(type(l))\n",
    "\n",
    "m = bytearray(5)                                   # bytearray \n",
    "print(type(m))\n",
    "\n",
    "n = memoryview(bytes(5))                           # memoryview \n",
    "print(type(n))\n",
    "\n",
    "o = None                                           # NoneType\n",
    "print(type(o))\n"
   ]
  },
  {
   "cell_type": "markdown",
   "metadata": {},
   "source": [
    "### Type Conversion\n",
    "\n",
    " You can convert from one type to another with the int(), float(), and complex() methods:"
   ]
  },
  {
   "cell_type": "code",
   "execution_count": 22,
   "metadata": {},
   "outputs": [
    {
     "name": "stdout",
     "output_type": "stream",
     "text": [
      "1.0\n",
      "2\n",
      "(1+0j)\n",
      "<class 'float'>\n",
      "<class 'int'>\n",
      "<class 'complex'>\n"
     ]
    }
   ],
   "source": [
    "x = 1    # int\n",
    "y = 2.8  # float\n",
    "z = 1j   # complex\n",
    "\n",
    "#convert from int to float:\n",
    "a = float(x)\n",
    "\n",
    "#convert from float to int:\n",
    "b = int(y)\n",
    "\n",
    "#convert from int to complex:\n",
    "c = complex(x)\n",
    "\n",
    "print(a)\n",
    "print(b)\n",
    "print(c)\n",
    "\n",
    "print(type(a))\n",
    "print(type(b))\n",
    "print(type(c)) \n"
   ]
  },
  {
   "cell_type": "markdown",
   "metadata": {},
   "source": [
    "## Operators\n",
    "\n",
    "#### Arithmetic Operators\n",
    "\n",
    "| Operator | Name           | Example |\n",
    "|----------|----------------|---------|\n",
    "| +        | Addition       | x + y   |\n",
    "| -        | Subtraction    | x - y   |\n",
    "| *        | Multiplication | x * y   |\n",
    "| /        | Division       | x / y   |\n",
    "| %        | Modulus        | x % y   |\n",
    "| **       | Exponentiation | x ** y  |\n",
    "| //       | Floor division | x // y  |\n",
    "\n",
    "#### Assignment Operators\n",
    "\n",
    "| Operator | Example | Same as |\n",
    "|----------|---------|---------|\n",
    "| =        | x = 5   | x = 5   |\n",
    "| +=       | x += 3  | x = x + 3 |\n",
    "| -=       | x -= 3  | x = x - 3 |\n",
    "| *=       | x *= 3  | x = x * 3 |\n",
    "| /=       | x /= 3  | x = x / 3 |\n",
    "| %=       | x %= 3  | x = x % 3 |\n",
    "| //=      | x //= 3 | x = x // 3 |\n",
    "| **=      | x **= 3 | x = x ** 3 |\n",
    "\n",
    "#### Comparison Operators\n",
    "\n",
    "| Operator | Name                     | Example |\n",
    "|----------|--------------------------|---------|\n",
    "| ==       | Equal                    | x == y  |\n",
    "| !=       | Not equal                | x != y  |\n",
    "| >        | Greater than             | x > y   |\n",
    "| <        | Less than                | x < y   |\n",
    "| >=       | Greater than or equal to | x >= y  |\n",
    "| <=       | Less than or equal to    | x <= y  |\n",
    "\n",
    "#### Logical Operators\n",
    "\n",
    "| Operator | Description                                               | Example                |\n",
    "|----------|-----------------------------------------------------------|------------------------|\n",
    "| and      | Returns True if both statements are true                  | x < 5 and x < 10       |\n",
    "| or       | Returns True if one of the statements is true             | x < 5 or x < 4         |\n",
    "| not      | Reverse the result, returns False if the result is true   | not (x < 5 and x < 10) |\n",
    "\n",
    "#### Identity Operators\n",
    "\n",
    "| Operator | Description                                         | Example  |\n",
    "|----------|-----------------------------------------------------|----------|\n",
    "| is       | Returns True if both variables are the same object  | x is y   |\n",
    "| is not   | Returns True if both variables are not the same object | x is not y |\n",
    "\n",
    "#### Membership Operators\n",
    "\n",
    "| Operator | Description                                                               | Example  |\n",
    "|----------|---------------------------------------------------------------------------|----------|\n",
    "| in       | Returns True if a sequence with the specified value is present in the object | x in y   |\n",
    "| not in   | Returns True if a sequence with the specified value is not present in the object | x not in y |\n",
    "\n",
    "#### Bitwise Operators\n",
    "\n",
    "| Operator | Name | Description                                | Example |\n",
    "|----------|------|--------------------------------------------|---------|\n",
    "| &        | AND  | Sets each bit to 1 if both bits are 1      | x & y   |\n",
    "| \\|       | OR   | Sets each bit to 1 if one of two bits is 1 | x \\| y  |\n",
    "| ^        | XOR  | Sets each bit to 1 if only one of two bits is 1 | x ^ y  |\n",
    "| ~        | NOT  | Inverts all the bits                       | ~x      |\n"
   ]
  },
  {
   "cell_type": "markdown",
   "metadata": {},
   "source": [
    "## Control Flow Statements\n",
    "\n",
    "| Condition Type   | Keywords          |\n",
    "|------------------|-------------------|\n",
    "| Conditional      | `if`, `elif`, `else` |\n",
    "| Looping          | `while`           |\n",
    "| Looping          | `for`             |\n"
   ]
  },
  {
   "cell_type": "markdown",
   "metadata": {},
   "source": [
    "### Examples for if,elif,else"
   ]
  },
  {
   "cell_type": "markdown",
   "metadata": {},
   "source": [
    "#### Determine Voting Eligibility"
   ]
  },
  {
   "cell_type": "code",
   "execution_count": 1,
   "metadata": {},
   "outputs": [
    {
     "name": "stdout",
     "output_type": "stream",
     "text": [
      "You are eligible to vote.\n"
     ]
    }
   ],
   "source": [
    "age = int(input(\"Enter your age: \"))\n",
    "\n",
    "if age >= 18:\n",
    "    print(\"You are eligible to vote.\")\n",
    "else:\n",
    "    print(\"You are not eligible to vote.\")\n"
   ]
  },
  {
   "cell_type": "markdown",
   "metadata": {},
   "source": [
    "#### Even or Odd"
   ]
  },
  {
   "cell_type": "code",
   "execution_count": 2,
   "metadata": {},
   "outputs": [
    {
     "name": "stdout",
     "output_type": "stream",
     "text": [
      "24 is even.\n"
     ]
    }
   ],
   "source": [
    "number = int(input(\"Enter an integer: \"))\n",
    "\n",
    "if number % 2 == 0:\n",
    "    print(f\"{number} is even.\")\n",
    "else:\n",
    "    print(f\"{number} is odd.\")\n"
   ]
  },
  {
   "cell_type": "markdown",
   "metadata": {},
   "source": [
    "#### Determine Leap Year"
   ]
  },
  {
   "cell_type": "code",
   "execution_count": 3,
   "metadata": {},
   "outputs": [
    {
     "name": "stdout",
     "output_type": "stream",
     "text": [
      "2024 is a leap year.\n"
     ]
    }
   ],
   "source": [
    "year = int(input(\"Enter a year: \"))\n",
    "\n",
    "if (year % 4 == 0 and year % 100 != 0) or (year % 400 == 0):\n",
    "    print(f\"{year} is a leap year.\")\n",
    "else:\n",
    "    print(f\"{year} is not a leap year.\")\n"
   ]
  },
  {
   "cell_type": "markdown",
   "metadata": {},
   "source": [
    "#### Check Divisibility"
   ]
  },
  {
   "cell_type": "code",
   "execution_count": 4,
   "metadata": {},
   "outputs": [
    {
     "name": "stdout",
     "output_type": "stream",
     "text": [
      "Buzz\n"
     ]
    }
   ],
   "source": [
    "number = int(input(\"Enter an integer: \"))\n",
    "\n",
    "if number % 3 == 0 and number % 5 == 0:\n",
    "    print(\"FizzBuzz\")\n",
    "elif number % 3 == 0:\n",
    "    print(\"Fizz\")\n",
    "elif number % 5 == 0:\n",
    "    print(\"Buzz\")\n",
    "else:\n",
    "    print(number)\n"
   ]
  },
  {
   "cell_type": "markdown",
   "metadata": {},
   "source": [
    "#### Checking Number Sign"
   ]
  },
  {
   "cell_type": "code",
   "execution_count": 23,
   "metadata": {},
   "outputs": [
    {
     "name": "stdout",
     "output_type": "stream",
     "text": [
      "The number is positive.\n"
     ]
    }
   ],
   "source": [
    "number = float(input(\"Enter a number: \"))\n",
    "\n",
    "if number > 0:\n",
    "    print(\"The number is positive.\")\n",
    "elif number == 0:\n",
    "    print(\"The number is zero.\")\n",
    "else:\n",
    "    print(\"The number is negative.\")\n"
   ]
  },
  {
   "cell_type": "markdown",
   "metadata": {},
   "source": [
    "#### Grade Evaluation"
   ]
  },
  {
   "cell_type": "code",
   "execution_count": 24,
   "metadata": {},
   "outputs": [
    {
     "name": "stdout",
     "output_type": "stream",
     "text": [
      "Grade: D\n"
     ]
    }
   ],
   "source": [
    "score = int(input(\"Enter your score (0-100): \"))\n",
    "\n",
    "if score >= 90:\n",
    "    print(\"Grade: A\")\n",
    "elif score >= 80:\n",
    "    print(\"Grade: B\")\n",
    "elif score >= 70:\n",
    "    print(\"Grade: C\")\n",
    "elif score >= 60:\n",
    "    print(\"Grade: D\")\n",
    "else:\n",
    "    print(\"Grade: F\")\n"
   ]
  },
  {
   "cell_type": "markdown",
   "metadata": {},
   "source": [
    "#### Age Group Classification"
   ]
  },
  {
   "cell_type": "code",
   "execution_count": 27,
   "metadata": {},
   "outputs": [
    {
     "name": "stdout",
     "output_type": "stream",
     "text": [
      "You are an adult.\n"
     ]
    }
   ],
   "source": [
    "age = int(input(\"Enter your age: \"))\n",
    "\n",
    "if age < 13:\n",
    "    print(\"You are a child.\")\n",
    "elif 13 <= age < 20:\n",
    "    print(\"You are a teenager.\")\n",
    "elif 20 <= age < 65:\n",
    "    print(\"You are an adult.\")\n",
    "else:\n",
    "    print(\"You are a senior.\")\n"
   ]
  },
  {
   "cell_type": "markdown",
   "metadata": {},
   "source": [
    "\n",
    "### Body Mass Index (BMI) Calculator\n",
    "\n",
    "Firstly, the formula to calculate Body Mass Index (BMI):\n",
    "\n",
    "$BMI = \\frac{\\text{weight (kg)}}{\\text{height (m)}^2}$\n",
    "\n",
    "Where\n",
    "\n",
    "$BMI$ --> Body Mass Index\n",
    "\n",
    "$\\text{weight (kg)}$ --> weight in kilograms\n",
    "\n",
    "$\\text{height (m)}$ --> height in meters\n",
    "\n",
    "To categorize BMI:\n",
    "\n",
    "- $BMI < 18.5$: Underweight\n",
    "- $18.5 \\leq BMI < 24.9$: Normal weight\n",
    "- $25 \\leq BMI < 29.9$: Overweight\n",
    "- $BMI \\geq 30$: Obese\n",
    "\n",
    "To implement the BMI calculator in a program:\n",
    "\n",
    "1. Define appropriate data types for weight and height (e.g., floating-point numbers).\n",
    "2. Implement the BMI formula to calculate the Body Mass Index.\n",
    "3. Implement logic to categorize the calculated BMI into the specified categories:\n",
    "   - If $BMI < 18.5$, categorize as Underweight.\n",
    "   - If $18.5 \\leq BMI < 24.9$, categorize as Normal weight.\n",
    "   - If $25 \\leq BMI < 29.9$, categorize as Overweight.\n",
    "   - If $BMI \\geq 30$, categorize as Obese.\n"
   ]
  },
  {
   "cell_type": "code",
   "execution_count": 5,
   "metadata": {},
   "outputs": [
    {
     "name": "stdout",
     "output_type": "stream",
     "text": [
      "Obesity\n"
     ]
    }
   ],
   "source": [
    "weight = float(input(\"Enter your weight in kg: \"))\n",
    "height = float(input(\"Enter your height in meters: \"))\n",
    "bmi = weight / (height ** 2)\n",
    "\n",
    "if bmi < 18.5:\n",
    "    print(\"Underweight\")\n",
    "elif 18.5 <= bmi < 24.9:\n",
    "    print(\"Normal weight\")\n",
    "elif 25 <= bmi < 29.9:\n",
    "    print(\"Overweight\")\n",
    "else:\n",
    "    print(\"Obesity\")\n"
   ]
  },
  {
   "cell_type": "markdown",
   "metadata": {},
   "source": [
    "#### Determine Largest Number"
   ]
  },
  {
   "cell_type": "code",
   "execution_count": 6,
   "metadata": {},
   "outputs": [
    {
     "name": "stdout",
     "output_type": "stream",
     "text": [
      "The largest number is 20.0\n"
     ]
    }
   ],
   "source": [
    "num1 = float(input(\"Enter first number: \"))\n",
    "num2 = float(input(\"Enter second number: \"))\n",
    "num3 = float(input(\"Enter third number: \"))\n",
    "\n",
    "if num1 > num2 and num1 > num3:\n",
    "    print(f\"The largest number is {num1}\")\n",
    "elif num2 > num1 and num2 > num3:\n",
    "    print(f\"The largest number is {num2}\")\n",
    "else:\n",
    "    print(f\"The largest number is {num3}\")\n"
   ]
  },
  {
   "cell_type": "markdown",
   "metadata": {},
   "source": [
    "#### Shipping Cost Calculator"
   ]
  },
  {
   "cell_type": "code",
   "execution_count": 7,
   "metadata": {},
   "outputs": [
    {
     "name": "stdout",
     "output_type": "stream",
     "text": [
      "The shipping cost is $10\n"
     ]
    }
   ],
   "source": [
    "weight = float(input(\"Enter the package weight in kg: \"))\n",
    "\n",
    "if weight <= 1:\n",
    "    cost = 5\n",
    "elif weight <= 5:\n",
    "    cost = 10\n",
    "elif weight <= 10:\n",
    "    cost = 20\n",
    "else:\n",
    "    cost = 50\n",
    "\n",
    "print(f\"The shipping cost is ${cost}\")\n"
   ]
  },
  {
   "cell_type": "markdown",
   "metadata": {},
   "source": [
    "#### Determine Triangle Type"
   ]
  },
  {
   "cell_type": "code",
   "execution_count": 8,
   "metadata": {},
   "outputs": [
    {
     "name": "stdout",
     "output_type": "stream",
     "text": [
      "Isosceles triangle\n"
     ]
    }
   ],
   "source": [
    "side1 = float(input(\"Enter the length of the first side: \"))\n",
    "side2 = float(input(\"Enter the length of the second side: \"))\n",
    "side3 = float(input(\"Enter the length of the third side: \"))\n",
    "\n",
    "if side1 == side2 == side3:\n",
    "    print(\"Equilateral triangle\")\n",
    "elif side1 == side2 or side2 == side3 or side1 == side3:\n",
    "    print(\"Isosceles triangle\")\n",
    "else:\n",
    "    print(\"Scalene triangle\")\n"
   ]
  },
  {
   "cell_type": "markdown",
   "metadata": {},
   "source": [
    "#### Simple Vending Machine"
   ]
  },
  {
   "cell_type": "code",
   "execution_count": 9,
   "metadata": {},
   "outputs": [
    {
     "name": "stdout",
     "output_type": "stream",
     "text": [
      "You selected Soda. Please pay $1.5.\n"
     ]
    }
   ],
   "source": [
    "choice = int(input(\"Select a drink: 1. Water ($1) 2. Soda ($1.5) 3. Juice ($2): \"))\n",
    "\n",
    "if choice == 1:\n",
    "    print(\"You selected Water. Please pay $1.\")\n",
    "elif choice == 2:\n",
    "    print(\"You selected Soda. Please pay $1.5.\")\n",
    "elif choice == 3:\n",
    "    print(\"You selected Juice. Please pay $2.\")\n",
    "else:\n",
    "    print(\"Invalid selection.\")\n"
   ]
  },
  {
   "cell_type": "markdown",
   "metadata": {},
   "source": [
    "#### Beverage Selector"
   ]
  },
  {
   "cell_type": "code",
   "execution_count": 12,
   "metadata": {},
   "outputs": [
    {
     "name": "stdout",
     "output_type": "stream",
     "text": [
      "You can drink alcohol.\n"
     ]
    }
   ],
   "source": [
    "age = int(input(\"Enter your age: \"))\n",
    "\n",
    "if age < 18:\n",
    "    print(\"You can drink juice.\")\n",
    "elif 18 <= age < 21:\n",
    "    print(\"You can drink soda.\")\n",
    "else:\n",
    "    print(\"You can drink alcohol.\")\n"
   ]
  },
  {
   "cell_type": "markdown",
   "metadata": {},
   "source": [
    "#### Traffic Light System"
   ]
  },
  {
   "cell_type": "code",
   "execution_count": 14,
   "metadata": {},
   "outputs": [
    {
     "name": "stdout",
     "output_type": "stream",
     "text": [
      "Go!\n"
     ]
    }
   ],
   "source": [
    "light = input(\"Enter traffic light color (red/yellow/green): \").lower()\n",
    "\n",
    "if light == \"red\":\n",
    "    print(\"Stop!\")\n",
    "elif light == \"yellow\":\n",
    "    print(\"Caution! Prepare to stop.\")\n",
    "elif light == \"green\":\n",
    "    print(\"Go!\")\n",
    "else:\n",
    "    print(\"Invalid color!\")\n"
   ]
  },
  {
   "cell_type": "markdown",
   "metadata": {},
   "source": [
    "#### String Palindrome\n",
    "\n",
    "#### Slice Notation: `[start:stop:step]`\n",
    "\n",
    "start: The starting index of the slice. If omitted, it defaults to the beginning of the sequence.\n",
    "\n",
    "stop: The stopping index of the slice. If omitted, it defaults to the end of the sequence.\n",
    "\n",
    "step: The step size or stride, which determines the increment between each index for slicing."
   ]
  },
  {
   "cell_type": "code",
   "execution_count": 50,
   "metadata": {},
   "outputs": [
    {
     "name": "stdout",
     "output_type": "stream",
     "text": [
      "string is palindrome\n"
     ]
    }
   ],
   "source": [
    "a=input('enter a string')\n",
    "\n",
    "if a==a[::-1]:\n",
    "  print('string is palindrome')\n",
    "else:\n",
    "  print('string is not palindrome')\n"
   ]
  },
  {
   "cell_type": "markdown",
   "metadata": {},
   "source": [
    "#### Simple Weather Advice"
   ]
  },
  {
   "cell_type": "code",
   "execution_count": 11,
   "metadata": {},
   "outputs": [
    {
     "name": "stdout",
     "output_type": "stream",
     "text": [
      "Wear a warm coat and stay safe.\n"
     ]
    }
   ],
   "source": [
    "weather = input(\"Enter the current weather (sunny, rainy, cold): \").lower()\n",
    "\n",
    "if weather == \"sunny\":\n",
    "    print(\"It's a nice day. Wear sunglasses!\")\n",
    "elif weather == \"rainy\":\n",
    "    print(\"Don't forget to take an umbrella.\")\n",
    "elif weather == \"cold\":\n",
    "    print(\"Wear a warm coat and stay safe.\")\n",
    "else:\n",
    "    print(\"Invalid weather input.\")\n"
   ]
  },
  {
   "cell_type": "markdown",
   "metadata": {},
   "source": [
    "#### Determining Seasons"
   ]
  },
  {
   "cell_type": "code",
   "execution_count": 32,
   "metadata": {},
   "outputs": [
    {
     "name": "stdout",
     "output_type": "stream",
     "text": [
      "It's winter.\n"
     ]
    }
   ],
   "source": [
    "month = input(\"Enter a month: \").lower()\n",
    "\n",
    "if month in ('december', 'january', 'february'):\n",
    "    print(\"It's winter.\")\n",
    "elif month in ('march', 'april', 'may'):\n",
    "    print(\"It's spring.\")\n",
    "elif month in ('june', 'july', 'august'):\n",
    "    print(\"It's summer.\")\n",
    "elif month in ('september', 'october', 'november'):\n",
    "    print(\"It's autumn.\")\n",
    "else:\n",
    "    print(\"Invalid month!\")\n"
   ]
  },
  {
   "cell_type": "markdown",
   "metadata": {},
   "source": [
    "#### Determine Season Based on Month and Hemisphere"
   ]
  },
  {
   "cell_type": "code",
   "execution_count": 13,
   "metadata": {},
   "outputs": [
    {
     "name": "stdout",
     "output_type": "stream",
     "text": [
      "It's summer.\n"
     ]
    }
   ],
   "source": [
    "month = input(\"Enter a month: \").lower()\n",
    "hemisphere = input(\"Enter your hemisphere (north/south): \").lower()\n",
    "\n",
    "if hemisphere == \"north\":\n",
    "    if month in ('december', 'january', 'february'):\n",
    "        print(\"It's winter.\")\n",
    "    elif month in ('march', 'april', 'may'):\n",
    "        print(\"It's spring.\")\n",
    "    elif month in ('june', 'july', 'august'):\n",
    "        print(\"It's summer.\")\n",
    "    elif month in ('september', 'october', 'november'):\n",
    "        print(\"It's autumn.\")\n",
    "    else:\n",
    "        print(\"Invalid month!\")\n",
    "elif hemisphere == \"south\":\n",
    "    if month in ('december', 'january', 'february'):\n",
    "        print(\"It's summer.\")\n",
    "    elif month in ('march', 'april', 'may'):\n",
    "        print(\"It's autumn.\")\n",
    "    elif month in ('june', 'july', 'august'):\n",
    "        print(\"It's winter.\")\n",
    "    elif month in ('september', 'october', 'november'):\n",
    "        print(\"It's spring.\")\n",
    "    else:\n",
    "        print(\"Invalid month!\")\n",
    "else:\n",
    "    print(\"Invalid hemisphere!\")\n",
    "\n"
   ]
  },
  {
   "cell_type": "markdown",
   "metadata": {},
   "source": [
    "#### Simple Calculator"
   ]
  },
  {
   "cell_type": "code",
   "execution_count": 15,
   "metadata": {},
   "outputs": [
    {
     "name": "stdout",
     "output_type": "stream",
     "text": [
      "Select operation:\n",
      "1. Add\n",
      "2. Subtract\n",
      "3. Multiply\n",
      "4. Divide\n",
      "5.0 + 10.0 = 15.0\n"
     ]
    }
   ],
   "source": [
    "print(\"Select operation:\")\n",
    "print(\"1. Add\")\n",
    "print(\"2. Subtract\")\n",
    "print(\"3. Multiply\")\n",
    "print(\"4. Divide\")\n",
    "\n",
    "choice = input(\"Enter choice (1/2/3/4): \")\n",
    "\n",
    "if choice in ('1', '2', '3', '4'):\n",
    "    num1 = float(input(\"Enter first number: \"))\n",
    "    num2 = float(input(\"Enter second number: \"))\n",
    "\n",
    "    if choice == '1':\n",
    "        print(f\"{num1} + {num2} = {num1 + num2}\")\n",
    "\n",
    "    elif choice == '2':\n",
    "        print(f\"{num1} - {num2} = {num1 - num2}\")\n",
    "\n",
    "    elif choice == '3':\n",
    "        print(f\"{num1} * {num2} = {num1 * num2}\")\n",
    "\n",
    "    elif choice == '4':\n",
    "        if num2 != 0:\n",
    "            print(f\"{num1} / {num2} = {num1 / num2}\")\n",
    "        else:\n",
    "            print(\"Error! Division by zero.\")\n",
    "else:\n",
    "    print(\"Invalid input\")\n"
   ]
  },
  {
   "cell_type": "markdown",
   "metadata": {},
   "source": [
    "#### Password Validation"
   ]
  },
  {
   "cell_type": "code",
   "execution_count": 16,
   "metadata": {},
   "outputs": [
    {
     "name": "stdout",
     "output_type": "stream",
     "text": [
      "Password is set successfully.\n"
     ]
    }
   ],
   "source": [
    "password = input(\"Enter your password: \")\n",
    "confirm_password = input(\"Confirm your password: \")\n",
    "\n",
    "if len(password) < 8:\n",
    "    print(\"Password is too short. It must be at least 8 characters long.\")\n",
    "elif password != confirm_password:\n",
    "    print(\"Passwords do not match.\")\n",
    "else:\n",
    "    print(\"Password is set successfully.\")\n"
   ]
  },
  {
   "cell_type": "markdown",
   "metadata": {},
   "source": [
    "#### Password Strength Checker"
   ]
  },
  {
   "cell_type": "code",
   "execution_count": 31,
   "metadata": {},
   "outputs": [
    {
     "name": "stdout",
     "output_type": "stream",
     "text": [
      "Password is strong.\n"
     ]
    }
   ],
   "source": [
    "password = input(\"Enter a password: \")\n",
    "\n",
    "if len(password) < 6:\n",
    "    print(\"Password is too short.\")\n",
    "elif not any(char.isdigit() for char in password):\n",
    "    print(\"Password should have at least one numeral.\")\n",
    "elif not any(char.isupper() for char in password):\n",
    "    print(\"Password should have at least one uppercase letter.\")\n",
    "elif not any(char.islower() for char in password):\n",
    "    print(\"Password should have at least one lowercase letter.\")\n",
    "else:\n",
    "    print(\"Password is strong.\")\n"
   ]
  },
  {
   "cell_type": "markdown",
   "metadata": {},
   "source": [
    "#### Short Hand If "
   ]
  },
  {
   "cell_type": "code",
   "execution_count": 26,
   "metadata": {},
   "outputs": [
    {
     "name": "stdout",
     "output_type": "stream",
     "text": [
      "banana is in the list\n"
     ]
    }
   ],
   "source": [
    "fruits = [\"apple\", \"banana\", \"cherry\"]\n",
    "if \"banana\" in fruits: print(\"banana is in the list\")\n"
   ]
  },
  {
   "cell_type": "code",
   "execution_count": 27,
   "metadata": {},
   "outputs": [
    {
     "name": "stdout",
     "output_type": "stream",
     "text": [
      "value exceeds threshold\n"
     ]
    }
   ],
   "source": [
    "threshold = 100\n",
    "value = 150\n",
    "if value > threshold: print(\"value exceeds threshold\")\n"
   ]
  },
  {
   "cell_type": "markdown",
   "metadata": {},
   "source": [
    "#### Short Hand If ... Else "
   ]
  },
  {
   "cell_type": "code",
   "execution_count": 28,
   "metadata": {},
   "outputs": [
    {
     "name": "stdout",
     "output_type": "stream",
     "text": [
      "Odd\n"
     ]
    }
   ],
   "source": [
    "x = 5\n",
    "status = \"Even\" if x % 2 == 0 else \"Odd\"\n",
    "print(status) \n"
   ]
  },
  {
   "cell_type": "code",
   "execution_count": 29,
   "metadata": {},
   "outputs": [
    {
     "name": "stdout",
     "output_type": "stream",
     "text": [
      "Divisible by 3\n"
     ]
    }
   ],
   "source": [
    "x = 15\n",
    "result = \"Even\" if x % 2 == 0 else (\"Divisible by 3\" if x % 3 == 0 else \"Neither Even nor Divisible by 3\")\n",
    "print(result)  \n"
   ]
  },
  {
   "cell_type": "markdown",
   "metadata": {},
   "source": [
    "### Examples for While loop"
   ]
  },
  {
   "cell_type": "markdown",
   "metadata": {},
   "source": [
    "#### Basic Countdown"
   ]
  },
  {
   "cell_type": "code",
   "execution_count": 17,
   "metadata": {},
   "outputs": [
    {
     "name": "stdout",
     "output_type": "stream",
     "text": [
      "10\n",
      "9\n",
      "8\n",
      "7\n",
      "6\n",
      "5\n",
      "4\n",
      "3\n",
      "2\n",
      "1\n",
      "Blast off!\n"
     ]
    }
   ],
   "source": [
    "count = 10\n",
    "\n",
    "while count > 0:\n",
    "    print(count)\n",
    "    count -= 1  # Decrease count by 1\n",
    "\n",
    "print(\"Blast off!\")\n"
   ]
  },
  {
   "cell_type": "markdown",
   "metadata": {},
   "source": [
    "#### Sum of Natural Numbers"
   ]
  },
  {
   "cell_type": "code",
   "execution_count": 18,
   "metadata": {},
   "outputs": [
    {
     "name": "stdout",
     "output_type": "stream",
     "text": [
      "The sum of the first 5 natural numbers is 15\n"
     ]
    }
   ],
   "source": [
    "n = int(input(\"Enter a positive integer: \"))\n",
    "sum = 0\n",
    "i = 1\n",
    "\n",
    "while i <= n:\n",
    "    sum += i  # Add i to sum\n",
    "    i += 1    # Increase i by 1\n",
    "\n",
    "print(f\"The sum of the first {n} natural numbers is {sum}\")\n"
   ]
  },
  {
   "cell_type": "markdown",
   "metadata": {},
   "source": [
    "#### Factorial Calculation"
   ]
  },
  {
   "cell_type": "code",
   "execution_count": 19,
   "metadata": {},
   "outputs": [
    {
     "name": "stdout",
     "output_type": "stream",
     "text": [
      "The factorial of 5 is 120\n"
     ]
    }
   ],
   "source": [
    "n = int(input(\"Enter a positive integer: \"))\n",
    "factorial = 1\n",
    "i = 1\n",
    "\n",
    "while i <= n:\n",
    "    factorial *= i  # Multiply factorial by i\n",
    "    i += 1          # Increase i by 1\n",
    "\n",
    "print(f\"The factorial of {n} is {factorial}\")\n"
   ]
  },
  {
   "cell_type": "markdown",
   "metadata": {},
   "source": [
    "#### Calculate Power of a Number"
   ]
  },
  {
   "cell_type": "code",
   "execution_count": 20,
   "metadata": {},
   "outputs": [
    {
     "name": "stdout",
     "output_type": "stream",
     "text": [
      "5 raised to the power of 2 is 25\n"
     ]
    }
   ],
   "source": [
    "base = int(input(\"Enter the base number: \"))\n",
    "exponent = int(input(\"Enter the exponent: \"))\n",
    "result = 1\n",
    "i = 0\n",
    "\n",
    "while i < exponent:\n",
    "    result *= base\n",
    "    i += 1\n",
    "\n",
    "print(f\"{base} raised to the power of {exponent} is {result}\")\n"
   ]
  },
  {
   "cell_type": "markdown",
   "metadata": {},
   "source": [
    "#### Fibonacci Sequence"
   ]
  },
  {
   "cell_type": "code",
   "execution_count": 1,
   "metadata": {},
   "outputs": [
    {
     "name": "stdout",
     "output_type": "stream",
     "text": [
      "0 1 1 2 3 5 8 13 21 34 "
     ]
    }
   ],
   "source": [
    "n = int(input(\"Enter the number of terms: \"))\n",
    "a, b = 0, 1\n",
    "count = 0\n",
    "\n",
    "while count < n:\n",
    "    print(a,end = ' ')\n",
    "    a, b = b, a + b\n",
    "    count += 1\n"
   ]
  },
  {
   "cell_type": "markdown",
   "metadata": {},
   "source": [
    "#### Collatz Conjecture\n",
    "\n",
    "The Collatz Conjecture, also known as the 3n + 1 conjecture, is a sequence defined as follows:\n",
    "\n",
    "1. Start with any positive integer $n$.\n",
    "2. If $n$ is even, divide it by 2.\n",
    "3. If $n$ is odd, multiply it by 3 and add 1.\n",
    "4. Repeat the process with the resulting number.\n",
    "5. The conjecture states that no matter which positive integer you start with, you will eventually reach the number 1.\n",
    "\n",
    "The Collatz Conjecture is a simple yet unsolved problem in mathematics. It has been tested for very large numbers and always seems to reach 1, but no proof has been found that it will work for all positive integers.\n",
    "\n",
    "#### Example\n",
    "\n",
    "Let's take $n = 6$:\n",
    "\n",
    "1. $6$ is even, so we divide it by 2: $6 / 2 = 3$.\n",
    "2. $3$ is odd, so we multiply it by 3 and add 1: $3 \\times 3 + 1 = 10$.\n",
    "3. $10$ is even, so we divide it by 2: $10 / 2 = 5$.\n",
    "4. $5$ is odd, so we multiply it by 3 and add 1: $5 \\times 3 + 1 = 16$.\n",
    "5. $16$ is even, so we divide it by 2: $16 / 2 = 8$.\n",
    "6. $8$ is even, so we divide it by 2: $8 / 2 = 4$.\n",
    "7. $4$ is even, so we divide it by 2: $4 / 2 = 2$.\n",
    "8. $2$ is even, so we divide it by 2: $2 / 2 = 1$.\n",
    "\n",
    "So, starting from $6$, we eventually reach $1$.\n"
   ]
  },
  {
   "cell_type": "code",
   "execution_count": 4,
   "metadata": {},
   "outputs": [
    {
     "name": "stdout",
     "output_type": "stream",
     "text": [
      "58 29 88 44 22 11 34 17 52 26 13 40 20 10 5 16 8 4 2 1\n"
     ]
    }
   ],
   "source": [
    "number = int(input(\"Enter a positive integer: \"))\n",
    "\n",
    "while number != 1:\n",
    "    print(number,end=' ')\n",
    "    if number % 2 == 0:\n",
    "        number //= 2\n",
    "    else:\n",
    "        number = 3 * number + 1\n",
    "\n",
    "print(number)\n"
   ]
  },
  {
   "cell_type": "markdown",
   "metadata": {},
   "source": [
    "#### Number Palindrome"
   ]
  },
  {
   "cell_type": "markdown",
   "metadata": {},
   "source": [
    "#### Assume\n",
    "\n",
    "Suppose the user inputs 1234:\n",
    "\n",
    "1. **Initialization**:\n",
    "   - a = 1234\n",
    "   - c = 1234\n",
    "   - b = 0\n",
    "\n",
    "2. **First Iteration of the Loop**:\n",
    "   - b = (0 * 10) + (1234 % 10) = 0 + 4 = 4\n",
    "   - a = 1234 // 10 = 123\n",
    "\n",
    "3. **Second Iteration of the Loop**:\n",
    "   - b = (4 * 10) + (123 % 10) = 40 + 3 = 43\n",
    "   - a = 123 // 10 = 12\n",
    "\n",
    "4. **Third Iteration of the Loop**:\n",
    "   - b = (43 * 10) + (12 % 10) = 430 + 2 = 432\n",
    "   - a = 12 // 10 = 1\n",
    "\n",
    "5. **Fourth Iteration of the Loop**:\n",
    "   - b = (432 * 10) + (1 % 10) = 4320 + 1 = 4321\n",
    "   - a = 1 // 10 = 0\n",
    "\n",
    "6. **End of loop**:\n",
    "   - The loop exits because a is now 0.\n",
    "   - The value of b is 4321, which is the reverse of the original input 1234.\n"
   ]
  },
  {
   "cell_type": "code",
   "execution_count": 1,
   "metadata": {},
   "outputs": [
    {
     "name": "stdout",
     "output_type": "stream",
     "text": [
      "number entered is 1001\n",
      "number is palindrome\n"
     ]
    }
   ],
   "source": [
    "a=int(input('enter a number : '))\n",
    "print(f\"number entered is {a}\")\n",
    "\n",
    "c=a\n",
    "b=0\n",
    "while a!=0:\n",
    "  b=(b*10)+(a%10)\n",
    "  a=a//10\n",
    "  \n",
    "if c==b:\n",
    "  print('number is palindrome')\n",
    "else:\n",
    "  print('number is not palindrome')\n"
   ]
  },
  {
   "cell_type": "markdown",
   "metadata": {},
   "source": [
    "### Examples for For loop"
   ]
  },
  {
   "cell_type": "markdown",
   "metadata": {},
   "source": [
    "#### Iterating Over a List"
   ]
  },
  {
   "cell_type": "code",
   "execution_count": 45,
   "metadata": {},
   "outputs": [
    {
     "name": "stdout",
     "output_type": "stream",
     "text": [
      "apple\n",
      "banana\n",
      "cherry\n"
     ]
    }
   ],
   "source": [
    "fruits = [\"apple\", \"banana\", \"cherry\"]\n",
    "\n",
    "for fruit in fruits:\n",
    "    print(fruit)\n"
   ]
  },
  {
   "cell_type": "markdown",
   "metadata": {},
   "source": [
    "#### Iterating Over a String"
   ]
  },
  {
   "cell_type": "code",
   "execution_count": 30,
   "metadata": {},
   "outputs": [
    {
     "name": "stdout",
     "output_type": "stream",
     "text": [
      "P y t h o n "
     ]
    }
   ],
   "source": [
    "for char in \"Python\":\n",
    "    print(char,end=' ')\n",
    "    "
   ]
  },
  {
   "cell_type": "markdown",
   "metadata": {},
   "source": [
    "#### Using range() Function\n",
    "\n",
    "The range() function generates a sequence of numbers."
   ]
  },
  {
   "cell_type": "code",
   "execution_count": 35,
   "metadata": {},
   "outputs": [
    {
     "name": "stdout",
     "output_type": "stream",
     "text": [
      "0 1 2 3 4 5 6 7 8 9 "
     ]
    }
   ],
   "source": [
    "for i in range(10):\n",
    "    print(i,end = ' ')\n"
   ]
  },
  {
   "cell_type": "markdown",
   "metadata": {},
   "source": [
    "#### Nested for Loop"
   ]
  },
  {
   "cell_type": "code",
   "execution_count": 37,
   "metadata": {},
   "outputs": [
    {
     "name": "stdout",
     "output_type": "stream",
     "text": [
      "i = 0, j = 0\n",
      "i = 0, j = 1\n",
      "i = 0, j = 2\n",
      "\n",
      "i = 1, j = 0\n",
      "i = 1, j = 1\n",
      "i = 1, j = 2\n",
      "\n",
      "i = 2, j = 0\n",
      "i = 2, j = 1\n",
      "i = 2, j = 2\n",
      "\n"
     ]
    }
   ],
   "source": [
    "for i in range(3):\n",
    "    for j in range(3):\n",
    "        print(f\"i = {i}, j = {j}\")\n",
    "    print()\n"
   ]
  },
  {
   "cell_type": "markdown",
   "metadata": {},
   "source": [
    "#### List Comprehensions"
   ]
  },
  {
   "cell_type": "code",
   "execution_count": 48,
   "metadata": {},
   "outputs": [
    {
     "name": "stdout",
     "output_type": "stream",
     "text": [
      "[0, 1, 4, 9, 16, 25, 36, 49, 64, 81]\n"
     ]
    }
   ],
   "source": [
    "squares = [x**2 for x in range(10)]\n",
    "print(squares)\n"
   ]
  },
  {
   "cell_type": "markdown",
   "metadata": {},
   "source": [
    "#### Sum of All Numbers in a List"
   ]
  },
  {
   "cell_type": "code",
   "execution_count": 38,
   "metadata": {},
   "outputs": [
    {
     "name": "stdout",
     "output_type": "stream",
     "text": [
      "The total sum is 15\n"
     ]
    }
   ],
   "source": [
    "numbers = [1, 2, 3, 4, 5]\n",
    "total = 0\n",
    "\n",
    "for num in numbers:\n",
    "    total += num\n",
    "\n",
    "print(f\"The total sum is {total}\")\n"
   ]
  },
  {
   "cell_type": "markdown",
   "metadata": {},
   "source": [
    "#### Iterating Over a Set"
   ]
  },
  {
   "cell_type": "code",
   "execution_count": 47,
   "metadata": {},
   "outputs": [
    {
     "name": "stdout",
     "output_type": "stream",
     "text": [
      "blue\n",
      "green\n",
      "red\n"
     ]
    }
   ],
   "source": [
    "colors = {\"red\", \"green\", \"blue\"}\n",
    "\n",
    "for color in colors:\n",
    "    print(color)\n"
   ]
  },
  {
   "cell_type": "markdown",
   "metadata": {},
   "source": [
    "#### Finding the Maximum Number in a List"
   ]
  },
  {
   "cell_type": "code",
   "execution_count": 39,
   "metadata": {},
   "outputs": [
    {
     "name": "stdout",
     "output_type": "stream",
     "text": [
      "The maximum number is 10\n"
     ]
    }
   ],
   "source": [
    "numbers = [3, 6, 2, 8, 4, 10, 1]\n",
    "max_num = numbers[0]\n",
    "\n",
    "for num in numbers:\n",
    "    if num > max_num:\n",
    "        max_num = num\n",
    "\n",
    "print(f\"The maximum number is {max_num}\")\n"
   ]
  },
  {
   "cell_type": "markdown",
   "metadata": {},
   "source": [
    "#### Multiplication Table"
   ]
  },
  {
   "cell_type": "code",
   "execution_count": 44,
   "metadata": {},
   "outputs": [
    {
     "name": "stdout",
     "output_type": "stream",
     "text": [
      "5 x 1 = 5\n",
      "5 x 2 = 10\n",
      "5 x 3 = 15\n",
      "5 x 4 = 20\n",
      "5 x 5 = 25\n",
      "5 x 6 = 30\n",
      "5 x 7 = 35\n",
      "5 x 8 = 40\n",
      "5 x 9 = 45\n",
      "5 x 10 = 50\n"
     ]
    }
   ],
   "source": [
    "num = int(input(\"Enter a number: \"))\n",
    "\n",
    "for i in range(1, 11):\n",
    "    print(f\"{num} x {i} = {num * i}\")\n"
   ]
  },
  {
   "cell_type": "markdown",
   "metadata": {},
   "source": [
    "#### Factorial Calculation"
   ]
  },
  {
   "cell_type": "code",
   "execution_count": 46,
   "metadata": {},
   "outputs": [
    {
     "name": "stdout",
     "output_type": "stream",
     "text": [
      "The factorial of 5 is 120\n"
     ]
    }
   ],
   "source": [
    "n = int(input(\"Enter a positive integer: \"))\n",
    "factorial = 1\n",
    "\n",
    "for i in range(1, n + 1):\n",
    "    factorial *= i\n",
    "\n",
    "print(f\"The factorial of {n} is {factorial}\")\n"
   ]
  },
  {
   "cell_type": "markdown",
   "metadata": {},
   "source": [
    "#### Transpose of a Matrix"
   ]
  },
  {
   "cell_type": "code",
   "execution_count": 2,
   "metadata": {},
   "outputs": [
    {
     "name": "stdout",
     "output_type": "stream",
     "text": [
      "[1, 4, 7]\n",
      "[2, 5, 8]\n",
      "[3, 6, 9]\n"
     ]
    }
   ],
   "source": [
    "matrix = [\n",
    "    [1, 2, 3],\n",
    "    [4, 5, 6],\n",
    "    [7, 8, 9]\n",
    "]\n",
    "\n",
    "transpose = []\n",
    "\n",
    "for i in range(len(matrix[0])):\n",
    "    row = []\n",
    "    for j in range(len(matrix)):\n",
    "        row.append(matrix[j][i])\n",
    "    transpose.append(row)\n",
    "\n",
    "for row in transpose:\n",
    "    print(row)\n"
   ]
  },
  {
   "cell_type": "markdown",
   "metadata": {},
   "source": [
    "#### Counting Vowels in a String"
   ]
  },
  {
   "cell_type": "code",
   "execution_count": 3,
   "metadata": {},
   "outputs": [
    {
     "name": "stdout",
     "output_type": "stream",
     "text": [
      "The number of vowels in the sentence is 7\n"
     ]
    }
   ],
   "source": [
    "sentence = \"Hello, how are you?\"\n",
    "vowels = \"aeiouAEIOU\"\n",
    "count = 0\n",
    "\n",
    "for char in sentence:\n",
    "    if char in vowels:\n",
    "        count += 1\n",
    "\n",
    "print(f\"The number of vowels in the sentence is {count}\")\n"
   ]
  },
  {
   "cell_type": "markdown",
   "metadata": {},
   "source": [
    "#### Generating a Fibonacci Sequence"
   ]
  },
  {
   "cell_type": "code",
   "execution_count": 6,
   "metadata": {},
   "outputs": [
    {
     "name": "stdout",
     "output_type": "stream",
     "text": [
      "[0, 1, 1, 2, 3, 5, 8, 13, 21]\n"
     ]
    }
   ],
   "source": [
    "n_terms = int(input(\"Enter the number of terms \"))\n",
    "fib_sequence = [0, 1]\n",
    "\n",
    "for i in range(2, n_terms):\n",
    "    next_term = fib_sequence[-1] + fib_sequence[-2]\n",
    "    fib_sequence.append(next_term)\n",
    "\n",
    "print(fib_sequence)\n"
   ]
  },
  {
   "cell_type": "markdown",
   "metadata": {},
   "source": [
    "#### Armstrong number\n",
    "An Armstrong number is a number that is equal to the sum of its own digits each raised to the power of the number of digits.\n",
    "\n",
    "- 153 is an Armstrong number because: \\(1^3 + 5^3 + 3^3 = 1 + 125 + 27 = 153\\)\n",
    "- 9474 is an Armstrong number because: \\(9^4 + 4^4 + 7^4 + 4^4 = 6561 + 256 + 2401 + 256 = 9474\\)\n",
    "\n",
    "Let's take the number 153 as an example.\n",
    "\n",
    "- Input Number: 153\n",
    "- List of Digits: [1, 5, 3]\n",
    "- Calculate Sum of Powered Digits:\n",
    "  - \\(1^3 + 5^3 + 3^3 = 1 + 125 + 27 = 153\\)\n",
    "- Comparison: The calculated sum (153) is equal to the original number (153).\n",
    "- Output: The code would print \"153 is an Armstrong number.\"\n"
   ]
  },
  {
   "cell_type": "code",
   "execution_count": 7,
   "metadata": {},
   "outputs": [
    {
     "name": "stdout",
     "output_type": "stream",
     "text": [
      "['4', '0', '7']\n",
      "407 : is a armstrong number\n"
     ]
    }
   ],
   "source": [
    "a=input('enter a number')\n",
    "b=list(a)\n",
    "print(b)\n",
    "sum=0\n",
    "\n",
    "for i in b:\n",
    "  sum+=int(i)**len(b)\n",
    "  \n",
    "if int(a)==sum:\n",
    "  print(a,': is a armstrong number')\n",
    "else:\n",
    "  print(a,': is not a armstrong number')\n"
   ]
  },
  {
   "cell_type": "markdown",
   "metadata": {},
   "source": [
    "### Patterns"
   ]
  },
  {
   "cell_type": "markdown",
   "metadata": {},
   "source": [
    "#### Right-Angled Triangle with Numbers"
   ]
  },
  {
   "cell_type": "code",
   "execution_count": 4,
   "metadata": {},
   "outputs": [
    {
     "name": "stdout",
     "output_type": "stream",
     "text": [
      "1 \n",
      "1 2 \n",
      "1 2 3 \n",
      "1 2 3 4 \n",
      "1 2 3 4 5 \n"
     ]
    }
   ],
   "source": [
    "n = int(input(\"Enter number of terms \"))\n",
    "\n",
    "for i in range(1, n + 1):\n",
    "    for j in range(1, i + 1):\n",
    "        print(j, end=\" \")           # change j to i for Repeated Row Numbers\n",
    "    print()\n"
   ]
  },
  {
   "cell_type": "markdown",
   "metadata": {},
   "source": [
    "#### Right-Angled Triangle with Alphabet"
   ]
  },
  {
   "cell_type": "code",
   "execution_count": 7,
   "metadata": {},
   "outputs": [
    {
     "name": "stdout",
     "output_type": "stream",
     "text": [
      "A \n",
      "A B \n",
      "A B C \n",
      "A B C D \n",
      "A B C D E \n"
     ]
    }
   ],
   "source": [
    "n = int(input(\"Enter number of terms \"))\n",
    "alphabet = \"ABCDEFGHIJKLMNOPQRSTUVWXYZ\"\n",
    "\n",
    "for i in range(n):\n",
    "    for j in range(i + 1):\n",
    "        print(alphabet[j], end=\" \")         # # change j to i for Repeated Row \n",
    "    print()\n"
   ]
  },
  {
   "cell_type": "markdown",
   "metadata": {},
   "source": [
    "#### Floyd's Triangle"
   ]
  },
  {
   "cell_type": "code",
   "execution_count": 8,
   "metadata": {},
   "outputs": [
    {
     "name": "stdout",
     "output_type": "stream",
     "text": [
      "1 \n",
      "2 3 \n",
      "4 5 6 \n",
      "7 8 9 10 \n",
      "11 12 13 14 15 \n"
     ]
    }
   ],
   "source": [
    "n = int(input(\"Enter number of terms \"))\n",
    "num = 1\n",
    "\n",
    "for i in range(1, n + 1):\n",
    "    for j in range(1, i + 1):\n",
    "        print(num, end=\" \")\n",
    "        num += 1\n",
    "    print()\n"
   ]
  },
  {
   "cell_type": "markdown",
   "metadata": {},
   "source": [
    "### Pascal's Triangle\n",
    "\n",
    "#### Step-by-Step Explanation\n",
    "\n",
    "**Function: generate_pascals_triangle**\n",
    "\n",
    "1. **Initialize Triangle List**:\n",
    "   - `triangle = []`\n",
    "   - We start with an empty list to hold all rows of Pascal's Triangle.\n",
    "\n",
    "2. **Loop Through Rows**:\n",
    "   - `for i in range(n):`\n",
    "   - We loop from 0 to n-1 to generate each row.\n",
    "\n",
    "3. **Create Row with 1's**:\n",
    "   - `row = [1] * (i + 1)`\n",
    "   - For each row i, create a list of i+1 elements, all initialized to 1.\n",
    "   - **Example**:\n",
    "     - When `i=0`: `row = [1]`\n",
    "     - When `i=1`: `row = [1, 1]`\n",
    "     - When `i=2`: `row = [1, 1, 1]`\n",
    "\n",
    "4. **Fill Interior Elements**:\n",
    "   - `for j in range(1, i):`\n",
    "   - For each interior element (from 1 to i-1), set `row[j]` to the sum of the two elements above it from the previous row.\n",
    "   - `row[j] = triangle[i - 1][j - 1] + triangle[i - 1][j]`\n",
    "   - **Example for i=3**:\n",
    "     - Previous row is `[1, 2, 1]`\n",
    "     - `row[1] = triangle[2][0] + triangle[2][1] = 1 + 2 = 3`\n",
    "     - `row[2] = triangle[2][1] + triangle[2][2] = 2 + 1 = 3`\n",
    "     - Resulting row: `[1, 3, 3, 1]`\n",
    "\n",
    "5. **Add Row to Triangle**:\n",
    "   - `triangle.append(row)`\n",
    "   - Add the completed row to the triangle list.\n",
    "\n",
    "6. **Return Triangle**:\n",
    "   - `return triangle`\n",
    "   - After all rows are generated, return the list of rows.\n",
    "\n",
    "**Function: print_pascals_triangle**\n",
    "\n",
    "1. **Get Number of Rows**:\n",
    "   - `n = len(triangle)`\n",
    "   - Determine the number of rows in the triangle.\n",
    "\n",
    "2. **Loop Through Rows**:\n",
    "   - `for i, row in enumerate(triangle):`\n",
    "   - Loop through each row with its index.\n",
    "\n",
    "3. **Calculate Leading Spaces**:\n",
    "   - `spaces = ' ' * (n - i - 1)`\n",
    "   - Calculate the number of spaces needed to center the row.\n",
    "   - The number of spaces decreases as i increases.\n",
    "   - **Example**:\n",
    "     - When `i=0`: `spaces = ' ' * 4`\n",
    "     - When `i=1`: `spaces = ' ' * 3`\n",
    "     - When `i=2`: `spaces = ' ' * 2`\n",
    "\n",
    "4. **Join Row Elements**:\n",
    "   - `row_str = ' '.join(map(str, row))`\n",
    "   - Convert each number in the row to a string and join them with spaces.\n",
    "\n",
    "5. **Print Centered Row**:\n",
    "   - `print(spaces + row_str)`\n",
    "   - Print the row with leading spaces for centering.\n",
    "\n",
    "**Generating and Printing Pascal's Triangle**\n",
    "\n",
    "1. **Number of Rows**:\n",
    "   - `n = 5`\n",
    "\n",
    "2. **Generate Triangle**:\n",
    "   - `triangle = generate_pascals_triangle(n)`\n",
    "\n",
    "3. **Print Triangle**:\n",
    "   - `print_pascals_triangle(triangle)`\n",
    "        \n",
    "#### Example Walkthrough\n",
    "\n",
    "Let's consider `n = 5`:\n",
    "\n",
    "1. **First Row (i=0)**:\n",
    "   - `row = [1]`\n",
    "   - `triangle = [[1]]`\n",
    "\n",
    "2. **Second Row (i=1)**:\n",
    "   - `row = [1, 1]`\n",
    "   - `triangle = [[1], [1, 1]]`\n",
    "\n",
    "3. **Third Row (i=2)**:\n",
    "   - `row = [1, 1, 1]`\n",
    "   - `row[1] = triangle[1][0] + triangle[1][1] = 1 + 1 = 2`\n",
    "   - `row = [1, 2, 1]`\n",
    "   - `triangle = [[1], [1, 1], [1, 2, 1]]`\n",
    "\n",
    "4. **Fourth Row (i=3)**:\n",
    "   - `row = [1, 1, 1, 1]`\n",
    "   - `row[1] = triangle[2][0] + triangle[2][1] = 1 + 2 = 3`\n",
    "   - `row[2] = triangle[2][1] + triangle[2][2] = 2 + 1 = 3`\n",
    "   - `row = [1, 3, 3, 1]`\n",
    "   - `triangle = [[1], [1, 1], [1, 2, 1], [1, 3, 3, 1]]`\n",
    "\n",
    "5. **Fifth Row (i=4)**:\n",
    "   - `row = [1, 1, 1, 1, 1]`\n",
    "   - `row[1] = triangle[3][0] + triangle[3][1] = 1 + 3 = 4`\n",
    "   - `row[2] = triangle[3][1] + triangle[3][2] = 3 + 3 = 6`\n",
    "   - `row[3] = triangle[3][2] + triangle[3][3] = 3 + 1 = 4`\n",
    "   - `row = [1, 4, 6, 4, 1]`\n",
    "   - `triangle = [[1], [1, 1], [1, 2, 1], [1, 3, 3, 1], [1, 4, 6, 4, 1]]`\n"
   ]
  },
  {
   "cell_type": "code",
   "execution_count": 3,
   "metadata": {},
   "outputs": [
    {
     "name": "stdout",
     "output_type": "stream",
     "text": [
      "1\n",
      "1 1\n",
      "1 2 1\n",
      "1 3 3 1\n",
      "1 4 6 4 1\n"
     ]
    }
   ],
   "source": [
    "def generate_pascals_triangle(n):\n",
    "    triangle = []  # Initialize an empty list to hold the rows of the triangle\n",
    "    for i in range(n):  # Loop to create each row\n",
    "        row = [1] * (i + 1)  # Start with a row of 1's of length i+1\n",
    "        for j in range(1, i):  # Fill in the values for the interior elements\n",
    "            row[j] = triangle[i - 1][j - 1] + triangle[i - 1][j]  # Sum of the two elements above\n",
    "        triangle.append(row)  # Add the row to the triangle\n",
    "    return triangle\n",
    "\n",
    "def print_pascals_triangle(triangle):\n",
    "    for row in triangle:\n",
    "        print(\" \".join(map(str, row)))  # Print each row as a space-separated string\n",
    "\n",
    "n = int(input(\"Enter number of terms \"))\n",
    "triangle = generate_pascals_triangle(n)\n",
    "print_pascals_triangle(triangle)\n"
   ]
  },
  {
   "cell_type": "code",
   "execution_count": 25,
   "metadata": {},
   "outputs": [
    {
     "name": "stdout",
     "output_type": "stream",
     "text": [
      "    1\n",
      "   1 1\n",
      "  1 2 1\n",
      " 1 3 3 1\n",
      "1 4 6 4 1\n"
     ]
    }
   ],
   "source": [
    "def generate_pascals_triangle(n):\n",
    "    triangle = []  # Initialize an empty list to hold the rows of the triangle\n",
    "    for i in range(n):  # Loop to create each row\n",
    "        row = [1] * (i + 1)  # Start with a row of 1's of length i+1\n",
    "        for j in range(1, i):  # Fill in the values for the interior elements\n",
    "            row[j] = triangle[i - 1][j - 1] + triangle[i - 1][j]  # Sum of the two elements above\n",
    "        triangle.append(row)  # Add the row to the triangle\n",
    "    return triangle\n",
    "\n",
    "def print_pascals_triangle(triangle):\n",
    "    n = len(triangle)\n",
    "    for i, row in enumerate(triangle):\n",
    "        # Calculate the number of leading spaces for centering\n",
    "        spaces = ' ' * (n - i - 1)\n",
    "        # Join the row elements into a single string with spaces\n",
    "        row_str = ' '.join(map(str, row))\n",
    "        # Print the centered row\n",
    "        print(spaces + row_str)\n",
    "\n",
    "n = int(input(\"Enter number of terms \"))\n",
    "triangle = generate_pascals_triangle(n)\n",
    "print_pascals_triangle(triangle)\n",
    "\n"
   ]
  },
  {
   "cell_type": "markdown",
   "metadata": {},
   "source": [
    "#### Right-Angled Triangle"
   ]
  },
  {
   "cell_type": "code",
   "execution_count": 23,
   "metadata": {},
   "outputs": [
    {
     "name": "stdout",
     "output_type": "stream",
     "text": [
      "*\n",
      "**\n",
      "***\n",
      "****\n",
      "*****\n"
     ]
    }
   ],
   "source": [
    "n = int(input(\"Enter number of terms \"))\n",
    "\n",
    "for i in range(1, n + 1):\n",
    "    print('*' * i)\n"
   ]
  },
  {
   "cell_type": "markdown",
   "metadata": {},
   "source": [
    "#### Right-Angled Triangle with Leading Spaces"
   ]
  },
  {
   "cell_type": "code",
   "execution_count": 12,
   "metadata": {},
   "outputs": [
    {
     "name": "stdout",
     "output_type": "stream",
     "text": [
      "     *\n",
      "    **\n",
      "   ***\n",
      "  ****\n",
      " *****\n"
     ]
    }
   ],
   "source": [
    "n = int(input(\"Enter number of terms \"))\n",
    "\n",
    "for i in range(1, n + 1):\n",
    "    print(' ' * (n - i) , '*' * i)\n"
   ]
  },
  {
   "cell_type": "markdown",
   "metadata": {},
   "source": [
    "In Python, the underscore character ( _ ) is often used as a placeholder variable when the value of a variable is not needed.\n",
    "\n",
    "In this specific context within the for loop, the underscore _ is being used as a convention to indicate that the loop variable is not being used in the loop body."
   ]
  },
  {
   "cell_type": "code",
   "execution_count": 10,
   "metadata": {},
   "outputs": [
    {
     "name": "stdout",
     "output_type": "stream",
     "text": [
      "    *\n",
      "   **\n",
      "  ***\n",
      " ****\n",
      "*****\n"
     ]
    }
   ],
   "source": [
    "rows = int(input(\"Enter the number of rows: \"))\n",
    "\n",
    "for i in range(1, rows + 1):\n",
    "    # Print spaces before asterisks\n",
    "    for _ in range(rows - i):\n",
    "        print(\" \", end=\"\")\n",
    "    # Print asterisks\n",
    "    for _ in range(i):\n",
    "        print(\"*\", end=\"\")\n",
    "    print()  # Move to the next line after printing each row\n"
   ]
  },
  {
   "cell_type": "markdown",
   "metadata": {},
   "source": [
    "#### Inverted Right-Angled Triangle"
   ]
  },
  {
   "cell_type": "code",
   "execution_count": 19,
   "metadata": {},
   "outputs": [
    {
     "name": "stdout",
     "output_type": "stream",
     "text": [
      "*****\n",
      "****\n",
      "***\n",
      "**\n",
      "*\n"
     ]
    }
   ],
   "source": [
    "n = int(input(\"Enter number of terms \"))\n",
    "\n",
    "for i in range(n, 0, -1):\n",
    "    print('*' * i)\n"
   ]
  },
  {
   "cell_type": "markdown",
   "metadata": {},
   "source": [
    "#### Inverted Right-Angled Triangle with Leading Spaces"
   ]
  },
  {
   "cell_type": "code",
   "execution_count": 20,
   "metadata": {},
   "outputs": [
    {
     "name": "stdout",
     "output_type": "stream",
     "text": [
      " *****\n",
      "  ****\n",
      "   ***\n",
      "    **\n",
      "     *\n"
     ]
    }
   ],
   "source": [
    "n = int(input(\"Enter number of terms \"))\n",
    "\n",
    "for i in range(n, 0, -1):\n",
    "    print(' ' * (n - i) ,'*' * i)\n"
   ]
  },
  {
   "cell_type": "markdown",
   "metadata": {},
   "source": [
    "#### Centered Pyramid"
   ]
  },
  {
   "cell_type": "code",
   "execution_count": 21,
   "metadata": {},
   "outputs": [
    {
     "name": "stdout",
     "output_type": "stream",
     "text": [
      "    *\n",
      "   ***\n",
      "  *****\n",
      " *******\n",
      "*********\n"
     ]
    }
   ],
   "source": [
    "n = int(input(\"Enter number of terms \"))\n",
    "\n",
    "for i in range(n):\n",
    "    spaces = ' ' * (n - i - 1)\n",
    "    stars = '*' * (2 * i + 1)\n",
    "    print(spaces + stars)\n"
   ]
  },
  {
   "cell_type": "markdown",
   "metadata": {},
   "source": [
    "#### Upside-Down Centered Pyramid"
   ]
  },
  {
   "cell_type": "code",
   "execution_count": 22,
   "metadata": {},
   "outputs": [
    {
     "name": "stdout",
     "output_type": "stream",
     "text": [
      "*********\n",
      " *******\n",
      "  *****\n",
      "   ***\n",
      "    *\n"
     ]
    }
   ],
   "source": [
    "n = int(input(\"Enter number of terms \"))\n",
    "\n",
    "for i in range(n, 0, -1):\n",
    "    spaces = ' ' * (n - i)\n",
    "    stars = '*' * (2 * i - 1)\n",
    "    print(spaces + stars)\n"
   ]
  },
  {
   "cell_type": "markdown",
   "metadata": {},
   "source": [
    "#### Diamond Shape"
   ]
  },
  {
   "cell_type": "code",
   "execution_count": 24,
   "metadata": {},
   "outputs": [
    {
     "name": "stdout",
     "output_type": "stream",
     "text": [
      "    *\n",
      "   ***\n",
      "  *****\n",
      " *******\n",
      "*********\n",
      " *******\n",
      "  *****\n",
      "   ***\n",
      "    *\n"
     ]
    }
   ],
   "source": [
    "n = int(input(\"Enter number of terms \"))\n",
    "\n",
    "# Top part of the diamond\n",
    "for i in range(n):\n",
    "    spaces = ' ' * (n - i - 1)\n",
    "    stars = '*' * (2 * i + 1)\n",
    "    print(spaces + stars)\n",
    "\n",
    "# Bottom part of the diamond\n",
    "for i in range(n - 2, -1, -1):\n",
    "    spaces = ' ' * (n - i - 1)\n",
    "    stars = '*' * (2 * i + 1)\n",
    "    print(spaces + stars)\n"
   ]
  },
  {
   "cell_type": "markdown",
   "metadata": {},
   "source": [
    "#### List Comprehension\n",
    "#### Short hand for loop"
   ]
  },
  {
   "cell_type": "code",
   "execution_count": 30,
   "metadata": {},
   "outputs": [
    {
     "name": "stdout",
     "output_type": "stream",
     "text": [
      "apple\n",
      "banana\n",
      "cherry\n"
     ]
    },
    {
     "data": {
      "text/plain": [
       "[None, None, None]"
      ]
     },
     "execution_count": 30,
     "metadata": {},
     "output_type": "execute_result"
    }
   ],
   "source": [
    "thislist = [\"apple\", \"banana\", \"cherry\"]\n",
    "[print(x) for x in thislist]\n"
   ]
  },
  {
   "cell_type": "code",
   "execution_count": 32,
   "metadata": {},
   "outputs": [
    {
     "name": "stdout",
     "output_type": "stream",
     "text": [
      "[1, 4, 27, 16, 125]\n"
     ]
    }
   ],
   "source": [
    "# list of squares for even numbers and cubes for odd numbers\n",
    "numbers = [1, 2, 3, 4, 5]\n",
    "squared_cubed = [num**2 if num % 2 == 0 else num**3 for num in numbers]\n",
    "print(squared_cubed)  \n"
   ]
  },
  {
   "cell_type": "code",
   "execution_count": 33,
   "metadata": {},
   "outputs": [
    {
     "name": "stdout",
     "output_type": "stream",
     "text": [
      "['Odd', 'Even', 'Odd', 'Even', 'Odd']\n"
     ]
    }
   ],
   "source": [
    "# list of even and odd numbers\n",
    "numbers = [1, 2, 3, 4, 5]\n",
    "even_odd = [\"Even\" if num % 2 == 0 else \"Odd\" for num in numbers]\n",
    "print(even_odd)  \n"
   ]
  },
  {
   "cell_type": "markdown",
   "metadata": {},
   "source": [
    "#### The `pass` Statement\n",
    "\n",
    "The `pass` statement is a null operation; nothing happens when it executes. It is used as a placeholder in code, often during development.\n"
   ]
  },
  {
   "cell_type": "code",
   "execution_count": 9,
   "metadata": {},
   "outputs": [
    {
     "name": "stdout",
     "output_type": "stream",
     "text": [
      "0 1 2 3 4 "
     ]
    }
   ],
   "source": [
    "for i in range(5):\n",
    "    if i == 3:\n",
    "        pass  # Placeholder for future code\n",
    "    print(i,end = \" \")\n"
   ]
  },
  {
   "cell_type": "code",
   "execution_count": 10,
   "metadata": {},
   "outputs": [],
   "source": [
    "def my_function():\n",
    "    pass  # Placeholder for future code\n",
    "\n",
    "my_function()\n"
   ]
  },
  {
   "cell_type": "markdown",
   "metadata": {},
   "source": [
    "#### The `break` Statement\n",
    "\n",
    "The `break` statement is used to terminate the nearest enclosing loop prematurely, skipping the rest of the code inside the loop and proceeding to the next statement after the loop.\n"
   ]
  },
  {
   "cell_type": "code",
   "execution_count": 12,
   "metadata": {},
   "outputs": [
    {
     "name": "stdout",
     "output_type": "stream",
     "text": [
      "0 1 2 "
     ]
    }
   ],
   "source": [
    "for i in range(5):\n",
    "    if i == 3:\n",
    "        break  # Exit the loop when i is 3\n",
    "    print(i,end = \" \")\n",
    "# Output: 0 1 2\n"
   ]
  },
  {
   "cell_type": "code",
   "execution_count": 19,
   "metadata": {},
   "outputs": [
    {
     "name": "stdout",
     "output_type": "stream",
     "text": [
      "Found Charlie!\n"
     ]
    }
   ],
   "source": [
    "names = [\"Alice\", \"Bob\", \"Charlie\", \"Diana\", \"Edward\"]\n",
    "search_name = \"Charlie\"\n",
    "\n",
    "for name in names:\n",
    "    if name == search_name:\n",
    "        print(f\"Found {search_name}!\")\n",
    "        break  # Exit the loop when the name is found\n",
    "else:\n",
    "    print(f\"{search_name} not found in the list.\")\n",
    "\n"
   ]
  },
  {
   "cell_type": "markdown",
   "metadata": {},
   "source": [
    "#### The `continue` Statement\n",
    "\n",
    "The `continue` statement is used to skip the rest of the code inside the current loop iteration and proceed to the next iteration of the loop.\n"
   ]
  },
  {
   "cell_type": "code",
   "execution_count": 16,
   "metadata": {},
   "outputs": [
    {
     "name": "stdout",
     "output_type": "stream",
     "text": [
      "0 1 2 4 "
     ]
    }
   ],
   "source": [
    "for i in range(5):\n",
    "    if i == 3:\n",
    "        continue  # Skip the rest of the loop when i is 3\n",
    "    print(i,end=\" \")\n",
    "# Output: 0 1 2 4\n",
    "\n",
    "my_function()\n"
   ]
  },
  {
   "cell_type": "code",
   "execution_count": 18,
   "metadata": {},
   "outputs": [
    {
     "name": "stdout",
     "output_type": "stream",
     "text": [
      "2 4 6 8 10 "
     ]
    }
   ],
   "source": [
    "numbers = [1, 2, 3, 4, 5, 6, 7, 8, 9, 10]\n",
    "\n",
    "for number in numbers:\n",
    "    if number % 2 != 0:  # Check if the number is odd\n",
    "        continue  # Skip the rest of the loop and move to the next iteration\n",
    "    print(number,end=\" \")\n",
    "\n"
   ]
  },
  {
   "cell_type": "markdown",
   "metadata": {},
   "source": [
    "## Function\n"
   ]
  },
  {
   "cell_type": "code",
   "execution_count": 3,
   "metadata": {},
   "outputs": [
    {
     "name": "stdout",
     "output_type": "stream",
     "text": [
      "Hello, Guest!\n",
      "Hello, Alice!\n"
     ]
    }
   ],
   "source": [
    "def greet(name=\"Guest\"):\n",
    "    return f\"Hello, {name}!\"\n",
    "\n",
    "print(greet())  # Uses default value\n",
    "print(greet(\"Alice\"))  # Uses provided argument\n"
   ]
  },
  {
   "cell_type": "code",
   "execution_count": 2,
   "metadata": {},
   "outputs": [
    {
     "name": "stdout",
     "output_type": "stream",
     "text": [
      "The sum is: 8\n"
     ]
    }
   ],
   "source": [
    "def add_numbers(a, b):\n",
    "    return a + b\n",
    "\n",
    "result = add_numbers(3, 5)\n",
    "print(f\"The sum is: {result}\")\n"
   ]
  },
  {
   "cell_type": "markdown",
   "metadata": {},
   "source": [
    "### Prime\n",
    "\n",
    "**Definition of a Prime Number**\n",
    "\n",
    "A prime number is a natural number greater than 1 that has no positive divisors other than 1 and itself.\n",
    "\n",
    "**Step-by-Step Explanation**\n",
    "\n",
    "1. **Identify the Number**\n",
    "\n",
    "    We need to determine if 29 is a prime number.\n",
    "\n",
    "2. **Check for Divisors up to the Square Root**\n",
    "\n",
    "    To check if 29 is prime, we only need to test for factors up to the square root of 29. Calculate the square root of 29:\n",
    "    \n",
    "    $$\\sqrt{29} \\approx 5.39$$\n",
    "    \n",
    "    We round this down to the nearest whole number for practical purposes:\n",
    "    \n",
    "    $$\\lfloor \\sqrt{29} \\rfloor = 5$$\n",
    "    \n",
    "    Therefore, we only need to check for factors from 2 to 5.\n",
    "\n",
    "3. **Check Divisibility**\n",
    "\n",
    "    We test each integer from 2 to 5 to see if it divides 29 without leaving a remainder.\n",
    "\n",
    "    **Check \\(i = 2\\)**:\n",
    "    \n",
    "    $$\\frac{29}{2} = 14.5 \\quad \\text{(not an integer)}$$\n",
    "    \n",
    "    Since 29 divided by 2 is not an integer, 2 is not a divisor of 29.\n",
    "\n",
    "    **Check \\(i = 3\\)**:\n",
    "    \n",
    "    $$\\frac{29}{3} \\approx 9.67 \\quad \\text{(not an integer)}$$\n",
    "    \n",
    "    Since 29 divided by 3 is not an integer, 3 is not a divisor of 29.\n",
    "\n",
    "    **Check \\(i = 4\\)**:\n",
    "    \n",
    "    $$\\frac{29}{4} = 7.25 \\quad \\text{(not an integer)}$$\n",
    "    \n",
    "    Since 29 divided by 4 is not an integer, 4 is not a divisor of 29.\n",
    "\n",
    "    **Check \\(i = 5\\)**:\n",
    "    \n",
    "    $$\\frac{29}{5} = 5.8 \\quad \\text{(not an integer)}$$\n",
    "    \n",
    "    Since 29 divided by 5 is not an integer, 5 is not a divisor of 29.\n"
   ]
  },
  {
   "cell_type": "code",
   "execution_count": 1,
   "metadata": {},
   "outputs": [
    {
     "name": "stdout",
     "output_type": "stream",
     "text": [
      "True\n",
      "False\n"
     ]
    }
   ],
   "source": [
    "def is_prime(n):\n",
    "    \n",
    "    if n <= 1:\n",
    "        return False\n",
    "    for i in range(2, int(n ** 0.5) + 1):\n",
    "        if n % i == 0:\n",
    "            return False\n",
    "    return True\n",
    "\n",
    "# Example usage:\n",
    "print(is_prime(29))  # Output: True\n",
    "print(is_prime(15))  # Output: False\n"
   ]
  },
  {
   "cell_type": "markdown",
   "metadata": {},
   "source": [
    "### Convert Decimal to Binary"
   ]
  },
  {
   "cell_type": "code",
   "execution_count": 2,
   "metadata": {},
   "outputs": [
    {
     "name": "stdout",
     "output_type": "stream",
     "text": [
      "1010\n",
      "11111111\n"
     ]
    }
   ],
   "source": [
    "def decimal_to_binary(n):\n",
    "    \n",
    "    return bin(n).replace(\"0b\", \"\")\n",
    "\n",
    "# Example usage:\n",
    "print(decimal_to_binary(10))  # Output: '1010'\n",
    "print(decimal_to_binary(255))  # Output: '11111111'\n"
   ]
  },
  {
   "cell_type": "markdown",
   "metadata": {},
   "source": [
    "### Area of a Circle"
   ]
  },
  {
   "cell_type": "code",
   "execution_count": 3,
   "metadata": {},
   "outputs": [
    {
     "name": "stdout",
     "output_type": "stream",
     "text": [
      "78.53981633974483\n",
      "38.48451000647496\n"
     ]
    }
   ],
   "source": [
    "def area_of_circle(radius):\n",
    "    \n",
    "    import math\n",
    "    return math.pi * (radius ** 2)\n",
    "\n",
    "# Example usage:\n",
    "print(area_of_circle(5))  # Output: 78.53981633974483\n",
    "print(area_of_circle(3.5))# Output: 38.48451000647496\n"
   ]
  },
  {
   "cell_type": "markdown",
   "metadata": {},
   "source": [
    "### LCM (Least Common Multiple)"
   ]
  },
  {
   "cell_type": "code",
   "execution_count": null,
   "metadata": {},
   "outputs": [],
   "source": [
    "def lcm(a, b):\n",
    "    \n",
    "    def gcd(x, y):\n",
    "        while y:\n",
    "            x, y = y, x % y\n",
    "        return x\n",
    "\n",
    "    return abs(a * b) // gcd(a, b)\n",
    "\n",
    "# Example usage:\n",
    "print(lcm(12, 18))  # Output: 36\n",
    "print(lcm(7, 5))    # Output: 35\n"
   ]
  },
  {
   "cell_type": "markdown",
   "metadata": {},
   "source": [
    "### Temperature Conversion\n",
    "\n",
    "Firstly, the formula to convert Fahrenheit to Celsius:\n",
    "\n",
    "$C = (F - 32) \\times \\frac{5}{9}$\n",
    "\n",
    "Where\n",
    "\n",
    "$C$ --> temperature in Celsius\n",
    "\n",
    "$F$ --> temperature in Fahrenheit\n",
    "\n",
    "For converting Celsius to Fahrenheit:\n",
    "\n",
    "$F = C \\times \\frac{9}{5} + 32$\n",
    "\n",
    "Where\n",
    "\n",
    "$F$ --> temperature in Fahrenheit\n",
    "\n",
    "$C$ --> temperature in Celsius\n",
    "\n",
    "To implement these conversions in a program:\n",
    "\n",
    "1. Define appropriate data types for temperatures (e.g., floating-point numbers).\n",
    "2. Implement a function to convert Fahrenheit to Celsius using the formula $C = (F - 32) \\times \\frac{5}{9}$.\n",
    "3. Implement a function to convert Celsius to Fahrenheit using the formula $F = C \\times \\frac{9}{5} + 32$."
   ]
  },
  {
   "cell_type": "code",
   "execution_count": 4,
   "metadata": {},
   "outputs": [
    {
     "name": "stdout",
     "output_type": "stream",
     "text": [
      "51.0C is 123.8F\n",
      "105.0F is 40.55555555555556C\n"
     ]
    }
   ],
   "source": [
    "def celsius_to_fahrenheit(celsius):\n",
    "    return (celsius * 9/5) + 32\n",
    "\n",
    "def fahrenheit_to_celsius(fahrenheit):\n",
    "    return (fahrenheit - 32) * 5/9\n",
    "\n",
    "temp_c = float(input(\"Enter temperature in Celsius: \"))\n",
    "temp_f = celsius_to_fahrenheit(temp_c)\n",
    "print(f\"{temp_c}C is {temp_f}F\")\n",
    "\n",
    "temp_f = float(input(\"Enter temperature in Fahrenheit: \"))\n",
    "temp_c = fahrenheit_to_celsius(temp_f)\n",
    "print(f\"{temp_f}F is {temp_c}C\")\n"
   ]
  },
  {
   "cell_type": "markdown",
   "metadata": {},
   "source": [
    "### Distance Between Two Points\n",
    "\n",
    "Firstly, the formula to calculate the distance between two points in 2D space:\n",
    "\n",
    "$d = \\sqrt{(x_2 - x_1)^2 + (y_2 - y_1)^2}$\n",
    "\n",
    "Where\n",
    "\n",
    "$d$ --> distance between the two points\n",
    "\n",
    "$(x_1, y_1)$ --> coordinates of the first point\n",
    "\n",
    "$(x_2, y_2)$ --> coordinates of the second point\n",
    "\n",
    "To implement the distance calculation in a program:\n",
    "\n",
    "1. Define appropriate data types for the coordinates $x_1$, $y_1$, $x_2$, and $y_2$ (e.g., floating-point numbers).\n",
    "2. Implement the distance formula to calculate the distance $d$.\n",
    "3. Ensure the function takes inputs for $x_1$, $y_1$, $x_2$, and $y_2$, and returns the calculated distance $d$.\n"
   ]
  },
  {
   "cell_type": "code",
   "execution_count": 5,
   "metadata": {},
   "outputs": [
    {
     "name": "stdout",
     "output_type": "stream",
     "text": [
      "Distance between the points: 2.24\n"
     ]
    }
   ],
   "source": [
    "import math\n",
    "\n",
    "def calculate_distance(x1, y1, x2, y2):\n",
    "    distance = math.sqrt((x2 - x1) ** 2 + (y2 - y1) ** 2)\n",
    "    return distance\n",
    "\n",
    "x1 = float(input(\"Enter x1: \"))\n",
    "y1 = float(input(\"Enter y1: \"))\n",
    "x2 = float(input(\"Enter x2: \"))\n",
    "y2 = float(input(\"Enter y2: \"))\n",
    "\n",
    "distance = calculate_distance(x1, y1, x2, y2)\n",
    "print(f\"Distance between the points: {distance:.2f}\")\n"
   ]
  },
  {
   "cell_type": "markdown",
   "metadata": {},
   "source": [
    "### Compound Interest Calculator\n",
    "\n",
    "Firstly, the formula to calculate compound interest:\n",
    "\n",
    "$A = P \\left(1 + \\frac{r}{n}\\right)^{nt}$\n",
    "\n",
    "Where\n",
    "\n",
    "$A$ --> the amount of money accumulated after n years, including interest\n",
    "\n",
    "$P$ --> the principal amount\n",
    "\n",
    "$r$ --> the annual interest rate\n",
    "\n",
    "$n$ --> the number of times interest is compounded per year\n",
    "\n",
    "$t$ --> the time the money is invested for, in years\n",
    "\n",
    "To implement the compound interest calculator in a program:\n",
    "\n",
    "1. Define appropriate data types for the principal amount $P$, annual interest rate $r$, number of times interest is compounded per year $n$, and the time $t$ \n",
    "(e.g., floating-point numbers for $P$, $r$, and $t$, and an integer for $n$).\n",
    "2. Implement the compound interest formula to calculate the accumulated amount $A$.\n",
    "3. Ensure the function takes inputs for $P$, $r$, $n$, and $t$, and returns the calculated amount $A$.\n"
   ]
  },
  {
   "cell_type": "code",
   "execution_count": 8,
   "metadata": {},
   "outputs": [
    {
     "name": "stdout",
     "output_type": "stream",
     "text": [
      "The amount after 10.0 years is: 259374.25\n"
     ]
    }
   ],
   "source": [
    "def compound_interest(principal, rate, times_compounded, years):\n",
    "    amount = principal * (1 + rate / times_compounded) ** (times_compounded * years)\n",
    "    return amount\n",
    "\n",
    "P = float(input(\"Enter the principal amount: \"))\n",
    "r = float(input(\"Enter the annual interest rate (as a decimal): \"))\n",
    "n = int(input(\"Enter the number of times interest is compounded per year: \"))\n",
    "t = float(input(\"Enter the number of years: \"))\n",
    "\n",
    "A = compound_interest(P, r, n, t)\n",
    "print(f\"The amount after {t} years is: {A:.2f}\")\n"
   ]
  },
  {
   "cell_type": "markdown",
   "metadata": {},
   "source": [
    "#### meters to feet\n",
    "#### feet to centimeters\n",
    "#### feet to meters"
   ]
  },
  {
   "cell_type": "code",
   "execution_count": 9,
   "metadata": {},
   "outputs": [
    {
     "name": "stdout",
     "output_type": "stream",
     "text": [
      "10.0 meters is approximately 32.8084 feet\n",
      "5.5 feet is exactly 167.64000000000001 centimeters\n",
      "5.5 feet is approximately 1.6763999463552017 meters\n"
     ]
    }
   ],
   "source": [
    "def meters_to_feet(meters):\n",
    "    return meters * 3.28084  # 1 meter is approximately 3.28084 feet\n",
    "\n",
    "def feet_to_centimeters(feet):\n",
    "    return feet * 30.48  # 1 foot is exactly 30.48 centimeters\n",
    "\n",
    "def feet_to_meters(feet):\n",
    "    return feet / 3.28084  # 1 foot is approximately 0.3048 meters\n",
    "\n",
    "# Length conversion from meters to feet\n",
    "length_meters = float(input(\"Enter length in meters: \"))\n",
    "length_feet = meters_to_feet(length_meters)\n",
    "print(f\"{length_meters} meters is approximately {length_feet} feet\")\n",
    "\n",
    "# Length conversion from feet to centimeters\n",
    "length_feet = float(input(\"Enter length in feet: \"))\n",
    "length_cm = feet_to_centimeters(length_feet)\n",
    "print(f\"{length_feet} feet is exactly {length_cm} centimeters\")\n",
    "\n",
    "# Additional conversion: Feet to Meters\n",
    "length_feet = float(input(\"Enter length in feet: \"))\n",
    "length_meters = feet_to_meters(length_feet)\n",
    "print(f\"{length_feet} feet is approximately {length_meters} meters\")\n"
   ]
  },
  {
   "cell_type": "markdown",
   "metadata": {},
   "source": [
    "### Quadratic Equation Solver\n",
    "\n",
    "Firstly, the quadratic equation in standard form:\n",
    "\n",
    "$ax^2 + bx + c = 0$\n",
    "\n",
    "Where\n",
    "\n",
    "$a$ --> coefficient of $x^2$\n",
    "\n",
    "$b$ --> coefficient of $x$\n",
    "\n",
    "$c$ --> constant term\n",
    "\n",
    "To solve the quadratic equation, use the quadratic formula:\n",
    "\n",
    "$x = \\frac{-b \\pm \\sqrt{b^2 - 4ac}}{2a}$\n",
    "\n",
    "Where\n",
    "\n",
    "$x$ --> solutions of the quadratic equation\n",
    "\n",
    "To implement the quadratic equation solver in a program:\n",
    "\n",
    "1. Define appropriate data types for the coefficients $a$, $b$, and $c$ (e.g., floating-point numbers).\n",
    "2. Implement the quadratic formula to compute the solutions $x$.\n",
    "3. Handle different cases for the discriminant ($b^2 - 4ac$):\n",
    "   - If the discriminant is positive, there are two real solutions.\n",
    "   - If the discriminant is zero, there is one real solution.\n",
    "   - If the discriminant is negative, there are two complex solutions."
   ]
  },
  {
   "cell_type": "code",
   "execution_count": 10,
   "metadata": {},
   "outputs": [
    {
     "name": "stdout",
     "output_type": "stream",
     "text": [
      "No real roots\n"
     ]
    }
   ],
   "source": [
    "import math\n",
    "\n",
    "def solve_quadratic(a, b, c):\n",
    "    discriminant = b**2 - 4*a*c\n",
    "    if discriminant < 0:\n",
    "        return \"No real roots\"\n",
    "    elif discriminant == 0:\n",
    "        root = -b / (2*a)\n",
    "        return f\"One root: {root}\"\n",
    "    else:\n",
    "        root1 = (-b + math.sqrt(discriminant)) / (2*a)\n",
    "        root2 = (-b - math.sqrt(discriminant)) / (2*a)\n",
    "        return f\"Two roots: {root1}, {root2}\"\n",
    "\n",
    "a = float(input(\"Enter coefficient a: \"))\n",
    "b = float(input(\"Enter coefficient b: \"))\n",
    "c = float(input(\"Enter coefficient c: \"))\n",
    "\n",
    "print(solve_quadratic(a, b, c))\n"
   ]
  },
  {
   "cell_type": "markdown",
   "metadata": {},
   "source": [
    "### Recursion \n",
    "   ->It means that a function calls itself. \n",
    "\n",
    "### Factorial Calculation\n",
    "\n",
    "To calculate the factorial of a given number:\n",
    "\n",
    "1. **Iterative Approach**:\n",
    "   - Write a function that iterates from 1 to the given number and multiplies each number in the iteration.\n",
    "   \n",
    "2. **Recursive Approach**:\n",
    "   - Write a recursive function that calls itself with decreasing values until it reaches the base case (factorial of 0 is 1).\n",
    "   - The factorial of a number \\( n \\) can be expressed as \\( n! = n \\times (n-1)! \\), with the base case \\( 0! = 1 \\).\n",
    "\n",
    "To implement factorial calculation in a program:\n",
    "\n",
    "1. Define a function for both the iterative and recursive approaches.\n",
    "2. Ensure both functions take the given number as input and return its factorial.\n"
   ]
  },
  {
   "cell_type": "code",
   "execution_count": 6,
   "metadata": {},
   "outputs": [
    {
     "name": "stdout",
     "output_type": "stream",
     "text": [
      "Iterative Factorial of 5 is: 120\n",
      "Recursive Factorial of 5 is: 120\n"
     ]
    }
   ],
   "source": [
    "def factorial_iterative(n):\n",
    "    result = 1\n",
    "    for i in range(1, n + 1):\n",
    "        result *= i\n",
    "    return result\n",
    "\n",
    "def factorial_recursive(n):\n",
    "    if n == 1 or n == 0:\n",
    "        return 1\n",
    "    else:\n",
    "        return n * factorial_recursive(n - 1)\n",
    "\n",
    "number = int(input(\"Enter a number: \"))\n",
    "print(f\"Iterative Factorial of {number} is: {factorial_iterative(number)}\")\n",
    "print(f\"Recursive Factorial of {number} is: {factorial_recursive(number)}\")\n",
    "\n"
   ]
  },
  {
   "cell_type": "markdown",
   "metadata": {},
   "source": [
    "#### Arbitrary Arguments, *args\n",
    "\n",
    "    "
   ]
  },
  {
   "cell_type": "code",
   "execution_count": 7,
   "metadata": {},
   "outputs": [
    {
     "name": "stdout",
     "output_type": "stream",
     "text": [
      "10\n",
      "30\n"
     ]
    }
   ],
   "source": [
    "def sum_all(*args):         #If the arguments is unknown, add a * before the parameter \n",
    "    return sum(args)\n",
    "\n",
    "print(sum_all(1, 2, 3, 4))  # Sums all the arguments: 10\n",
    "print(sum_all(5, 10, 15))  # Sums all the arguments: 30\n"
   ]
  },
  {
   "cell_type": "markdown",
   "metadata": {},
   "source": [
    "#### Arbitrary Keyword Arguments, **kwargs "
   ]
  },
  {
   "cell_type": "code",
   "execution_count": 12,
   "metadata": {},
   "outputs": [
    {
     "name": "stdout",
     "output_type": "stream",
     "text": [
      "name: Alice\n",
      "age: 10\n",
      "grade: 5th\n",
      "\n",
      "name: Bob\n",
      "age: 12\n",
      "grade: 7th\n",
      "school: Greenwood\n"
     ]
    }
   ],
   "source": [
    "# Function with **kwargs\n",
    "def print_student_details(**kwargs):\n",
    "    for key, value in kwargs.items():\n",
    "        print(f\"{key}: {value}\")\n",
    "\n",
    "# Calling the function with different keyword arguments\n",
    "print_student_details(name=\"Alice\", age=10, grade=\"5th\")\n",
    "# Output:\n",
    "# name: Alice\n",
    "# age: 10\n",
    "# grade: 5th\n",
    "print()\n",
    "print_student_details(name=\"Bob\", age=12, grade=\"7th\", school=\"Greenwood\")\n",
    "# Output:\n",
    "# name: Bob\n",
    "# age: 12\n",
    "# grade: 7th\n",
    "# school: Greenwood\n"
   ]
  },
  {
   "cell_type": "code",
   "execution_count": 13,
   "metadata": {},
   "outputs": [
    {
     "name": "stdout",
     "output_type": "stream",
     "text": [
      "Positional arguments:\n",
      "1\n",
      "2\n",
      "3\n",
      "\n",
      "Keyword arguments:\n",
      "name: Alice\n",
      "age: 10\n",
      "grade: 5th\n"
     ]
    }
   ],
   "source": [
    "# Function with both *args and **kwargs\n",
    "def show_info(*args, **kwargs):\n",
    "    print(\"Positional arguments:\")\n",
    "    for arg in args:\n",
    "        print(arg)\n",
    "    \n",
    "    print(\"\\nKeyword arguments:\")\n",
    "    for key, value in kwargs.items():\n",
    "        print(f\"{key}: {value}\")\n",
    "\n",
    "# Calling the function with positional and keyword arguments\n",
    "show_info(1, 2, 3, name=\"Alice\", age=10, grade=\"5th\")\n",
    "# Output:\n",
    "# Positional arguments:\n",
    "# 1\n",
    "# 2\n",
    "# 3\n",
    "#\n",
    "# Keyword arguments:\n",
    "# name: Alice\n",
    "# age: 10\n",
    "# grade: 5th\n"
   ]
  },
  {
   "cell_type": "markdown",
   "metadata": {},
   "source": [
    "### Lambda Functions\n",
    "\n",
    "- Anonymous functions\n",
    "- Syntax: `lambda arguments: expression`\n"
   ]
  },
  {
   "cell_type": "code",
   "execution_count": 14,
   "metadata": {},
   "outputs": [
    {
     "name": "stdout",
     "output_type": "stream",
     "text": [
      "15\n"
     ]
    }
   ],
   "source": [
    "# Lambda function to add 10 to a number\n",
    "add_ten = lambda x: x + 10\n",
    "\n",
    "# Using the lambda function\n",
    "print(add_ten(5))  # Output: 15\n"
   ]
  },
  {
   "cell_type": "code",
   "execution_count": 15,
   "metadata": {},
   "outputs": [
    {
     "name": "stdout",
     "output_type": "stream",
     "text": [
      "12\n"
     ]
    }
   ],
   "source": [
    "# Lambda function to multiply two numbers\n",
    "multiply = lambda x, y: x * y\n",
    "\n",
    "# Using the lambda function\n",
    "print(multiply(3, 4))  # Output: 12\n"
   ]
  },
  {
   "cell_type": "markdown",
   "metadata": {},
   "source": [
    "**map and filter Syntax**\n",
    "\n",
    "- `map(function, iterable)`:\n",
    "    - Applies function to every item in iterable (e.g., list, tuple).\n",
    "    - Returns a map object, which can be converted to a list or other sequence type.\n",
    "\n",
    "- `filter(function, iterable)`:\n",
    "    - Applies function to every item in iterable and includes the item in the result if function returns True.\n",
    "    - Returns a filter object, which can be converted to a list or other sequence type.\n"
   ]
  },
  {
   "cell_type": "code",
   "execution_count": 16,
   "metadata": {},
   "outputs": [
    {
     "name": "stdout",
     "output_type": "stream",
     "text": [
      "[1, 4, 9, 16, 25]\n"
     ]
    }
   ],
   "source": [
    "# List of numbers\n",
    "numbers = [1, 2, 3, 4, 5]\n",
    "\n",
    "# Using map with a lambda function to square each number\n",
    "squared_numbers = list(map(lambda x: x**2, numbers))\n",
    "\n",
    "print(squared_numbers)  # Output: [1, 4, 9, 16, 25]\n"
   ]
  },
  {
   "cell_type": "code",
   "execution_count": 17,
   "metadata": {},
   "outputs": [
    {
     "name": "stdout",
     "output_type": "stream",
     "text": [
      "[32.0, 68.0, 86.0, 104.0]\n"
     ]
    }
   ],
   "source": [
    "# List of temperatures in Celsius\n",
    "celsius_temps = [0, 20, 30, 40]\n",
    "\n",
    "# Using map with a lambda function to convert each temperature to Fahrenheit\n",
    "fahrenheit_temps = list(map(lambda c: (c * 9/5) + 32, celsius_temps))\n",
    "\n",
    "print(fahrenheit_temps)  # Output: [32.0, 68.0, 86.0, 104.0]\n"
   ]
  },
  {
   "cell_type": "code",
   "execution_count": 18,
   "metadata": {},
   "outputs": [
    {
     "name": "stdout",
     "output_type": "stream",
     "text": [
      "[2, 4, 6]\n"
     ]
    }
   ],
   "source": [
    "# List of numbers\n",
    "numbers = [1, 2, 3, 4, 5, 6]\n",
    "\n",
    "# Using filter with a lambda function to get even numbers\n",
    "even_numbers = list(filter(lambda x: x % 2 == 0, numbers))\n",
    "\n",
    "print(even_numbers)  # Output: [2, 4, 6]\n"
   ]
  },
  {
   "cell_type": "code",
   "execution_count": 22,
   "metadata": {},
   "outputs": [
    {
     "name": "stdout",
     "output_type": "stream",
     "text": [
      "['Alice', 'Anna']\n"
     ]
    }
   ],
   "source": [
    "# List of names\n",
    "names = [\"Alice\", \"Bob\", \"Charlie\", \"Anna\", \"Mike\"]\n",
    "\n",
    "# Using filter with a lambda function to get names starting with 'A'\n",
    "a_names = list(filter(lambda name: name.startswith('A'), names))\n",
    "\n",
    "print(a_names)  # Output: ['Alice', 'Anna']\n"
   ]
  },
  {
   "cell_type": "code",
   "execution_count": 20,
   "metadata": {},
   "outputs": [
    {
     "name": "stdout",
     "output_type": "stream",
     "text": [
      "[4, 8, 12]\n"
     ]
    }
   ],
   "source": [
    "# List of numbers\n",
    "numbers = [1, 2, 3, 4, 5, 6]\n",
    "\n",
    "# First filter even numbers, then double them\n",
    "even_doubled_numbers = list(map(lambda x: x * 2, filter(lambda x: x % 2 == 0, numbers)))\n",
    "\n",
    "print(even_doubled_numbers)  # Output: [4, 8, 12]\n"
   ]
  },
  {
   "cell_type": "markdown",
   "metadata": {},
   "source": [
    "## Class\n",
    "\n",
    "- **Class**: A blueprint for creating objects. It defines a set of attributes and methods that the objects created from the class will have.\n",
    "- **Object**: An instance of a class. It contains the data (attributes) and functions (methods) defined by the class.\n"
   ]
  },
  {
   "cell_type": "code",
   "execution_count": 6,
   "metadata": {},
   "outputs": [
    {
     "name": "stdout",
     "output_type": "stream",
     "text": [
      "Alice\n",
      "30\n"
     ]
    }
   ],
   "source": [
    "class Person:\n",
    "    # Methods to set attributes\n",
    "    def set_name(self, name):\n",
    "        self.name = name\n",
    "\n",
    "    def set_age(self, age):\n",
    "        self.age = age\n",
    "\n",
    "    # Methods to get attributes\n",
    "    def get_name(self):\n",
    "        return self.name\n",
    "\n",
    "    def get_age(self):\n",
    "        return self.age\n",
    "\n",
    "# Using the Person class\n",
    "person = Person()\n",
    "person.set_name(\"Alice\")\n",
    "person.set_age(30)\n",
    "\n",
    "print(person.get_name())  \n",
    "print(person.get_age())  \n"
   ]
  },
  {
   "cell_type": "code",
   "execution_count": 1,
   "metadata": {},
   "outputs": [
    {
     "name": "stdout",
     "output_type": "stream",
     "text": [
      "Name: Alice, Age: 12, Grade: 7th\n",
      "Name: Bob, Age: 13, Grade: 8th\n"
     ]
    }
   ],
   "source": [
    "class Student:\n",
    "    # Initializer / Instance attributes\n",
    "    def __init__(self, name, age, grade):\n",
    "        self.name = name\n",
    "        self.age = age\n",
    "        self.grade = grade\n",
    "\n",
    "    # Instance method\n",
    "    def get_details(self):\n",
    "        return f\"Name: {self.name}, Age: {self.age}, Grade: {self.grade}\"\n",
    "\n",
    "# Create objects of the Student class\n",
    "student1 = Student(\"Alice\", 12, \"7th\")\n",
    "student2 = Student(\"Bob\", 13, \"8th\")\n",
    "\n",
    "# Accessing attributes and methods\n",
    "print(student1.get_details())  \n",
    "print(student2.get_details())  \n"
   ]
  },
  {
   "cell_type": "code",
   "execution_count": 2,
   "metadata": {},
   "outputs": [
    {
     "name": "stdout",
     "output_type": "stream",
     "text": [
      "8\n",
      "15\n"
     ]
    }
   ],
   "source": [
    "class Utility:\n",
    "    @staticmethod\n",
    "    def add(a, b):\n",
    "        return a + b\n",
    "\n",
    "    @staticmethod\n",
    "    def multiply(a, b):\n",
    "        return a * b\n",
    "\n",
    "# Using the Utility class\n",
    "print(Utility.add(3, 5))  \n",
    "print(Utility.multiply(3, 5))  \n"
   ]
  },
  {
   "cell_type": "code",
   "execution_count": 4,
   "metadata": {},
   "outputs": [
    {
     "name": "stdout",
     "output_type": "stream",
     "text": [
      "8\n",
      "15\n"
     ]
    }
   ],
   "source": [
    "class Utility:\n",
    "    \n",
    "    def add(a, b):\n",
    "        return a + b\n",
    "\n",
    "    \n",
    "    def multiply(a, b):\n",
    "        return a * b\n",
    "\n",
    "# Using the Utility class\n",
    "print(Utility.add(3, 5))  \n",
    "print(Utility.multiply(3, 5))  \n"
   ]
  },
  {
   "cell_type": "code",
   "execution_count": 3,
   "metadata": {},
   "outputs": [
    {
     "name": "stdout",
     "output_type": "stream",
     "text": [
      "78.53975\n",
      "31.4159\n"
     ]
    }
   ],
   "source": [
    "class MathOperations:\n",
    "    # Class attribute\n",
    "    pi = 3.14159\n",
    "\n",
    "    \n",
    "    def area_of_circle(radius):\n",
    "        return MathOperations.pi * radius * radius\n",
    "\n",
    "    \n",
    "    def perimeter_of_circle(radius):\n",
    "        return 2 * MathOperations.pi * radius\n",
    "\n",
    "\n",
    "print(MathOperations.area_of_circle(5))  \n",
    "print(MathOperations.perimeter_of_circle(5))  \n"
   ]
  },
  {
   "cell_type": "code",
   "execution_count": 2,
   "metadata": {},
   "outputs": [
    {
     "name": "stdout",
     "output_type": "stream",
     "text": [
      "Circle1 Area: 78.53975\n",
      "Circle2 Circumference: 62.8318\n"
     ]
    }
   ],
   "source": [
    "class Circle:\n",
    "    # Class attribute\n",
    "    pi = 3.14159\n",
    "\n",
    "    # Initializer / Instance attributes\n",
    "    def __init__(self, radius):\n",
    "        self.radius = radius\n",
    "\n",
    "    # Instance method\n",
    "    def area(self):\n",
    "        return Circle.pi * self.radius * self.radius\n",
    "\n",
    "    # Instance method\n",
    "    def circumference(self):\n",
    "        return 2 * Circle.pi * self.radius\n",
    "\n",
    "# Create objects of the Circle class\n",
    "circle1 = Circle(5)\n",
    "circle2 = Circle(10)\n",
    "\n",
    "# Accessing methods\n",
    "print(f\"Circle1 Area: {circle1.area()}\")  \n",
    "print(f\"Circle2 Circumference: {circle2.circumference()}\")  \n"
   ]
  },
  {
   "cell_type": "code",
   "execution_count": 11,
   "metadata": {},
   "outputs": [
    {
     "name": "stdout",
     "output_type": "stream",
     "text": [
      "City Library\n",
      "'1984' by George Orwell\n",
      "Borrowed '1984'. Copies left: 3\n",
      "Borrowed 'To Kill a Mockingbird'. Copies left: 1\n"
     ]
    }
   ],
   "source": [
    "class Book:\n",
    "    # Class attribute\n",
    "    library_name = \"City Library\"\n",
    "\n",
    "    # Initializer / Instance attributes\n",
    "    def __init__(self, title, author, copies):\n",
    "        self.title = title\n",
    "        self.author = author\n",
    "        self.copies = copies\n",
    "\n",
    "    # Instance method\n",
    "    def description(self):\n",
    "        return f\"'{self.title}' by {self.author}\"\n",
    "\n",
    "    # Instance method\n",
    "    def borrow_book(self):\n",
    "        if self.copies > 0:\n",
    "            self.copies -= 1\n",
    "            return f\"Borrowed '{self.title}'. Copies left: {self.copies}\"\n",
    "        else:\n",
    "            return f\"Sorry, '{self.title}' is out of stock.\"\n",
    "\n",
    "# Create objects of the Book class\n",
    "book1 = Book(\"1984\", \"George Orwell\", 4)\n",
    "book2 = Book(\"To Kill a Mockingbird\", \"Harper Lee\", 2)\n",
    "\n",
    "# Accessing class attribute\n",
    "print(Book.library_name)  \n",
    "\n",
    "# Accessing instance methods\n",
    "print(book1.description())  \n",
    "print(book1.borrow_book())  \n",
    "print(book2.borrow_book())  \n"
   ]
  },
  {
   "cell_type": "code",
   "execution_count": 12,
   "metadata": {},
   "outputs": [
    {
     "name": "stdout",
     "output_type": "stream",
     "text": [
      "Greenwood High School\n",
      "Student: Alice, Grade: 7\n",
      "Alice has been promoted to grade 8\n",
      "Bob has been promoted to grade 9\n"
     ]
    }
   ],
   "source": [
    "class Student:\n",
    "    # Class attribute\n",
    "    school_name = \"Greenwood High School\"\n",
    "\n",
    "    # Initializer / Instance attributes\n",
    "    def __init__(self, name, grade):\n",
    "        self.name = name\n",
    "        self.grade = grade\n",
    "\n",
    "    # Instance method\n",
    "    def student_info(self):\n",
    "        return f\"Student: {self.name}, Grade: {self.grade}\"\n",
    "\n",
    "    # Instance method\n",
    "    def promote(self):\n",
    "        self.grade += 1\n",
    "        return f\"{self.name} has been promoted to grade {self.grade}\"\n",
    "\n",
    "# Create objects of the Student class\n",
    "student1 = Student(\"Alice\", 7)\n",
    "student2 = Student(\"Bob\", 8)\n",
    "\n",
    "# Accessing class attribute\n",
    "print(Student.school_name)  \n",
    "\n",
    "# Accessing instance methods\n",
    "print(student1.student_info())  \n",
    "print(student1.promote())  \n",
    "print(student2.promote())  \n"
   ]
  },
  {
   "cell_type": "code",
   "execution_count": 13,
   "metadata": {},
   "outputs": [
    {
     "name": "stdout",
     "output_type": "stream",
     "text": [
      "National Bank\n",
      "Account Holder: John Doe, Balance: $500\n",
      "$200 deposited. New balance: $700\n",
      "$300 withdrawn. New balance: $700\n"
     ]
    }
   ],
   "source": [
    "class BankAccount:\n",
    "    # Class attribute\n",
    "    bank_name = \"National Bank\"\n",
    "\n",
    "    # Initializer / Instance attributes\n",
    "    def __init__(self, account_number, account_holder, balance):\n",
    "        self.account_number = account_number\n",
    "        self.account_holder = account_holder\n",
    "        self.balance = balance\n",
    "\n",
    "    # Instance method\n",
    "    def account_info(self):\n",
    "        return f\"Account Holder: {self.account_holder}, Balance: ${self.balance}\"\n",
    "\n",
    "    # Instance method\n",
    "    def deposit(self, amount):\n",
    "        self.balance += amount\n",
    "        return f\"${amount} deposited. New balance: ${self.balance}\"\n",
    "\n",
    "    # Instance method\n",
    "    def withdraw(self, amount):\n",
    "        if amount > self.balance:\n",
    "            return \"Insufficient funds\"\n",
    "        else:\n",
    "            self.balance -= amount\n",
    "            return f\"${amount} withdrawn. New balance: ${self.balance}\"\n",
    "\n",
    "# Create objects of the BankAccount class\n",
    "account1 = BankAccount(\"123456\", \"John Doe\", 500)\n",
    "account2 = BankAccount(\"789012\", \"Jane Doe\", 1000)\n",
    "\n",
    "# Accessing class attribute\n",
    "print(BankAccount.bank_name)  \n",
    "\n",
    "# Accessing instance methods\n",
    "print(account1.account_info())  \n",
    "print(account1.deposit(200))  \n",
    "print(account2.withdraw(300))  \n"
   ]
  },
  {
   "cell_type": "code",
   "execution_count": null,
   "metadata": {},
   "outputs": [],
   "source": [
    "class Employee:\n",
    "    # Class attribute\n",
    "    company_name = \"Tech Solutions\"\n",
    "\n",
    "    # Initializer / Instance attributes\n",
    "    def __init__(self, emp_id, name, salary):\n",
    "        self.emp_id = emp_id\n",
    "        self.name = name\n",
    "        self.salary = salary\n",
    "\n",
    "    # Instance method\n",
    "    def employee_details(self):\n",
    "        return f\"ID: {self.emp_id}, Name: {self.name}, Salary: ${self.salary}\"\n",
    "\n",
    "    # Instance method\n",
    "    def give_raise(self, amount):\n",
    "        self.salary += amount\n",
    "        return f\"{self.name} got a raise. New Salary: ${self.salary}\"\n",
    "\n",
    "# Create objects of the Employee class\n",
    "employee1 = Employee(101, \"Alice\", 50000)\n",
    "employee2 = Employee(102, \"Bob\", 60000)\n",
    "\n",
    "# Accessing class attribute\n",
    "print(Employee.company_name)  # Output: Tech Solutions\n",
    "\n",
    "# Accessing instance methods\n",
    "print(employee1.employee_details())  \n",
    "print(employee1.give_raise(5000))  \n",
    "print(employee2.give_raise(7000))  \n"
   ]
  },
  {
   "cell_type": "markdown",
   "metadata": {},
   "source": [
    "### Inheritance\n",
    "\n",
    "Inheritance allows a class (child class) to inherit attributes and methods from another class (parent class). This promotes code reusability.\n"
   ]
  },
  {
   "cell_type": "code",
   "execution_count": 16,
   "metadata": {},
   "outputs": [
    {
     "name": "stdout",
     "output_type": "stream",
     "text": [
      "Buddy says Woof!\n",
      "Whiskers says Meow!\n"
     ]
    }
   ],
   "source": [
    "# Parent class\n",
    "class Animal:\n",
    "    def __init__(self, name):\n",
    "        self.name = name\n",
    "\n",
    "    def speak(self):\n",
    "        return f\"{self.name} makes a sound.\"\n",
    "\n",
    "# Child class inheriting from Animal\n",
    "class Dog(Animal):\n",
    "    def speak(self):\n",
    "        return f\"{self.name} says Woof!\"\n",
    "\n",
    "# Child class inheriting from Animal\n",
    "class Cat(Animal):\n",
    "    def speak(self):\n",
    "        return f\"{self.name} says Meow!\"\n",
    "\n",
    "# Create objects of Dog and Cat classes\n",
    "dog = Dog(\"Buddy\")\n",
    "cat = Cat(\"Whiskers\")\n",
    "\n",
    "# Accessing methods\n",
    "print(dog.speak())  \n",
    "print(cat.speak())  \n"
   ]
  },
  {
   "cell_type": "code",
   "execution_count": 17,
   "metadata": {},
   "outputs": [
    {
     "name": "stdout",
     "output_type": "stream",
     "text": [
      "The engine of Toyota Camry is starting.\n",
      "Toyota Camry says Honk!\n",
      "The engine of Harley-Davidson Sportster is starting.\n",
      "Harley-Davidson Sportster is revving the engine.\n"
     ]
    }
   ],
   "source": [
    "# Parent class\n",
    "class Vehicle:\n",
    "    def __init__(self, make, model):\n",
    "        self.make = make\n",
    "        self.model = model\n",
    "\n",
    "    def start_engine(self):\n",
    "        return f\"The engine of {self.make} {self.model} is starting.\"\n",
    "\n",
    "# Child class inheriting from Vehicle\n",
    "class Car(Vehicle):\n",
    "    def honk(self):\n",
    "        return f\"{self.make} {self.model} says Honk!\"\n",
    "\n",
    "# Child class inheriting from Vehicle\n",
    "class Motorcycle(Vehicle):\n",
    "    def rev_engine(self):\n",
    "        return f\"{self.make} {self.model} is revving the engine.\"\n",
    "\n",
    "# Create objects of Car and Motorcycle classes\n",
    "car = Car(\"Toyota\", \"Camry\")\n",
    "motorcycle = Motorcycle(\"Harley-Davidson\", \"Sportster\")\n",
    "\n",
    "# Accessing parent and child methods\n",
    "print(car.start_engine())  \n",
    "print(car.honk())  \n",
    "print(motorcycle.start_engine())  \n",
    "print(motorcycle.rev_engine())  \n"
   ]
  },
  {
   "cell_type": "code",
   "execution_count": 18,
   "metadata": {},
   "outputs": [
    {
     "name": "stdout",
     "output_type": "stream",
     "text": [
      "Manager: Alice, Salary: 90000, Department: HR\n",
      "Developer: Bob, Salary: 80000, Programming Language: Python\n"
     ]
    }
   ],
   "source": [
    "# Parent class\n",
    "class Employee:\n",
    "    def __init__(self, name, salary):\n",
    "        self.name = name\n",
    "        self.salary = salary\n",
    "\n",
    "    def get_details(self):\n",
    "        return f\"Employee: {self.name}, Salary: {self.salary}\"\n",
    "\n",
    "# Child class inheriting from Employee\n",
    "class Manager(Employee):\n",
    "    def __init__(self, name, salary, department):\n",
    "        super().__init__(name, salary)\n",
    "        self.department = department\n",
    "\n",
    "    def get_details(self):\n",
    "        return f\"Manager: {self.name}, Salary: {self.salary}, Department: {self.department}\"\n",
    "\n",
    "# Child class inheriting from Employee\n",
    "class Developer(Employee):\n",
    "    def __init__(self, name, salary, programming_language):\n",
    "        super().__init__(name, salary)\n",
    "        self.programming_language = programming_language\n",
    "\n",
    "    def get_details(self):\n",
    "        return f\"Developer: {self.name}, Salary: {self.salary}, Programming Language: {self.programming_language}\"\n",
    "\n",
    "# Create objects of Manager and Developer classes\n",
    "manager = Manager(\"Alice\", 90000, \"HR\")\n",
    "developer = Developer(\"Bob\", 80000, \"Python\")\n",
    "\n",
    "# Accessing parent and child methods\n",
    "print(manager.get_details())  \n",
    "print(developer.get_details())  \n"
   ]
  },
  {
   "cell_type": "code",
   "execution_count": 8,
   "metadata": {},
   "outputs": [
    {
     "name": "stdout",
     "output_type": "stream",
     "text": [
      "The color is Red\n",
      "Area of Circle: 78.53975\n",
      "The color is Blue\n",
      "Area of Rectangle: 24\n"
     ]
    }
   ],
   "source": [
    "# Parent class\n",
    "class Shape:\n",
    "    def __init__(self, color):\n",
    "        self.color = color\n",
    "\n",
    "    def get_color(self):\n",
    "        return f\"The color is {self.color}\"\n",
    "\n",
    "# Child class inheriting from Shape\n",
    "class Circle(Shape):\n",
    "    def __init__(self, color, radius):\n",
    "        super().__init__(color)\n",
    "        self.radius = radius\n",
    "\n",
    "    def get_area(self):\n",
    "        return 3.14159 * self.radius * self.radius\n",
    "\n",
    "# Child class inheriting from Shape\n",
    "class Rectangle(Shape):\n",
    "    def __init__(self, color, width, height):\n",
    "        super().__init__(color)\n",
    "        self.width = width\n",
    "        self.height = height\n",
    "\n",
    "    def get_area(self):\n",
    "        return self.width * self.height\n",
    "\n",
    "# Create objects of Circle and Rectangle classes\n",
    "circle = Circle(\"Red\", 5)\n",
    "rectangle = Rectangle(\"Blue\", 4, 6)\n",
    "\n",
    "# Accessing parent and child methods\n",
    "print(circle.get_color())  \n",
    "print(f\"Area of Circle: {circle.get_area()}\")  \n",
    "print(rectangle.get_color())  \n",
    "print(f\"Area of Rectangle: {rectangle.get_area()}\")  \n"
   ]
  },
  {
   "cell_type": "markdown",
   "metadata": {},
   "source": [
    "### Polymorphism\n",
    "\n",
    "Polymorphism allows methods to do different things based on the object it is acting upon. \n",
    "\n",
    "It enables methods to have the same name but behave differently based on the object type.\n"
   ]
  },
  {
   "cell_type": "code",
   "execution_count": 5,
   "metadata": {},
   "outputs": [
    {
     "name": "stdout",
     "output_type": "stream",
     "text": [
      "Woof!\n",
      "Meow!\n",
      "Tweet!\n"
     ]
    }
   ],
   "source": [
    "class Animal:\n",
    "    def speak(self):\n",
    "        pass\n",
    "\n",
    "class Dog(Animal):\n",
    "    def speak(self):\n",
    "        return \"Woof!\"\n",
    "\n",
    "class Cat(Animal):\n",
    "    def speak(self):\n",
    "        return \"Meow!\"\n",
    "\n",
    "class Bird(Animal):\n",
    "    def speak(self):\n",
    "        return \"Tweet!\"\n",
    "\n",
    "# Create a list of different animals\n",
    "animals = [Dog(), Cat(), Bird()]\n",
    "\n",
    "# Loop through the list and call the speak method\n",
    "for animal in animals:\n",
    "    print(animal.speak())\n"
   ]
  },
  {
   "cell_type": "code",
   "execution_count": 6,
   "metadata": {},
   "outputs": [
    {
     "name": "stdout",
     "output_type": "stream",
     "text": [
      "20\n",
      "28.274309999999996\n",
      "21.0\n"
     ]
    }
   ],
   "source": [
    "class Shape:\n",
    "    def area(self):\n",
    "        pass\n",
    "\n",
    "class Rectangle(Shape):\n",
    "    def __init__(self, width, height):\n",
    "        self.width = width\n",
    "        self.height = height\n",
    "\n",
    "    def area(self):\n",
    "        return self.width * self.height\n",
    "\n",
    "class Circle(Shape):\n",
    "    def __init__(self, radius):\n",
    "        self.radius = radius\n",
    "\n",
    "    def area(self):\n",
    "        return 3.14159 * self.radius * self.radius\n",
    "\n",
    "class Triangle(Shape):\n",
    "    def __init__(self, base, height):\n",
    "        self.base = base\n",
    "        self.height = height\n",
    "\n",
    "    def area(self):\n",
    "        return 0.5 * self.base * self.height\n",
    "\n",
    "# Create a list of different shapes\n",
    "shapes = [Rectangle(4, 5), Circle(3), Triangle(6, 7)]\n",
    "\n",
    "# Loop through the list and call the area method\n",
    "for shape in shapes:\n",
    "    print(shape.area())\n"
   ]
  },
  {
   "cell_type": "code",
   "execution_count": 9,
   "metadata": {},
   "outputs": [
    {
     "name": "stdout",
     "output_type": "stream",
     "text": [
      "Vector(6, 8)\n"
     ]
    }
   ],
   "source": [
    "#Polymorphism with Operator Overloading\n",
    "\n",
    "class Vector:\n",
    "    def __init__(self, x, y):\n",
    "        self.x = x\n",
    "        self.y = y\n",
    "\n",
    "    def __add__(self, other):\n",
    "        return Vector(self.x + other.x, self.y + other.y)\n",
    "\n",
    "    def __str__(self):\n",
    "        return f\"Vector({self.x}, {self.y})\"\n",
    "\n",
    "# Create vector objects\n",
    "vector1 = Vector(2, 3)\n",
    "vector2 = Vector(4, 5)\n",
    "\n",
    "# Add vectors using the overloaded + operator\n",
    "vector3 = vector1 + vector2\n",
    "print(vector3)  \n"
   ]
  },
  {
   "cell_type": "markdown",
   "metadata": {},
   "source": [
    "## Exception Handling\n",
    "\n",
    "### try,except,finally"
   ]
  },
  {
   "cell_type": "code",
   "execution_count": 2,
   "metadata": {},
   "outputs": [
    {
     "name": "stdout",
     "output_type": "stream",
     "text": [
      "exception occored: division by zero\n"
     ]
    }
   ],
   "source": [
    "try:\n",
    "    10/0\n",
    "except Exception as e:\n",
    "    print(f\"exception occored: {e}\")\n"
   ]
  },
  {
   "cell_type": "code",
   "execution_count": 15,
   "metadata": {},
   "outputs": [
    {
     "name": "stdout",
     "output_type": "stream",
     "text": [
      "You cannot divide by zero!\n"
     ]
    }
   ],
   "source": [
    "try:\n",
    "    10/0\n",
    "except ZeroDivisionError:\n",
    "    print(\"You cannot divide by zero!\")\n"
   ]
  },
  {
   "cell_type": "code",
   "execution_count": 22,
   "metadata": {},
   "outputs": [
    {
     "name": "stdout",
     "output_type": "stream",
     "text": [
      "You cannot divide by zero!\n"
     ]
    }
   ],
   "source": [
    "try:\n",
    "    number = int(input(\"Enter a number: \"))\n",
    "    result = 10 / number\n",
    "except ValueError:\n",
    "    print(\"Invalid input! Please enter a valid number.\")\n",
    "except ZeroDivisionError:\n",
    "    print(\"You cannot divide by zero!\")\n",
    "except Exception as e:\n",
    "    print(f\"An unexpected error occurred: {e}\")\n"
   ]
  },
  {
   "cell_type": "code",
   "execution_count": 10,
   "metadata": {},
   "outputs": [
    {
     "name": "stdout",
     "output_type": "stream",
     "text": [
      "Invalid input! Please enter a valid number.\n",
      "Execution completed.\n"
     ]
    }
   ],
   "source": [
    "try:\n",
    "    number = int(input(\"Enter a number: \"))\n",
    "    result = 10 / number\n",
    "except ValueError:\n",
    "    print(\"Invalid input! Please enter a valid number.\")\n",
    "except ZeroDivisionError:\n",
    "    print(\"You cannot divide by zero!\")\n",
    "except Exception as e:\n",
    "    print(f\"An unexpected error occurred: {e}\")\n",
    "finally:\n",
    "    print(\"Execution completed.\")\n"
   ]
  },
  {
   "cell_type": "code",
   "execution_count": 17,
   "metadata": {},
   "outputs": [
    {
     "name": "stdout",
     "output_type": "stream",
     "text": [
      "The result is 2.0\n",
      "Execution completed.\n"
     ]
    }
   ],
   "source": [
    "try:\n",
    "    number = int(input(\"Enter a number: \"))\n",
    "    result = 10 / number\n",
    "except ValueError:\n",
    "    print(\"Invalid input! Please enter a valid number.\")\n",
    "except ZeroDivisionError:\n",
    "    print(\"You cannot divide by zero!\")\n",
    "else:\n",
    "    print(f\"The result is {result}\")\n",
    "finally:\n",
    "    print(\"Execution completed.\")\n"
   ]
  },
  {
   "cell_type": "markdown",
   "metadata": {},
   "source": [
    "#### Re-raising Exceptions"
   ]
  },
  {
   "cell_type": "code",
   "execution_count": 18,
   "metadata": {},
   "outputs": [
    {
     "name": "stdout",
     "output_type": "stream",
     "text": [
      "Caught ZeroDivisionError in function\n",
      "Caught ZeroDivisionError in main\n"
     ]
    }
   ],
   "source": [
    "def divide(a, b):\n",
    "    try:\n",
    "        result = a / b\n",
    "    except ZeroDivisionError as e:\n",
    "        print(\"Caught ZeroDivisionError in function\")\n",
    "        raise  # Re-raise the caught exception\n",
    "    return result\n",
    "\n",
    "try:\n",
    "    divide(10, 0)\n",
    "except ZeroDivisionError:\n",
    "    print(\"Caught ZeroDivisionError in main\")\n"
   ]
  },
  {
   "cell_type": "markdown",
   "metadata": {},
   "source": [
    "#### Chaining Exceptions\n",
    "\n",
    "You can chain exceptions to provide additional context when an exception is raised."
   ]
  },
  {
   "cell_type": "code",
   "execution_count": 19,
   "metadata": {},
   "outputs": [
    {
     "name": "stdout",
     "output_type": "stream",
     "text": [
      "Caught RuntimeError: Error in function B\n",
      "Original exception: Error in function A\n"
     ]
    }
   ],
   "source": [
    "def function_a():\n",
    "    raise ValueError(\"Error in function A\")\n",
    "\n",
    "def function_b():\n",
    "    try:\n",
    "        function_a()\n",
    "    except ValueError as e:\n",
    "        raise RuntimeError(\"Error in function B\") from e\n",
    "\n",
    "try:\n",
    "    function_b()\n",
    "except RuntimeError as e:\n",
    "    print(f\"Caught RuntimeError: {e}\")\n",
    "    print(f\"Original exception: {e.__cause__}\")\n"
   ]
  },
  {
   "cell_type": "markdown",
   "metadata": {},
   "source": [
    "### Custom Exception"
   ]
  },
  {
   "cell_type": "code",
   "execution_count": 20,
   "metadata": {},
   "outputs": [
    {
     "name": "stdout",
     "output_type": "stream",
     "text": [
      "10 is positive.\n",
      "NegativeNumberError: -5 - Number must be positive\n"
     ]
    }
   ],
   "source": [
    "class NegativeNumberError(Exception):\n",
    "    \"\"\"Exception raised for errors in the input if the number is negative.\"\"\"\n",
    "\n",
    "    def __init__(self, value, message=\"Number must be positive\"):\n",
    "        self.value = value\n",
    "        self.message = message\n",
    "        super().__init__(self.message)\n",
    "\n",
    "# Function that raises the custom exception\n",
    "def check_positive(number):\n",
    "    if number < 0:\n",
    "        raise NegativeNumberError(number)\n",
    "    return f\"{number} is positive.\"\n",
    "\n",
    "try:\n",
    "    print(check_positive(10))\n",
    "    print(check_positive(-5))\n",
    "except NegativeNumberError as e:\n",
    "    print(f\"NegativeNumberError: {e.value} - {e.message}\")\n"
   ]
  },
  {
   "cell_type": "code",
   "execution_count": 21,
   "metadata": {},
   "outputs": [
    {
     "name": "stdout",
     "output_type": "stream",
     "text": [
      "Age 25 is valid.\n",
      "InvalidAgeError: -3 - Invalid age. Age must be between 0 and 120.\n"
     ]
    }
   ],
   "source": [
    "class InvalidAgeError(Exception):\n",
    "    \"\"\"Exception raised for errors in the input age.\"\"\"\n",
    "\n",
    "    def __init__(self, age, message=\"Invalid age. Age must be between 0 and 120.\"):\n",
    "        self.age = age\n",
    "        self.message = message\n",
    "        super().__init__(self.message)\n",
    "\n",
    "def check_age(age):\n",
    "    if age < 0 or age > 120:\n",
    "        raise InvalidAgeError(age)\n",
    "    return f\"Age {age} is valid.\"\n",
    "\n",
    "try:\n",
    "    print(check_age(25))\n",
    "    print(check_age(-3))\n",
    "except InvalidAgeError as e:\n",
    "    print(f\"InvalidAgeError: {e.age} - {e.message}\")\n"
   ]
  },
  {
   "cell_type": "markdown",
   "metadata": {},
   "source": [
    "## List"
   ]
  },
  {
   "cell_type": "code",
   "execution_count": 1,
   "metadata": {},
   "outputs": [
    {
     "name": "stdout",
     "output_type": "stream",
     "text": [
      "['abc', 34, True, 40, 'male']\n"
     ]
    },
    {
     "data": {
      "text/plain": [
       "list"
      ]
     },
     "execution_count": 1,
     "metadata": {},
     "output_type": "execute_result"
    }
   ],
   "source": [
    "thislist = [\"abc\", 34, True, 40, \"male\"]\n",
    "\n",
    "print(thislist)\n",
    "type(thislist)\n"
   ]
  },
  {
   "cell_type": "markdown",
   "metadata": {},
   "source": [
    "#### The list() Constructor"
   ]
  },
  {
   "cell_type": "code",
   "execution_count": 2,
   "metadata": {},
   "outputs": [
    {
     "name": "stdout",
     "output_type": "stream",
     "text": [
      "['apple', 'banana', 'cherry']\n"
     ]
    },
    {
     "data": {
      "text/plain": [
       "list"
      ]
     },
     "execution_count": 2,
     "metadata": {},
     "output_type": "execute_result"
    }
   ],
   "source": [
    "thislist = list((\"apple\", \"banana\", \"cherry\")) # note the double round-brackets\n",
    "\n",
    "print(thislist)\n",
    "type(thislist)\n"
   ]
  },
  {
   "cell_type": "markdown",
   "metadata": {},
   "source": [
    "#### List Methods\n",
    "\n",
    "**Method**          | **Description**\n",
    "------------------- | -------------------------------------------\n",
    "`append()`          | Adds an element at the end of the list\n",
    "`clear()`           | Removes all the elements from the list\n",
    "`copy()`            | Returns a copy of the list\n",
    "`count()`           | Returns the number of elements with the specified value\n",
    "`extend()`          | Add the elements of a list (or any iterable), to the end of the current list\n",
    "`index()`           | Returns the index of the first element with the specified value\n",
    "`insert()`          | Adds an element at the specified position\n",
    "`pop()`             | Removes the element at the specified position\n",
    "`remove()`          | Removes the item with the specified value\n",
    "`reverse()`         | Reverses the order of the list\n",
    "`sort()`            | Sorts the list\n"
   ]
  },
  {
   "cell_type": "code",
   "execution_count": 2,
   "metadata": {},
   "outputs": [
    {
     "name": "stdout",
     "output_type": "stream",
     "text": [
      "['apple', 'banana', 'cherry', 'date']\n"
     ]
    }
   ],
   "source": [
    "# append()\n",
    "fruits = [\"apple\", \"banana\", \"cherry\"]\n",
    "fruits.append(\"date\")\n",
    "print(fruits)  # Output: ['apple', 'banana', 'cherry', 'date']\n"
   ]
  },
  {
   "cell_type": "code",
   "execution_count": 3,
   "metadata": {},
   "outputs": [
    {
     "name": "stdout",
     "output_type": "stream",
     "text": [
      "[]\n"
     ]
    }
   ],
   "source": [
    "# clear()\n",
    "fruits = [\"apple\", \"banana\", \"cherry\"]\n",
    "fruits.clear()\n",
    "print(fruits)  # Output: []\n"
   ]
  },
  {
   "cell_type": "code",
   "execution_count": 4,
   "metadata": {},
   "outputs": [
    {
     "name": "stdout",
     "output_type": "stream",
     "text": [
      "['apple', 'banana', 'cherry']\n"
     ]
    }
   ],
   "source": [
    "# copy()\n",
    "fruits = [\"apple\", \"banana\", \"cherry\"]\n",
    "fruits_copy = fruits.copy()\n",
    "print(fruits_copy)  # Output: ['apple', 'banana', 'cherry']\n"
   ]
  },
  {
   "cell_type": "code",
   "execution_count": 5,
   "metadata": {},
   "outputs": [
    {
     "name": "stdout",
     "output_type": "stream",
     "text": [
      "2\n"
     ]
    }
   ],
   "source": [
    "# count()\n",
    "fruits = [\"apple\", \"banana\", \"cherry\", \"apple\"]\n",
    "count_apple = fruits.count(\"apple\")\n",
    "print(count_apple)  # Output: 2\n"
   ]
  },
  {
   "cell_type": "code",
   "execution_count": 30,
   "metadata": {},
   "outputs": [
    {
     "name": "stdout",
     "output_type": "stream",
     "text": [
      "['apple', 'banana', 'cherry', 'date', 'elderberry']\n"
     ]
    }
   ],
   "source": [
    "# extend()\n",
    "fruits = [\"apple\", \"banana\", \"cherry\"]\n",
    "more_fruits = [\"date\", \"elderberry\"]\n",
    "fruits.extend(more_fruits)\n",
    "print(fruits)  # Output: ['apple', 'banana', 'cherry', 'date', 'elderberry']\n"
   ]
  },
  {
   "cell_type": "code",
   "execution_count": 7,
   "metadata": {},
   "outputs": [
    {
     "name": "stdout",
     "output_type": "stream",
     "text": [
      "1\n"
     ]
    }
   ],
   "source": [
    "# index()\n",
    "fruits = [\"apple\", \"banana\", \"cherry\"]\n",
    "index_banana = fruits.index(\"banana\")\n",
    "print(index_banana)  # Output: 1\n"
   ]
  },
  {
   "cell_type": "code",
   "execution_count": 8,
   "metadata": {},
   "outputs": [
    {
     "name": "stdout",
     "output_type": "stream",
     "text": [
      "['apple', 'date', 'banana', 'cherry']\n"
     ]
    }
   ],
   "source": [
    "# insert()\n",
    "fruits = [\"apple\", \"banana\", \"cherry\"]\n",
    "fruits.insert(1, \"date\")\n",
    "print(fruits)  # Output: ['apple', 'date', 'banana', 'cherry']\n"
   ]
  },
  {
   "cell_type": "code",
   "execution_count": 9,
   "metadata": {},
   "outputs": [
    {
     "name": "stdout",
     "output_type": "stream",
     "text": [
      "banana\n",
      "['apple', 'cherry']\n"
     ]
    }
   ],
   "source": [
    "# pop()\n",
    "fruits = [\"apple\", \"banana\", \"cherry\"]\n",
    "popped_fruit = fruits.pop(1)\n",
    "print(popped_fruit)  # Output: 'banana'\n",
    "print(fruits)        # Output: ['apple', 'cherry']\n"
   ]
  },
  {
   "cell_type": "code",
   "execution_count": 10,
   "metadata": {},
   "outputs": [
    {
     "name": "stdout",
     "output_type": "stream",
     "text": [
      "['apple', 'cherry']\n"
     ]
    }
   ],
   "source": [
    "# remove()\n",
    "fruits = [\"apple\", \"banana\", \"cherry\"]\n",
    "fruits.remove(\"banana\")\n",
    "print(fruits)  # Output: ['apple', 'cherry']\n"
   ]
  },
  {
   "cell_type": "code",
   "execution_count": 11,
   "metadata": {},
   "outputs": [
    {
     "name": "stdout",
     "output_type": "stream",
     "text": [
      "['cherry', 'banana', 'apple']\n"
     ]
    }
   ],
   "source": [
    "# reverse()\n",
    "fruits = [\"apple\", \"banana\", \"cherry\"]\n",
    "fruits.reverse()\n",
    "print(fruits)  # Output: ['cherry', 'banana', 'apple']\n"
   ]
  },
  {
   "cell_type": "code",
   "execution_count": 14,
   "metadata": {},
   "outputs": [
    {
     "name": "stdout",
     "output_type": "stream",
     "text": [
      "['apple', 'banana', 'cherry']\n",
      "['pineapple', 'orange', 'mango', 'kiwi', 'banana']\n"
     ]
    }
   ],
   "source": [
    "# sort()\n",
    "fruits = [\"cherry\", \"banana\", \"apple\"]\n",
    "fruits.sort()\n",
    "print(fruits)  # Output: ['apple', 'banana', 'cherry']\n",
    "\n",
    "# sort() in decending\n",
    "thislist = [\"orange\", \"mango\", \"kiwi\", \"pineapple\", \"banana\"]\n",
    "thislist.sort(reverse = True)\n",
    "print(thislist)\n"
   ]
  },
  {
   "cell_type": "markdown",
   "metadata": {},
   "source": [
    "##### Customize sort funnction"
   ]
  },
  {
   "cell_type": "code",
   "execution_count": 5,
   "metadata": {},
   "outputs": [
    {
     "name": "stdout",
     "output_type": "stream",
     "text": [
      "[50, 65, 23, 82, 100]\n"
     ]
    }
   ],
   "source": [
    "def myfunc(n):\n",
    "  return abs(n - 50)             #based on how close the number is to 50\n",
    "\n",
    "thislist = [100, 50, 65, 82, 23]\n",
    "\n",
    "thislist.sort(key = myfunc)\n",
    "\n",
    "print(thislist)\n"
   ]
  },
  {
   "cell_type": "markdown",
   "metadata": {},
   "source": [
    "#### List Comprehensions"
   ]
  },
  {
   "cell_type": "code",
   "execution_count": 30,
   "metadata": {},
   "outputs": [
    {
     "name": "stdout",
     "output_type": "stream",
     "text": [
      "[1, 4, 9, 16, 25]\n"
     ]
    }
   ],
   "source": [
    "numbers = [1, 2, 3, 4, 5]\n",
    "\n",
    "squares = [num**2 for num in numbers]\n",
    "\n",
    "print(squares)  \n"
   ]
  },
  {
   "cell_type": "code",
   "execution_count": 31,
   "metadata": {},
   "outputs": [
    {
     "name": "stdout",
     "output_type": "stream",
     "text": [
      "[0, 2, 4, 6, 8]\n"
     ]
    }
   ],
   "source": [
    "numbers = range(10)\n",
    "\n",
    "even_numbers = [num for num in numbers if num % 2 == 0]\n",
    "\n",
    "print(even_numbers)  \n"
   ]
  },
  {
   "cell_type": "code",
   "execution_count": 32,
   "metadata": {},
   "outputs": [
    {
     "name": "stdout",
     "output_type": "stream",
     "text": [
      "[[1, 2, 3], [2, 4, 6], [3, 6, 9]]\n"
     ]
    }
   ],
   "source": [
    "# Nested list comprehension to create a 3x3 matrix\n",
    "matrix = [[row * col for col in range(1, 4)] for row in range(1, 4)]\n",
    "\n",
    "print(matrix)\n",
    "# Output:\n",
    "# [\n",
    "#     [1, 2, 3],\n",
    "#     [2, 4, 6],\n",
    "#     [3, 6, 9]\n",
    "# ]\n"
   ]
  },
  {
   "cell_type": "markdown",
   "metadata": {},
   "source": [
    "## Dictionaries"
   ]
  },
  {
   "cell_type": "code",
   "execution_count": 31,
   "metadata": {},
   "outputs": [
    {
     "name": "stdout",
     "output_type": "stream",
     "text": [
      "{'brand': 'Ford', 'model': 'Mustang', 'year': 1969, 'colors': ['red', 'white', 'blue']}\n"
     ]
    },
    {
     "data": {
      "text/plain": [
       "dict"
      ]
     },
     "execution_count": 31,
     "metadata": {},
     "output_type": "execute_result"
    }
   ],
   "source": [
    "thisdict = {\n",
    "  \"brand\": \"Ford\",\n",
    "  \"model\": \"Mustang\",\n",
    "  \"year\": 1969,\n",
    "  \"colors\": [\"red\", \"white\", \"blue\"]\n",
    "}\n",
    "\n",
    "print(thisdict)\n",
    "type(thisdict)\n"
   ]
  },
  {
   "cell_type": "markdown",
   "metadata": {},
   "source": [
    "#### The dict() Constructor"
   ]
  },
  {
   "cell_type": "code",
   "execution_count": 32,
   "metadata": {},
   "outputs": [
    {
     "name": "stdout",
     "output_type": "stream",
     "text": [
      "{'name': 'Gokul', 'age': 23, 'country': 'India'}\n"
     ]
    },
    {
     "data": {
      "text/plain": [
       "dict"
      ]
     },
     "execution_count": 32,
     "metadata": {},
     "output_type": "execute_result"
    }
   ],
   "source": [
    "thisdict = dict(name = \"Gokul\", age = 23, country = \"India\")\n",
    "\n",
    "print(thisdict)\n",
    "type(thisdict)\n"
   ]
  },
  {
   "cell_type": "markdown",
   "metadata": {},
   "source": [
    "**Method**            | **Description**\n",
    "--------------------- | ---------------------------------------------------------\n",
    "`clear()`             | Removes all the elements from the dictionary\n",
    "`copy()`              | Returns a copy of the dictionary\n",
    "`fromkeys()`          | Returns a dictionary with the specified keys and value\n",
    "`get()`               | Returns the value of the specified key\n",
    "`items()`             | Returns a list containing a tuple for each key value pair\n",
    "`keys()`              | Returns a list containing the dictionary's keys\n",
    "`pop()`               | Removes the element with the specified key\n",
    "`popitem()`           | Removes the last inserted key-value pair\n",
    "`setdefault()`        | Returns the value of the specified key. If the key does not exist: insert the key, with the specified value\n",
    "`update()`            | Updates the dictionary with the specified key-value pairs\n",
    "`values()`            | Returns a list of all the values in the dictionary\n"
   ]
  },
  {
   "cell_type": "code",
   "execution_count": 35,
   "metadata": {},
   "outputs": [
    {
     "name": "stdout",
     "output_type": "stream",
     "text": [
      "{}\n"
     ]
    }
   ],
   "source": [
    "# clear()\n",
    "my_dict = {\"apple\": 1, \"banana\": 2, \"cherry\": 3}\n",
    "my_dict.clear()\n",
    "print(my_dict)  # Output: {}\n"
   ]
  },
  {
   "cell_type": "code",
   "execution_count": 34,
   "metadata": {},
   "outputs": [
    {
     "name": "stdout",
     "output_type": "stream",
     "text": [
      "{'apple': 1, 'banana': 2, 'cherry': 3}\n"
     ]
    }
   ],
   "source": [
    "# copy()\n",
    "my_dict = {\"apple\": 1, \"banana\": 2, \"cherry\": 3}\n",
    "copy_dict = my_dict.copy()\n",
    "print(copy_dict)  # Output: {'apple': 1, 'banana': 2, 'cherry': 3}\n"
   ]
  },
  {
   "cell_type": "code",
   "execution_count": 39,
   "metadata": {},
   "outputs": [
    {
     "name": "stdout",
     "output_type": "stream",
     "text": [
      "{'apple': 0, 'banana': 0, 'cherry': 0}\n"
     ]
    }
   ],
   "source": [
    "# fromkeys()\n",
    "keys = [\"apple\", \"banana\", \"cherry\"]\n",
    "value = 0\n",
    "new_dict = dict.fromkeys(keys, value)\n",
    "print(new_dict)  # Output: {'apple': 0, 'banana': 0, 'cherry': 0}\n"
   ]
  },
  {
   "cell_type": "code",
   "execution_count": 40,
   "metadata": {},
   "outputs": [
    {
     "name": "stdout",
     "output_type": "stream",
     "text": [
      "2\n"
     ]
    }
   ],
   "source": [
    "# get()\n",
    "my_dict = {\"apple\": 1, \"banana\": 2, \"cherry\": 3}\n",
    "value = my_dict.get(\"banana\")\n",
    "print(value)  # Output: 2\n"
   ]
  },
  {
   "cell_type": "code",
   "execution_count": 41,
   "metadata": {},
   "outputs": [
    {
     "name": "stdout",
     "output_type": "stream",
     "text": [
      "dict_items([('apple', 1), ('banana', 2), ('cherry', 3)])\n"
     ]
    }
   ],
   "source": [
    "# items()\n",
    "my_dict = {\"apple\": 1, \"banana\": 2, \"cherry\": 3}\n",
    "items = my_dict.items()\n",
    "print(items)  # Output: dict_items([('apple', 1), ('banana', 2), ('cherry', 3)])\n"
   ]
  },
  {
   "cell_type": "code",
   "execution_count": 42,
   "metadata": {},
   "outputs": [
    {
     "name": "stdout",
     "output_type": "stream",
     "text": [
      "dict_keys(['apple', 'banana', 'cherry'])\n"
     ]
    }
   ],
   "source": [
    "# keys()\n",
    "my_dict = {\"apple\": 1, \"banana\": 2, \"cherry\": 3}\n",
    "keys = my_dict.keys()\n",
    "print(keys)  # Output: dict_keys(['apple', 'banana', 'cherry'])\n"
   ]
  },
  {
   "cell_type": "code",
   "execution_count": 43,
   "metadata": {},
   "outputs": [
    {
     "name": "stdout",
     "output_type": "stream",
     "text": [
      "dict_values([1, 2, 3])\n"
     ]
    }
   ],
   "source": [
    "# values()\n",
    "my_dict = {\"apple\": 1, \"banana\": 2, \"cherry\": 3}\n",
    "values = my_dict.values()\n",
    "print(values)  # Output: dict_values([1, 2, 3])\n"
   ]
  },
  {
   "cell_type": "code",
   "execution_count": 44,
   "metadata": {},
   "outputs": [
    {
     "name": "stdout",
     "output_type": "stream",
     "text": [
      "{'apple': 1, 'banana': 2, 'cherry': 3, 'date': 4, 'elderberry': 5}\n"
     ]
    }
   ],
   "source": [
    "# update()\n",
    "my_dict = {\"apple\": 1, \"banana\": 2, \"cherry\": 3}\n",
    "my_dict.update({\"date\": 4, \"elderberry\": 5})\n",
    "print(my_dict)  # Output: {'apple': 1, 'banana': 2, 'cherry': 3, 'date': 4, 'elderberry': 5}\n"
   ]
  },
  {
   "cell_type": "code",
   "execution_count": 45,
   "metadata": {},
   "outputs": [
    {
     "name": "stdout",
     "output_type": "stream",
     "text": [
      "2\n",
      "{'apple': 1, 'cherry': 3}\n"
     ]
    }
   ],
   "source": [
    "# pop()\n",
    "my_dict = {\"apple\": 1, \"banana\": 2, \"cherry\": 3}\n",
    "value = my_dict.pop(\"banana\")\n",
    "print(value)  # Output: 2\n",
    "print(my_dict)  # Output: {'apple': 1, 'cherry': 3}\n"
   ]
  },
  {
   "cell_type": "code",
   "execution_count": 46,
   "metadata": {},
   "outputs": [
    {
     "name": "stdout",
     "output_type": "stream",
     "text": [
      "('cherry', 3)\n",
      "{'apple': 1, 'banana': 2}\n"
     ]
    }
   ],
   "source": [
    "# popitems()\n",
    "my_dict = {\"apple\": 1, \"banana\": 2, \"cherry\": 3}\n",
    "item = my_dict.popitem()\n",
    "print(item)  # Output: ('cherry', 3)\n",
    "print(my_dict)  # Output: {'apple': 1, 'banana': 2}\n"
   ]
  },
  {
   "cell_type": "code",
   "execution_count": 47,
   "metadata": {},
   "outputs": [
    {
     "name": "stdout",
     "output_type": "stream",
     "text": [
      "2\n",
      "5\n",
      "{'apple': 1, 'banana': 2, 'cherry': 3, 'date': 5}\n"
     ]
    }
   ],
   "source": [
    "# setdefault()\n",
    "my_dict = {\"apple\": 1, \"banana\": 2, \"cherry\": 3}\n",
    "value = my_dict.setdefault(\"banana\", 5)\n",
    "print(value)  # Output: 2\n",
    "value = my_dict.setdefault(\"date\", 5)\n",
    "print(value)  # Output: 5\n",
    "print(my_dict)  # Output: {'apple': 1, 'banana': 2, 'cherry': 3, 'date': 5}\n"
   ]
  },
  {
   "cell_type": "markdown",
   "metadata": {},
   "source": [
    "### loop through a dictionaries"
   ]
  },
  {
   "cell_type": "code",
   "execution_count": 61,
   "metadata": {},
   "outputs": [
    {
     "name": "stdout",
     "output_type": "stream",
     "text": [
      "brand\n",
      "model\n",
      "year\n",
      "colors\n",
      "\n",
      "brand model year colors \n",
      "Ford Mustang 1969 ['red', 'white', 'blue'] \n",
      "Ford Mustang 1969 ['red', 'white', 'blue'] \n",
      "\n",
      "brand : Ford\n",
      "model : Mustang\n",
      "year : 1969\n",
      "colors : ['red', 'white', 'blue']\n"
     ]
    }
   ],
   "source": [
    "thisdict = {\n",
    "  \"brand\": \"Ford\",\n",
    "  \"model\": \"Mustang\",\n",
    "  \"year\": 1969,\n",
    "  \"colors\": [\"red\", \"white\", \"blue\"]\n",
    "}\n",
    "\n",
    "for x in thisdict:                    #Print all key names in the dictionary\n",
    "  print(x)\n",
    "print()\n",
    "\n",
    "for x in thisdict.keys():             #also use the keys() method to return the keys of a dictionary\n",
    "  print(x,end = ' ')\n",
    "print()\n",
    "\n",
    "for x in thisdict:                    #Print all values in the dictionary\n",
    "  print(thisdict[x],end = ' ')\n",
    "print()\n",
    "\n",
    "for x in thisdict.values():           #also use the values() method to return values of a dictionary\n",
    "  print(x,end = ' ')\n",
    "print()\n",
    "print()\n",
    "\n",
    "for x, y in thisdict.items():         #Loop through both keys and values, by using the items() method\n",
    "  \n",
    "  print(x, \":\", y)\n",
    "\n"
   ]
  },
  {
   "cell_type": "markdown",
   "metadata": {},
   "source": [
    "#### Nested Dictionaries "
   ]
  },
  {
   "cell_type": "code",
   "execution_count": 67,
   "metadata": {},
   "outputs": [
    {
     "name": "stdout",
     "output_type": "stream",
     "text": [
      "{'child_1': {'name': 'Business', 'year': 2017}, 'child_2': {'name': 'Dream', 'year': 2012}, 'child_3': {'name': 'Empire', 'year': 2021}}\n",
      "\n",
      "Dream\n"
     ]
    }
   ],
   "source": [
    "myfamily = {\n",
    "    \n",
    "  \"child_1\" : {\n",
    "    \"name\" : \"Business\",\n",
    "    \"year\" : 2017\n",
    "  },\n",
    "  \"child_2\" : {\n",
    "    \"name\" : \"Dream\",\n",
    "    \"year\" : 2012\n",
    "  },\n",
    "  \"child_3\" : {\n",
    "    \"name\" : \"Empire\",\n",
    "    \"year\" : 2021\n",
    "  }\n",
    "    \n",
    "} \n",
    "\n",
    "print(myfamily)\n",
    "print()\n",
    "print(myfamily[\"child_2\"][\"name\"])\n"
   ]
  },
  {
   "cell_type": "code",
   "execution_count": 65,
   "metadata": {},
   "outputs": [
    {
     "name": "stdout",
     "output_type": "stream",
     "text": [
      "{'name': 'Empire', 'year': 2021}\n",
      "{'child-1': {'name': 'Business', 'year': 2017}, 'child-2': {'name': 'Dream', 'year': 2012}, 'child-3': {'name': 'Empire', 'year': 2021}}\n",
      "Dream\n"
     ]
    }
   ],
   "source": [
    "child_1 = {\n",
    "    \"name\" : \"Business\",\n",
    "    \"year\" : 2017\n",
    "  }\n",
    "\n",
    "child_2 = {\n",
    "    \"name\" : \"Dream\",\n",
    "    \"year\" : 2012\n",
    "  }\n",
    "\n",
    "child_3 = {\n",
    "    \"name\" : \"Empire\",\n",
    "    \"year\" : 2021\n",
    "  }\n",
    "\n",
    "myfamily = {\n",
    "  \"child-1\" : child_1,\n",
    "  \"child-2\" : child_2,\n",
    "  \"child-3\" : child_3\n",
    "}\n",
    "\n",
    "print(child_3)\n",
    "\n",
    "print(myfamily)\n",
    "\n",
    "print(myfamily[\"child-2\"][\"name\"])\n"
   ]
  },
  {
   "cell_type": "markdown",
   "metadata": {},
   "source": [
    "#### Dictionary Comprehension"
   ]
  },
  {
   "cell_type": "code",
   "execution_count": 23,
   "metadata": {},
   "outputs": [
    {
     "name": "stdout",
     "output_type": "stream",
     "text": [
      "{1: 1, 2: 4, 3: 9, 4: 16, 5: 25}\n"
     ]
    }
   ],
   "source": [
    "numbers = [1, 2, 3, 4, 5]\n",
    "\n",
    "squares = {num: num**2 for num in numbers}\n",
    "\n",
    "print(squares) \n"
   ]
  },
  {
   "cell_type": "code",
   "execution_count": 37,
   "metadata": {},
   "outputs": [
    {
     "name": "stdout",
     "output_type": "stream",
     "text": [
      "{1: None, 2: 4, 3: None, 4: 16, 5: None, 6: 36, 7: None, 8: 64, 9: None}\n"
     ]
    }
   ],
   "source": [
    "numbers = range(1,10)\n",
    "\n",
    "even_squares = {num: (num**2 if num % 2 == 0 else None) for num in numbers}\n",
    "\n",
    "print(even_squares)  \n"
   ]
  },
  {
   "cell_type": "code",
   "execution_count": 29,
   "metadata": {},
   "outputs": [
    {
     "name": "stdout",
     "output_type": "stream",
     "text": [
      "{1: {1: 1, 2: 2, 3: 3, 4: 4, 5: 5}, 2: {1: 2, 2: 4, 3: 6, 4: 8, 5: 10}, 3: {1: 3, 2: 6, 3: 9, 4: 12, 5: 15}, 4: {1: 4, 2: 8, 3: 12, 4: 16, 5: 20}, 5: {1: 5, 2: 10, 3: 15, 4: 20, 5: 25}}\n"
     ]
    }
   ],
   "source": [
    "# Nested dictionary comprehension to create a multiplication table\n",
    "multiplication_table = {i: {j: i * j for j in range(1, 6)} for i in range(1, 6)}\n",
    "\n",
    "print(multiplication_table)\n",
    "# Output:\n",
    "# {\n",
    "#     1: {1: 1, 2: 2,  3: 3,  4: 4,  5: 5},\n",
    "#     2: {1: 2, 2: 4,  3: 6,  4: 8,  5: 10},\n",
    "#     3: {1: 3, 2: 6,  3: 9,  4: 12, 5: 15},\n",
    "#     4: {1: 4, 2: 8,  3: 12, 4: 16, 5: 20},\n",
    "#     5: {1: 5, 2: 10, 3: 15, 4: 20, 5: 25}\n",
    "# }\n"
   ]
  },
  {
   "cell_type": "markdown",
   "metadata": {},
   "source": [
    "### Tuple\n",
    "\n",
    "- Tuples are immutable, which means they cannot be changed after their creation. \n",
    "\n",
    "- Therefore, they have fewer methods compared to lists and dictionaries. \n",
    "\n",
    "- These methods are primarily used for querying the contents of a tuple.\n",
    "\n",
    "**Method**  | **Description**\n",
    "----------- | ---------------------------------------------------------------------\n",
    "`count()`   | Returns the number of times a specified value occurs in a tuple.\n",
    "`index()`   | Searches the tuple for a specified value and returns the position of where it was found.\n"
   ]
  },
  {
   "cell_type": "code",
   "execution_count": 69,
   "metadata": {},
   "outputs": [
    {
     "name": "stdout",
     "output_type": "stream",
     "text": [
      "3\n"
     ]
    }
   ],
   "source": [
    "# count()\n",
    "my_tuple = (1, 2, 3, 4, 2, 2, 5)\n",
    "\n",
    "# Count how many times the value 2 appears in the tuple\n",
    "count_2 = my_tuple.count(2)\n",
    "print(count_2)  # Output: 3\n"
   ]
  },
  {
   "cell_type": "code",
   "execution_count": 70,
   "metadata": {},
   "outputs": [
    {
     "name": "stdout",
     "output_type": "stream",
     "text": [
      "2\n",
      "1\n"
     ]
    }
   ],
   "source": [
    "# index()\n",
    "my_tuple = (1, 2, 3, 4, 2, 2, 5)\n",
    "\n",
    "# Find the index of the first occurrence of the value 3\n",
    "index_3 = my_tuple.index(3)\n",
    "print(index_3)  # Output: 2\n",
    "\n",
    "# Find the index of the first occurrence of the value 2\n",
    "index_2 = my_tuple.index(2)\n",
    "print(index_2)  # Output: 1\n"
   ]
  },
  {
   "cell_type": "markdown",
   "metadata": {},
   "source": [
    "### Set\n",
    "\n",
    "Unique Elements: Duplicate elements are automatically removed.\n",
    "\n",
    "**Method**                    | **Description**\n",
    "----------------------------- | -------------------------------------------------------------------------\n",
    "`add()`                       | Adds an element to the set.\n",
    "`clear()`                     | Removes all the elements from the set.\n",
    "`copy()`                      | Returns a copy of the set.\n",
    "`difference()`                | Returns a set containing the difference between two or more sets.\n",
    "`difference_update()`         | Removes the items in this set that are also included in another, specified set.\n",
    "`discard()`                   | Removes the specified element.\n",
    "`intersection()`              | Returns a set that is the intersection of two or more sets.\n",
    "`intersection_update()`       | Removes the items in this set that are not present in other, specified set(s).\n",
    "`isdisjoint()`                | Returns whether two sets have an intersection or not.\n",
    "`issubset()`                  | Returns whether another set contains this set or not.\n",
    "`issuperset()`                | Returns whether this set contains another set or not.\n",
    "`pop()`                       | Removes and returns an arbitrary element from the set.\n",
    "`remove()`                    | Removes the specified element.\n",
    "`symmetric_difference()`      | Returns a set with the symmetric differences of two sets.\n",
    "`symmetric_difference_update()` | Inserts the symmetric differences from this set and another.\n",
    "`union()`                     | Returns a set containing the union of sets.\n",
    "`update()`                    | Updates the set with the union of this set and others.\n",
    "\n"
   ]
  },
  {
   "cell_type": "code",
   "execution_count": 71,
   "metadata": {},
   "outputs": [
    {
     "name": "stdout",
     "output_type": "stream",
     "text": [
      "{1, 2, 3, 4, 5}\n",
      "{1, 2, 3}\n"
     ]
    },
    {
     "data": {
      "text/plain": [
       "set"
      ]
     },
     "execution_count": 71,
     "metadata": {},
     "output_type": "execute_result"
    }
   ],
   "source": [
    "# Creating a set with curly braces\n",
    "my_set = {1, 2, 3, 4, 5}\n",
    "print(my_set)  # Output: {1, 2, 3, 4, 5}\n",
    "type(my_set)\n",
    "\n",
    "# Creating a set with the set() function\n",
    "another_set = set([1, 2, 3, 2, 1])\n",
    "print(another_set)  # Output: {1, 2, 3}  (duplicates are removed)\n",
    "type(another_set)\n"
   ]
  },
  {
   "cell_type": "code",
   "execution_count": 1,
   "metadata": {},
   "outputs": [
    {
     "name": "stdout",
     "output_type": "stream",
     "text": [
      "{'date', 'apple', 'banana', 'cherry'}\n"
     ]
    }
   ],
   "source": [
    "# add()\n",
    "fruits = {\"apple\", \"banana\", \"cherry\"}\n",
    "fruits.add(\"date\")\n",
    "print(fruits)  # Output: {'apple', 'banana', 'cherry', 'date'}\n"
   ]
  },
  {
   "cell_type": "code",
   "execution_count": 2,
   "metadata": {},
   "outputs": [
    {
     "name": "stdout",
     "output_type": "stream",
     "text": [
      "set()\n"
     ]
    }
   ],
   "source": [
    "# clear()\n",
    "fruits = {\"apple\", \"banana\", \"cherry\"}\n",
    "fruits.clear()\n",
    "print(fruits)  # Output: set()\n"
   ]
  },
  {
   "cell_type": "code",
   "execution_count": 10,
   "metadata": {},
   "outputs": [
    {
     "name": "stdout",
     "output_type": "stream",
     "text": [
      "{'apple', 'banana', 'cherry'}\n"
     ]
    }
   ],
   "source": [
    "# copy()\n",
    "fruits = {\"apple\", \"banana\", \"cherry\"}\n",
    "copy_fruits = fruits.copy()\n",
    "print(copy_fruits)  # Output: {'apple', 'banana', 'cherry'}\n"
   ]
  },
  {
   "cell_type": "code",
   "execution_count": 11,
   "metadata": {},
   "outputs": [
    {
     "name": "stdout",
     "output_type": "stream",
     "text": [
      "{'apple', 'cherry'}\n"
     ]
    }
   ],
   "source": [
    "# discard()\n",
    "fruits = {\"apple\", \"banana\", \"cherry\"}\n",
    "fruits.discard(\"banana\")\n",
    "print(fruits)  # Output: {'apple', 'cherry'}\n"
   ]
  },
  {
   "cell_type": "code",
   "execution_count": 17,
   "metadata": {},
   "outputs": [
    {
     "name": "stdout",
     "output_type": "stream",
     "text": [
      "apple\n",
      "{'banana', 'cherry'}\n"
     ]
    }
   ],
   "source": [
    "# pop()\n",
    "fruits = {\"apple\", \"banana\", \"cherry\"}\n",
    "popped_fruit = fruits.pop()\n",
    "print(popped_fruit)  # Output: 'apple' (or another element, sets are unordered)\n",
    "print(fruits)        # Output: {'banana', 'cherry'}\n"
   ]
  },
  {
   "cell_type": "code",
   "execution_count": 18,
   "metadata": {},
   "outputs": [
    {
     "name": "stdout",
     "output_type": "stream",
     "text": [
      "{'apple', 'cherry'}\n"
     ]
    }
   ],
   "source": [
    "# remove()\n",
    "fruits = {\"apple\", \"banana\", \"cherry\"}\n",
    "fruits.remove(\"banana\")\n",
    "print(fruits)  # Output: {'apple', 'cherry'}\n"
   ]
  },
  {
   "cell_type": "code",
   "execution_count": 19,
   "metadata": {},
   "outputs": [
    {
     "name": "stdout",
     "output_type": "stream",
     "text": [
      "{'apple', 'banana', 'date', 'elderberry', 'cherry'}\n"
     ]
    }
   ],
   "source": [
    "# union()\n",
    "fruits = {\"apple\", \"banana\", \"cherry\"}\n",
    "more_fruits = {\"date\", \"elderberry\"}\n",
    "all_fruits = fruits.union(more_fruits)\n",
    "print(all_fruits)  # Output: {'apple', 'banana', 'cherry', 'date', 'elderberry'}\n"
   ]
  },
  {
   "cell_type": "code",
   "execution_count": 20,
   "metadata": {},
   "outputs": [
    {
     "name": "stdout",
     "output_type": "stream",
     "text": [
      "{'apple', 'banana', 'date', 'elderberry', 'cherry'}\n"
     ]
    }
   ],
   "source": [
    "# update()\n",
    "fruits = {\"apple\", \"banana\", \"cherry\"}\n",
    "more_fruits = {\"date\", \"elderberry\"}\n",
    "fruits.update(more_fruits)\n",
    "print(fruits)  # Output: {'apple', 'banana', 'cherry', 'date', 'elderberry'}\n"
   ]
  },
  {
   "cell_type": "code",
   "execution_count": 4,
   "metadata": {},
   "outputs": [
    {
     "name": "stdout",
     "output_type": "stream",
     "text": [
      "{'apple'}\n"
     ]
    }
   ],
   "source": [
    "# difference()\n",
    "fruits = {\"apple\", \"banana\", \"cherry\"}\n",
    "more_fruits = {\"banana\", \"cherry\", \"date\"}\n",
    "diff_fruits = fruits.difference(more_fruits)\n",
    "print(diff_fruits)  # Output: {'apple'}\n"
   ]
  },
  {
   "cell_type": "code",
   "execution_count": 5,
   "metadata": {},
   "outputs": [
    {
     "name": "stdout",
     "output_type": "stream",
     "text": [
      "{'apple'}\n"
     ]
    }
   ],
   "source": [
    "# difference_update\n",
    "fruits = {\"apple\", \"banana\", \"cherry\"}\n",
    "more_fruits = {\"banana\", \"cherry\", \"date\"}\n",
    "fruits.difference_update(more_fruits)\n",
    "print(fruits)  # Output: {'apple'}\n"
   ]
  },
  {
   "cell_type": "code",
   "execution_count": 8,
   "metadata": {},
   "outputs": [
    {
     "name": "stdout",
     "output_type": "stream",
     "text": [
      "{'banana', 'cherry'}\n"
     ]
    }
   ],
   "source": [
    "# intersection()\n",
    "fruits = {\"apple\", \"banana\", \"cherry\"}\n",
    "more_fruits = {\"banana\", \"cherry\", \"date\"}\n",
    "common_fruits = fruits.intersection(more_fruits)\n",
    "print(common_fruits)  # Output: {'banana', 'cherry'}\n"
   ]
  },
  {
   "cell_type": "code",
   "execution_count": 12,
   "metadata": {},
   "outputs": [
    {
     "name": "stdout",
     "output_type": "stream",
     "text": [
      "{'banana', 'cherry'}\n"
     ]
    }
   ],
   "source": [
    "#intersection_update()\n",
    "fruits = {\"apple\", \"banana\", \"cherry\"}\n",
    "more_fruits = {\"banana\", \"cherry\", \"date\"}\n",
    "fruits.intersection_update(more_fruits)\n",
    "print(fruits)  # Output: {'banana', 'cherry'}\n"
   ]
  },
  {
   "cell_type": "code",
   "execution_count": 13,
   "metadata": {},
   "outputs": [
    {
     "name": "stdout",
     "output_type": "stream",
     "text": [
      "True\n"
     ]
    }
   ],
   "source": [
    "# isdisjoint()\n",
    "fruits = {\"apple\", \"banana\", \"cherry\"}\n",
    "more_fruits = {\"date\", \"elderberry\"}\n",
    "print(fruits.isdisjoint(more_fruits))  # Output: True\n"
   ]
  },
  {
   "cell_type": "code",
   "execution_count": 14,
   "metadata": {},
   "outputs": [
    {
     "name": "stdout",
     "output_type": "stream",
     "text": [
      "True\n"
     ]
    }
   ],
   "source": [
    "# issubset()\n",
    "fruits = {\"apple\", \"banana\"}\n",
    "more_fruits = {\"apple\", \"banana\", \"cherry\"}\n",
    "print(fruits.issubset(more_fruits))  # Output: True\n"
   ]
  },
  {
   "cell_type": "code",
   "execution_count": 15,
   "metadata": {},
   "outputs": [
    {
     "name": "stdout",
     "output_type": "stream",
     "text": [
      "{'apple', 'date'}\n"
     ]
    }
   ],
   "source": [
    "# symmetric_difference()\n",
    "fruits = {\"apple\", \"banana\", \"cherry\"}\n",
    "more_fruits = {\"banana\", \"cherry\", \"date\"}\n",
    "sym_diff_fruits = fruits.symmetric_difference(more_fruits)\n",
    "print(sym_diff_fruits)  # Output: {'apple', 'date'}\n"
   ]
  },
  {
   "cell_type": "code",
   "execution_count": 16,
   "metadata": {},
   "outputs": [
    {
     "name": "stdout",
     "output_type": "stream",
     "text": [
      "{'date', 'apple'}\n"
     ]
    }
   ],
   "source": [
    "# symmetric_difference_update()\n",
    "fruits = {\"apple\", \"banana\", \"cherry\"}\n",
    "more_fruits = {\"banana\", \"cherry\", \"date\"}\n",
    "fruits.symmetric_difference_update(more_fruits)\n",
    "print(fruits)  # Output: {'apple', 'date'}\n"
   ]
  },
  {
   "cell_type": "code",
   "execution_count": null,
   "metadata": {},
   "outputs": [],
   "source": []
  },
  {
   "cell_type": "markdown",
   "metadata": {},
   "source": [
    "# Thank You"
   ]
  }
 ],
 "metadata": {
  "kernelspec": {
   "display_name": "Python 3 (ipykernel)",
   "language": "python",
   "name": "python3"
  },
  "language_info": {
   "codemirror_mode": {
    "name": "ipython",
    "version": 3
   },
   "file_extension": ".py",
   "mimetype": "text/x-python",
   "name": "python",
   "nbconvert_exporter": "python",
   "pygments_lexer": "ipython3",
   "version": "3.11.5"
  }
 },
 "nbformat": 4,
 "nbformat_minor": 2
}
