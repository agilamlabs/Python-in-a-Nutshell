{
 "cells": [
  {
   "cell_type": "markdown",
   "metadata": {},
   "source": [
    "# List Comprehension\n",
    "\n",
    "### Anatomy of List Comprehension \n",
    "\n",
    "## [\"returned value\" for \"item\" in \"source list\" if \"condition\"]"
   ]
  },
  {
   "cell_type": "markdown",
   "metadata": {},
   "source": [
    "### Data creation"
   ]
  },
  {
   "cell_type": "code",
   "execution_count": null,
   "metadata": {},
   "outputs": [],
   "source": [
    "#Student [Name, GPA, Year, currently present]\n",
    "\n",
    "students = [[\"Gokul\",6.5,4,True],[\"Tharun\",9.5,4,True],[\"Bhavan\",8.5,2,True],[\"Hari\",8.5,3,False]]"
   ]
  },
  {
   "cell_type": "markdown",
   "metadata": {},
   "source": [
    "#### Goal: 1\n",
    "\n",
    "###### Get names "
   ]
  },
  {
   "cell_type": "code",
   "execution_count": null,
   "metadata": {},
   "outputs": [],
   "source": [
    "#List comprehension method\n",
    "\n",
    "names = [i[0] for i in students]\n",
    "\n",
    "print(names)"
   ]
  },
  {
   "cell_type": "code",
   "execution_count": null,
   "metadata": {},
   "outputs": [],
   "source": [
    "#Normal method\n",
    "\n",
    "names = []\n",
    "\n",
    "for i in students:\n",
    "    names.append(i[0])\n",
    "    \n",
    "print(names)"
   ]
  },
  {
   "cell_type": "markdown",
   "metadata": {},
   "source": [
    "#### Goal: 2\n",
    "\n",
    "###### Get names  and 4th years"
   ]
  },
  {
   "cell_type": "code",
   "execution_count": null,
   "metadata": {},
   "outputs": [],
   "source": [
    "#List comprehension method\n",
    "\n",
    "fourth_names = [i[0] for i in students if i[2] == 4]\n",
    "\n",
    "print(fourth_names)"
   ]
  },
  {
   "cell_type": "code",
   "execution_count": null,
   "metadata": {},
   "outputs": [],
   "source": [
    "#Normal method\n",
    "\n",
    "fourth_names = []\n",
    "\n",
    "for i in students:\n",
    "    if i[2] == 4:\n",
    "        fourth_names.append(i[0])\n",
    "        \n",
    "print(fourth_names)"
   ]
  },
  {
   "cell_type": "markdown",
   "metadata": {},
   "source": [
    "#### Goal: 3\n",
    "\n",
    "###### Get 4th years or currently present"
   ]
  },
  {
   "cell_type": "code",
   "execution_count": null,
   "metadata": {},
   "outputs": [],
   "source": [
    "#List comprehension method\n",
    "\n",
    "fourth_or_present = [i for i in students if (i[2] == 4 or i[3] == True)]\n",
    "\n",
    "print(fourth_or_present)"
   ]
  },
  {
   "cell_type": "code",
   "execution_count": null,
   "metadata": {},
   "outputs": [],
   "source": [
    "#Normal method\n",
    "\n",
    "fourth_or_present = []\n",
    "\n",
    "for i in students:\n",
    "    if(i[2] == 4 or i[3] == True):\n",
    "        fourth_or_present.append(i)\n",
    "        \n",
    "print(fourth_or_present)"
   ]
  },
  {
   "cell_type": "markdown",
   "metadata": {},
   "source": [
    "#### Goal: 4\n",
    "\n",
    "###### Get data type of each in list 'students'\n",
    "\n",
    "## Nested List Comprehension"
   ]
  },
  {
   "cell_type": "code",
   "execution_count": null,
   "metadata": {},
   "outputs": [],
   "source": [
    "#List comprehension method\n",
    "\n",
    "data_type = [[type(j) for j in i] for i in students]\n",
    "\n",
    "data_type"
   ]
  },
  {
   "cell_type": "code",
   "execution_count": null,
   "metadata": {},
   "outputs": [],
   "source": [
    "#Normal method\n",
    "\n",
    "data_type = []\n",
    "\n",
    "for i in students:\n",
    "    for j in i:\n",
    "        data_type.append(type(j))\n",
    "        \n",
    "data_type"
   ]
  },
  {
   "cell_type": "markdown",
   "metadata": {},
   "source": [
    "# Flattening the Matrix"
   ]
  },
  {
   "cell_type": "code",
   "execution_count": null,
   "metadata": {},
   "outputs": [],
   "source": [
    "G = [[9,8,7],[6,5,4],[3,2,1]]"
   ]
  },
  {
   "cell_type": "code",
   "execution_count": null,
   "metadata": {},
   "outputs": [],
   "source": [
    "#List comprehension method\n",
    "\n",
    "##looks simple but still look close\n",
    "\n",
    "[j for i in G for j in i]"
   ]
  },
  {
   "cell_type": "code",
   "execution_count": null,
   "metadata": {},
   "outputs": [],
   "source": [
    "#Normal method\n",
    "\n",
    "for i in G:\n",
    "    for j in i:\n",
    "        print(j)"
   ]
  },
  {
   "cell_type": "markdown",
   "metadata": {},
   "source": [
    "### Why all this trouble if it could be done in normal way?\n",
    "\n",
    "## Answer: Time considerations\n",
    "\n",
    "#### run the below code and observe the average time(mean) and maximum time variation(standard deviation)"
   ]
  },
  {
   "cell_type": "code",
   "execution_count": null,
   "metadata": {},
   "outputs": [],
   "source": [
    "#Student [Name, GPA, Year, currently present]\n",
    "\n",
    "student = [[\"Gokul\",6.5,4,True],[\"Tharun\",9.5,4,True],[\"Bhavan\",8.5,2,True],[\"Hari\",8.5,3,False]]"
   ]
  },
  {
   "cell_type": "code",
   "execution_count": null,
   "metadata": {},
   "outputs": [],
   "source": [
    "%%timeit\n",
    "#List comprehension method\n",
    "\n",
    "fourth_or_present = [i for i in student if (i[2] == 4 or i[3] == True)]"
   ]
  },
  {
   "cell_type": "code",
   "execution_count": null,
   "metadata": {},
   "outputs": [],
   "source": [
    "%%timeit\n",
    "#Normal method\n",
    "\n",
    "fourth_or_present = []\n",
    "\n",
    "for i in student:\n",
    "    if(i[2] == 4 or i[3] == True):\n",
    "        fourth_or_present.append(i)"
   ]
  },
  {
   "cell_type": "markdown",
   "metadata": {},
   "source": [
    "# Thank you"
   ]
  }
 ],
 "metadata": {
  "kernelspec": {
   "display_name": "Python 3",
   "language": "python",
   "name": "python3"
  },
  "language_info": {
   "codemirror_mode": {
    "name": "ipython",
    "version": 3
   },
   "file_extension": ".py",
   "mimetype": "text/x-python",
   "name": "python",
   "nbconvert_exporter": "python",
   "pygments_lexer": "ipython3",
   "version": "3.7.4"
  }
 },
 "nbformat": 4,
 "nbformat_minor": 2
}
