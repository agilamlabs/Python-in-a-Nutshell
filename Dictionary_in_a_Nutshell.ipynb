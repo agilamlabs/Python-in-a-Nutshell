{
 "cells": [
  {
   "cell_type": "markdown",
   "metadata": {},
   "source": [
    "# Dictionary"
   ]
  },
  {
   "cell_type": "code",
   "execution_count": 1,
   "metadata": {},
   "outputs": [],
   "source": [
    "d = {'Gokul':7,'hari':8.5,'bhavan':9.5,'tharun':9}"
   ]
  },
  {
   "cell_type": "code",
   "execution_count": 17,
   "metadata": {},
   "outputs": [],
   "source": [
    "keys = ['Gokul','hari','bhavan','tharun']\n",
    "l = [('Gokul',7),('hari',8.5),('bhavan',9.5),('tharun',9)]   #creating dictionary using List"
   ]
  },
  {
   "cell_type": "code",
   "execution_count": 30,
   "metadata": {},
   "outputs": [
    {
     "name": "stdout",
     "output_type": "stream",
     "text": [
      "Gokul\n",
      "[7]\n"
     ]
    }
   ],
   "source": [
    "from random import choice\n",
    "people = choice(keys)    #chooses randomly form keys list\n",
    "print(people)\n",
    "\n",
    "value = [i[1] for i in l if i[0] == people]     #using list\n",
    "print(value)"
   ]
  },
  {
   "cell_type": "code",
   "execution_count": 21,
   "metadata": {},
   "outputs": [
    {
     "name": "stdout",
     "output_type": "stream",
     "text": [
      "Gokul\n",
      "7\n"
     ]
    }
   ],
   "source": [
    "people = choice(keys)\n",
    "print(people)\n",
    "\n",
    "value = d[people]    #using dictionary\n",
    "print(value)"
   ]
  },
  {
   "cell_type": "markdown",
   "metadata": {},
   "source": [
    "### Can do same task in list then why dictionary?\n",
    "\n",
    "## Answer: one of the reason it is fast bcoz i use for data science applications"
   ]
  },
  {
   "cell_type": "code",
   "execution_count": 28,
   "metadata": {},
   "outputs": [
    {
     "name": "stdout",
     "output_type": "stream",
     "text": [
      "2.02 µs ± 393 ns per loop (mean ± std. dev. of 7 runs, 100000 loops each)\n"
     ]
    }
   ],
   "source": [
    "%%timeit\n",
    "people = choice(keys)    \n",
    "value = [i[1] for i in l if i[0] == people]     "
   ]
  },
  {
   "cell_type": "code",
   "execution_count": 29,
   "metadata": {},
   "outputs": [
    {
     "name": "stdout",
     "output_type": "stream",
     "text": [
      "1.01 µs ± 33.6 ns per loop (mean ± std. dev. of 7 runs, 1000000 loops each)\n"
     ]
    }
   ],
   "source": [
    "%%timeit\n",
    "people = choice(keys)\n",
    "value = d[people]    "
   ]
  },
  {
   "cell_type": "markdown",
   "metadata": {},
   "source": [
    "## Why dictionary is so fast?\n",
    "\n",
    "#### when d['Gokul'] is called\n",
    "#### Internally 'Gokul' the key maps to a memory location indeed which has a value of 7 in that memory location"
   ]
  },
  {
   "cell_type": "markdown",
   "metadata": {},
   "source": [
    "## Implications\n",
    "\n",
    "#### The keys must be immutable\n",
    "\n",
    "##### Immutables Data Types:\n",
    "###### --> int\n",
    "###### --> float\n",
    "###### --> str\n",
    "###### -->tuple\n",
    "\n",
    "##### Mutable Data Types:\n",
    "###### --> list\n",
    "###### --> set\n",
    "###### --> dictionary"
   ]
  },
  {
   "cell_type": "markdown",
   "metadata": {},
   "source": [
    "# Thank You"
   ]
  }
 ],
 "metadata": {
  "kernelspec": {
   "display_name": "Python 3",
   "language": "python",
   "name": "python3"
  },
  "language_info": {
   "codemirror_mode": {
    "name": "ipython",
    "version": 3
   },
   "file_extension": ".py",
   "mimetype": "text/x-python",
   "name": "python",
   "nbconvert_exporter": "python",
   "pygments_lexer": "ipython3",
   "version": "3.7.4"
  }
 },
 "nbformat": 4,
 "nbformat_minor": 2
}
