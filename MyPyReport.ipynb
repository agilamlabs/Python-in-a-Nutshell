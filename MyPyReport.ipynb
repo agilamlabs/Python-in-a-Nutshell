{
 "cells": [
  {
   "cell_type": "markdown",
   "metadata": {},
   "source": [
    "# Python in a Nutshell"
   ]
  },
  {
   "cell_type": "markdown",
   "metadata": {},
   "source": [
    "Hi from Gokul"
   ]
  },
  {
   "cell_type": "code",
   "execution_count": null,
   "metadata": {},
   "outputs": [],
   "source": [
    "print(\"Hello World\")"
   ]
  },
  {
   "cell_type": "code",
   "execution_count": null,
   "metadata": {},
   "outputs": [],
   "source": [
    "print(\"Hello, World!\") #This is a comment."
   ]
  },
  {
   "cell_type": "code",
   "execution_count": null,
   "metadata": {},
   "outputs": [],
   "source": [
    "\"\"\"This is a comment.\n",
    "\n",
    "print(\"Hello, World!\")\n",
    "\n",
    "This is also is comment\"\"\""
   ]
  },
  {
   "cell_type": "markdown",
   "metadata": {},
   "source": [
    "## Variables\n",
    "\n",
    "Variables are containers for storing data values.\n"
   ]
  },
  {
   "cell_type": "code",
   "execution_count": null,
   "metadata": {},
   "outputs": [],
   "source": [
    "x = 6\n",
    "y = \"Gokul\"\n",
    "\n",
    "print(x)\n",
    "print(y)"
   ]
  },
  {
   "cell_type": "code",
   "execution_count": null,
   "metadata": {},
   "outputs": [],
   "source": [
    "x = str(3)    # x will be '3'\n",
    "y = int(7)    # y will be 7\n",
    "z = float(2.5)  # z will be 2.5 \n",
    "\n",
    "print(x,y,z)"
   ]
  },
  {
   "cell_type": "code",
   "execution_count": null,
   "metadata": {},
   "outputs": [],
   "source": [
    "x, y, z = \"Orange\", \"Banana\", \"Cherry\"\n",
    "\n",
    "print(x)\n",
    "print(y)\n",
    "print(z)"
   ]
  },
  {
   "cell_type": "code",
   "execution_count": null,
   "metadata": {},
   "outputs": [],
   "source": [
    "fruits = [\"apple\", \"banana\", \"cherry\"]\n",
    "\n",
    "x, y, z = fruits\n",
    "\n",
    "print(x)\n",
    "print(y)\n",
    "print(z)"
   ]
  },
  {
   "cell_type": "markdown",
   "metadata": {},
   "source": [
    "## Global variables"
   ]
  },
  {
   "cell_type": "code",
   "execution_count": null,
   "metadata": {},
   "outputs": [],
   "source": [
    "x = \"awesome\"\n",
    "\n",
    "def myfunc():\n",
    "  x = \"fantastic\"\n",
    "  print(\"Python is \" + x)\n",
    "\n",
    "myfunc()\n",
    "\n",
    "print(\"Python is \" + x)"
   ]
  },
  {
   "cell_type": "code",
   "execution_count": null,
   "metadata": {},
   "outputs": [],
   "source": [
    "x = \"awesome\"\n",
    "\n",
    "def myfunc():\n",
    "  global x\n",
    "  x = \"fantastic\"\n",
    "  print(\"Python is \" + x)\n",
    "\n",
    "myfunc()\n",
    "\n",
    "print(\"Python is \" + x) "
   ]
  },
  {
   "cell_type": "markdown",
   "metadata": {},
   "source": [
    "## Data Types"
   ]
  },
  {
   "cell_type": "code",
   "execution_count": null,
   "metadata": {},
   "outputs": [],
   "source": [
    "x = 5.0\n",
    "print(type(x))"
   ]
  },
  {
   "cell_type": "raw",
   "metadata": {},
   "source": [
    "Text Type:      \tstr\n",
    "\n",
    "Numeric Types:  \tint, float, complex\n",
    "\n",
    "Sequence Types: \tlist, tuple, range\n",
    "\n",
    "Mapping Type:   \tdict\n",
    "\n",
    "Set Types:      \tset, frozenset\n",
    "\n",
    "Boolean Type:   \tbool\n",
    "\n",
    "Binary Types:   \tbytes, bytearray, memoryview\n",
    "\n",
    "None Type:      \tNoneType"
   ]
  },
  {
   "cell_type": "raw",
   "metadata": {},
   "source": [
    "Example                                             Data Type \n",
    "\n",
    "x = \"Hello World\"                                   str\n",
    "\n",
    "x = 20                                              int\n",
    "\n",
    "x = 20.5                                            float\n",
    "\n",
    "x = 1j                                              complex\n",
    "\n",
    "x = [\"apple\", \"banana\", \"cherry\"]                   list\n",
    "\n",
    "x = (\"apple\", \"banana\", \"cherry\")                   tuple \n",
    "\n",
    "x = range(6)                                        range \n",
    "\n",
    "x = {\"name\" : \"John\", \"age\" : 36}                   dict \n",
    "\n",
    "x = {\"apple\", \"banana\", \"cherry\"}                   set \n",
    "\n",
    "x = frozenset({\"apple\", \"banana\", \"cherry\"})        frozenset \n",
    "\n",
    "x = True                                            bool \n",
    "\n",
    "x = b\"Hello\"                                        bytes \n",
    "\n",
    "x = bytearray(5)                                    bytearray \n",
    "\n",
    "x = memoryview(bytes(5))                            memoryview \n",
    "\n",
    "x = None                                            NoneType"
   ]
  },
  {
   "cell_type": "markdown",
   "metadata": {},
   "source": [
    "## Type Conversion\n",
    "\n",
    " You can convert from one type to another with the int(), float(), and complex() methods:"
   ]
  },
  {
   "cell_type": "code",
   "execution_count": null,
   "metadata": {},
   "outputs": [],
   "source": [
    "x = 1    # int\n",
    "y = 2.8  # float\n",
    "z = 1j   # complex\n",
    "\n",
    "#convert from int to float:\n",
    "a = float(x)\n",
    "\n",
    "#convert from float to int:\n",
    "b = int(y)\n",
    "\n",
    "#convert from int to complex:\n",
    "c = complex(x)\n",
    "\n",
    "print(a)\n",
    "print(b)\n",
    "print(c)\n",
    "\n",
    "print(type(a))\n",
    "print(type(b))\n",
    "print(type(c)) "
   ]
  },
  {
   "cell_type": "markdown",
   "metadata": {},
   "source": [
    "## Operators"
   ]
  },
  {
   "cell_type": "raw",
   "metadata": {},
   "source": [
    "   -> Arithmetic operators\n",
    "   \n",
    "   -> Assignment operators\n",
    "   \n",
    "   -> Comparison operators\n",
    "   \n",
    "   -> Logical operators\n",
    "   \n",
    "   -> Identity operators\n",
    "   \n",
    "   -> Membership operators\n",
    "   \n",
    "   -> Bitwise operators"
   ]
  },
  {
   "cell_type": "markdown",
   "metadata": {},
   "source": [
    "###  Arithmetic operators\n",
    "\n",
    "Arithmetic operators are used with numeric values to perform common mathematical operations:"
   ]
  },
  {
   "cell_type": "raw",
   "metadata": {},
   "source": [
    "Operator                             Name                                         Example\n",
    "\n",
    "   +                                Addition                                       x + y \n",
    "\n",
    "   -                                Subtraction                                    x - y \n",
    "\n",
    "   *                                Multiplication                                 x * y \n",
    "\n",
    "   /                                Division                                       x / y \n",
    "\n",
    "   %                                Modulus                                        x % y \n",
    "\n",
    "  **                                Exponentiation                                 x ** y \n",
    "\n",
    "  //                                Floor division                                 x // y"
   ]
  },
  {
   "cell_type": "markdown",
   "metadata": {},
   "source": [
    "### Assignment operators\n",
    "\n",
    "Assignment operators are used to assign values to variables:"
   ]
  },
  {
   "cell_type": "raw",
   "metadata": {},
   "source": [
    "Operator \t                     Example                   \tSame As\n",
    "\n",
    "  = \t                         x = 5 \t                    x = 5 \t\n",
    "  \n",
    "  += \t                         x += 3 \t                x = x + 3 \n",
    "  \n",
    "  -= \t                         x -= 3 \t                x = x - 3 \n",
    "  \n",
    "  *= \t                         x *= 3 \t                x = x * 3 \n",
    "  \n",
    "  /= \t                         x /= 3 \t                x = x / 3 \n",
    "  \n",
    "  %= \t                         x %= 3 \t                x = x % 3 \n",
    "  \n",
    "  //= \t                         x //= 3 \t                x = x // 3 \n",
    "  \n",
    "  **= \t                         x **= 3 \t                x = x ** 3 \t\n",
    "  \n",
    "  &= \t                         x &= 3 \t                x = x & 3 \n",
    "  \n",
    "  |= \t                         x |= 3 \t                x = x | 3 \n",
    "  \n",
    "  ^= \t                         x ^= 3 \t                x = x ^ 3 \t\n",
    "  \n",
    "  >>= \t                         x >>= 3 \t                x = x >> 3 \t\n",
    "  \n",
    "  <<= \t                         x <<= 3 \t                x = x << 3"
   ]
  },
  {
   "cell_type": "markdown",
   "metadata": {},
   "source": [
    "### Comparison operators\n",
    "\n",
    "Comparison operators are used to compare two values:"
   ]
  },
  {
   "cell_type": "raw",
   "metadata": {},
   "source": [
    "Operator \t                  Name \t                        Example\n",
    "\n",
    "  == \t                      Equal \t                    x == y \n",
    "  \n",
    "  != \t                      Not equal \t                x != y \n",
    "  \n",
    "  > \t                      Greater than \t                x > y \n",
    "  \n",
    "  < \t                      Less than \t                x < y \t\n",
    "  \n",
    "  >= \t                      Greater than or equal to \t    x >= y \t\n",
    "  \n",
    "  <= \t                      Less than or equal to \t    x <= y"
   ]
  },
  {
   "cell_type": "markdown",
   "metadata": {},
   "source": [
    "### Logical operators\n",
    "\n",
    "Logical operators are used to combine conditional statements:"
   ]
  },
  {
   "cell_type": "raw",
   "metadata": {},
   "source": [
    "Operator \tDescription \t                                                Example \n",
    "\n",
    "  and  \t    Returns True if both statements are true \t                    x < 5 and  x < 10 \n",
    "\n",
    "  or \t    Returns True if one of the statements is true \t                x < 5 or x < 4 \n",
    "\n",
    "  not \t    Reverse the result, returns False if the result is true         not(x < 5 and x < 10)"
   ]
  },
  {
   "cell_type": "markdown",
   "metadata": {},
   "source": [
    "### Identity Operators \n",
    "\n",
    "Identity operators are used to compare the objects, not if they are equal, but if they are actually the same object, with the same memory location:"
   ]
  },
  {
   "cell_type": "raw",
   "metadata": {},
   "source": [
    "Operator \tDescription \t                                                 Example \n",
    "\n",
    "  is  \t    Returns True if both variables are the same object \t             x is y \n",
    "  \n",
    "is not \t    Returns True if both variables are not the same object \t         x is not y"
   ]
  },
  {
   "cell_type": "markdown",
   "metadata": {},
   "source": [
    "### Membership operators \n",
    "\n",
    "Membership operators are used to test if a sequence is presented in an object:"
   ]
  },
  {
   "cell_type": "raw",
   "metadata": {},
   "source": [
    "Operator \tDescription \t                                                                    Example \n",
    "\n",
    "  in  \t    Returns True if a sequence with the specified value is present in the object \t    x in y \t\n",
    "  \n",
    "not in \t    Returns True if a sequence with the specified value is not present in the object \tx not in y"
   ]
  },
  {
   "cell_type": "markdown",
   "metadata": {},
   "source": [
    "### Bitwise Operators \n",
    "\n",
    "Bitwise operators are used to compare (binary) numbers:"
   ]
  },
  {
   "cell_type": "raw",
   "metadata": {},
   "source": [
    "Operator  Name \t                      Description \t                                         Example \n",
    "\n",
    "   &  \t  AND \t                      Sets each bit to 1 if both bits are 1 \t             x & y \n",
    "   \n",
    "   | \t  OR \t                      Sets each bit to 1 if one of two bits is 1 \t         x | y \n",
    "   \n",
    "   ^ \t  XOR \t                      Sets each bit to 1 if only one of two bits is 1 \t     x ^ y \t\n",
    "    \n",
    "   ~ \t  NOT \t                      Inverts all the bits \t                                 ~x \n",
    "   \n",
    "   << \t  Zero fill left shift \t      Shift left by pushing zeros in from the right and let the leftmost bits fall off \t                                                                                   x << 2 \n",
    "   \n",
    "   >> \tSigned right shift \t          Shift right by pushing copies of the leftmost bit in from the left, and let the rightmost bits fall off \t                                                           x >> 2"
   ]
  },
  {
   "cell_type": "markdown",
   "metadata": {},
   "source": [
    "## Conditions\n",
    "\n",
    "#### If ..... elif ...... else statement:"
   ]
  },
  {
   "cell_type": "code",
   "execution_count": null,
   "metadata": {},
   "outputs": [],
   "source": [
    "a = 200\n",
    "b = 33\n",
    "\n",
    "if b > a:\n",
    "  print(\"b is greater than a\")\n",
    "elif a == b:\n",
    "  print(\"a and b are equal\")\n",
    "else:\n",
    "  print(\"a is greater than b\")"
   ]
  },
  {
   "cell_type": "markdown",
   "metadata": {},
   "source": [
    "#### while Loop "
   ]
  },
  {
   "cell_type": "code",
   "execution_count": null,
   "metadata": {},
   "outputs": [],
   "source": [
    "i = 1\n",
    "\n",
    "while i < 6:\n",
    "  print(i)\n",
    "  i += 1\n",
    "else:\n",
    "  print(\"i is no longer less than 6\")"
   ]
  },
  {
   "cell_type": "markdown",
   "metadata": {},
   "source": [
    "#### for loop "
   ]
  },
  {
   "cell_type": "code",
   "execution_count": null,
   "metadata": {},
   "outputs": [],
   "source": [
    "fruits = [\"apple\", \"banana\", \"cherry\"]\n",
    "\n",
    "for x in fruits:\n",
    "  print(x)"
   ]
  },
  {
   "cell_type": "code",
   "execution_count": null,
   "metadata": {},
   "outputs": [],
   "source": [
    "for x in range(6):\n",
    "  print(x)\n",
    "else:\n",
    "  print(\"Finally finished!\")"
   ]
  },
  {
   "cell_type": "code",
   "execution_count": null,
   "metadata": {},
   "outputs": [],
   "source": [
    "adj = [\"red\", \"big\", \"tasty\"]\n",
    "fruits = [\"apple\", \"banana\", \"cherry\"]\n",
    "\n",
    "for x in adj:\n",
    "  for y in fruits:\n",
    "    print(x, y) "
   ]
  },
  {
   "cell_type": "markdown",
   "metadata": {},
   "source": [
    "#### Short Hand If "
   ]
  },
  {
   "cell_type": "code",
   "execution_count": null,
   "metadata": {},
   "outputs": [],
   "source": [
    "if a > b: print(\"a is greater than b\")"
   ]
  },
  {
   "cell_type": "markdown",
   "metadata": {},
   "source": [
    "#### Short Hand If ... Else "
   ]
  },
  {
   "cell_type": "code",
   "execution_count": null,
   "metadata": {},
   "outputs": [],
   "source": [
    "a = 2\n",
    "b = 330\n",
    "\n",
    "print(\"A\") if a > b else print(\"B\") "
   ]
  },
  {
   "cell_type": "code",
   "execution_count": null,
   "metadata": {},
   "outputs": [],
   "source": [
    "a = 330\n",
    "b = 330\n",
    "\n",
    "print(\"A\") if a > b else print(\"=\") if a == b else print(\"B\")"
   ]
  },
  {
   "cell_type": "markdown",
   "metadata": {},
   "source": [
    "#### Short hand for loop"
   ]
  },
  {
   "cell_type": "code",
   "execution_count": null,
   "metadata": {},
   "outputs": [],
   "source": [
    "thislist = [\"apple\", \"banana\", \"cherry\"]\n",
    "\n",
    "[print(x) for x in thislist]"
   ]
  },
  {
   "cell_type": "markdown",
   "metadata": {},
   "source": [
    "#### pass Statement"
   ]
  },
  {
   "cell_type": "code",
   "execution_count": null,
   "metadata": {},
   "outputs": [],
   "source": [
    "a = 33\n",
    "b = 200\n",
    "\n",
    "if b > a:\n",
    "  pass"
   ]
  },
  {
   "cell_type": "code",
   "execution_count": null,
   "metadata": {},
   "outputs": [],
   "source": [
    "def myfunction():\n",
    "  pass"
   ]
  },
  {
   "cell_type": "code",
   "execution_count": null,
   "metadata": {},
   "outputs": [],
   "source": [
    "class Person:\n",
    "  pass"
   ]
  },
  {
   "cell_type": "markdown",
   "metadata": {},
   "source": [
    "#### break Statement"
   ]
  },
  {
   "cell_type": "code",
   "execution_count": null,
   "metadata": {},
   "outputs": [],
   "source": [
    "i = 1\n",
    "\n",
    "while i < 6:\n",
    "  print(i)\n",
    "  if i == 3:\n",
    "    break\n",
    "  i += 1 "
   ]
  },
  {
   "cell_type": "code",
   "execution_count": null,
   "metadata": {},
   "outputs": [],
   "source": [
    "fruits = [\"apple\", \"banana\", \"cherry\"]\n",
    "\n",
    "for x in fruits:\n",
    "  if x == \"banana\":\n",
    "    break\n",
    "  print(x)"
   ]
  },
  {
   "cell_type": "code",
   "execution_count": null,
   "metadata": {},
   "outputs": [],
   "source": [
    "for x in range(6):\n",
    "  if x == 3: \n",
    "    break\n",
    "  print(x)\n",
    "else:\n",
    "  print(\"Finally finished!\") "
   ]
  },
  {
   "cell_type": "markdown",
   "metadata": {},
   "source": [
    "#### continue Statement"
   ]
  },
  {
   "cell_type": "code",
   "execution_count": null,
   "metadata": {},
   "outputs": [],
   "source": [
    "i = 0\n",
    "\n",
    "while i < 6:\n",
    "  i += 1\n",
    "  if i == 3:\n",
    "    continue\n",
    "  print(i)"
   ]
  },
  {
   "cell_type": "code",
   "execution_count": null,
   "metadata": {},
   "outputs": [],
   "source": [
    "fruits = [\"apple\", \"banana\", \"cherry\"]\n",
    "\n",
    "for x in fruits:\n",
    "  if x == \"banana\":\n",
    "    continue\n",
    "  print(x)"
   ]
  },
  {
   "cell_type": "markdown",
   "metadata": {},
   "source": [
    "## List"
   ]
  },
  {
   "cell_type": "code",
   "execution_count": null,
   "metadata": {},
   "outputs": [],
   "source": [
    "thislist = [\"abc\", 34, True, 40, \"male\"]\n",
    "\n",
    "print(thislist)"
   ]
  },
  {
   "cell_type": "markdown",
   "metadata": {},
   "source": [
    "#### The list() Constructor"
   ]
  },
  {
   "cell_type": "code",
   "execution_count": null,
   "metadata": {},
   "outputs": [],
   "source": [
    "thislist = list((\"apple\", \"banana\", \"cherry\")) # note the double round-brackets\n",
    "\n",
    "print(thislist)"
   ]
  },
  {
   "cell_type": "markdown",
   "metadata": {},
   "source": [
    "#### List Methods"
   ]
  },
  {
   "cell_type": "raw",
   "metadata": {},
   "source": [
    "Method \t        Description\n",
    "\n",
    "append()\t    Adds an element at the end of the list\n",
    "\n",
    "clear()\t        Removes all the elements from the list\n",
    "\n",
    "copy()\t        Returns a copy of the list\n",
    "\n",
    "count()\t        Returns the number of elements with the specified value\n",
    "\n",
    "extend()\t    Add the elements of a list (or any iterable), to the end of the current list\n",
    "\n",
    "index()\t        Returns the index of the first element with the specified value\n",
    "\n",
    "insert()\t    Adds an element at the specified position\n",
    "\n",
    "pop()\t        Removes the element at the specified position\n",
    "\n",
    "remove()\t    Removes the item with the specified value\n",
    "\n",
    "reverse()\t    Reverses the order of the list\n",
    "\n",
    "sort()\t        Sorts the list"
   ]
  },
  {
   "cell_type": "markdown",
   "metadata": {},
   "source": [
    "#### Uses "
   ]
  },
  {
   "cell_type": "code",
   "execution_count": null,
   "metadata": {},
   "outputs": [],
   "source": [
    "thislist = [\"apple\", \"banana\", \"cherry\", \"orange\", \"kiwi\", \"melon\", \"mango\"]\n",
    "\n",
    "print(thislist[1])                              #Access items\n",
    "\n",
    "print(thislist[-1])                             #Negative indexing\n",
    "\n",
    "print(thislist[2:5])                            #Range of Indexes\n",
    "print(thislist[:4])\n",
    "print(thislist[2:])\n",
    "\n",
    "print(thislist[-4:-1])                          #Range of Negative Indexes\n",
    "\n",
    "print(len(thislist))                            #Length\n",
    "\n",
    "print(type(thislist))                           #Type\n",
    "\n",
    "if \"apple\" in thislist:                         #Check if Item Exists\n",
    "  print(\"Yes, 'apple' is in the fruits list\") \n",
    "\n",
    "thislist[1] = \"blackcurrant\"                    #Change Item Value\n",
    "print(thislist)\n",
    "\n",
    "thislist[1:3] = [\"blackcurrant\", \"watermelon\"]  #Change a Range of Item Values\n",
    "print(thislist)\n",
    "\n",
    "thislist.insert(1, \"guva\")                      #Insert Items\n",
    "print(\"inserted -> \",thislist)\n",
    "\n",
    "thislist.append(\"orange\")                       #Append Items\n",
    "print(\"appended -> \",thislist)\n",
    "\n",
    "tropical = [\"mango\", \"pineapple\", \"papaya\"]     #Extend\n",
    "thislist.extend(tropical)\n",
    "print(\"extended -> \",thislist)\n",
    "\n",
    "thistuple = (\"kiwi\", \"orange\")                  #Add Any Iterable\n",
    "thislist.extend(thistuple)                      #Adding tuple to list\n",
    "print(thislist)\n",
    "\n",
    "thislist.remove(\"orange\")                       #Remove Item\n",
    "print(thislist)\n",
    "\n",
    "thislist.pop(10)                                #Remove Specified Index using pop\n",
    "print(thislist)\n",
    "\n",
    "del thislist[11]                                #Remove Specified Index using del\n",
    "#del thislist    #delete the list completly\n",
    "print(thislist)   \n",
    "\n",
    "thislist.clear()                                #The clear() method empties the list\n",
    "print(thislist)"
   ]
  },
  {
   "cell_type": "markdown",
   "metadata": {},
   "source": [
    "#### Loop Through a List "
   ]
  },
  {
   "cell_type": "code",
   "execution_count": null,
   "metadata": {},
   "outputs": [],
   "source": [
    "thislist = [\"apple\", \"banana\", \"cherry\"]\n",
    "\n",
    "for x in thislist:\n",
    "  print(x) \n",
    "\n",
    "for i in range(len(thislist)):     #Loop Through the Index Numbers\n",
    "  print(thislist[i]) "
   ]
  },
  {
   "cell_type": "markdown",
   "metadata": {},
   "source": [
    "#### short hand for loop"
   ]
  },
  {
   "cell_type": "code",
   "execution_count": null,
   "metadata": {},
   "outputs": [],
   "source": [
    "thislist = [\"apple\", \"banana\", \"cherry\"]\n",
    "\n",
    "[print(x) for x in thislist]"
   ]
  },
  {
   "cell_type": "markdown",
   "metadata": {},
   "source": [
    "#### Sort Lists"
   ]
  },
  {
   "cell_type": "code",
   "execution_count": null,
   "metadata": {},
   "outputs": [],
   "source": [
    "thislist = [\"orange\", \"mango\", \"kiwi\", \"pineapple\", \"banana\"]\n",
    "\n",
    "thislist.sort()\n",
    "\n",
    "print(thislist)"
   ]
  },
  {
   "cell_type": "code",
   "execution_count": null,
   "metadata": {},
   "outputs": [],
   "source": [
    "thislist = [100, 50, 65, 82, 23]\n",
    "\n",
    "thislist.sort()\n",
    "\n",
    "print(thislist)"
   ]
  },
  {
   "cell_type": "markdown",
   "metadata": {},
   "source": [
    "#### Sort Descending "
   ]
  },
  {
   "cell_type": "code",
   "execution_count": null,
   "metadata": {},
   "outputs": [],
   "source": [
    "thislist = [\"orange\", \"mango\", \"kiwi\", \"pineapple\", \"banana\"]\n",
    "\n",
    "thislist.sort(reverse = True)\n",
    "\n",
    "print(thislist)"
   ]
  },
  {
   "cell_type": "code",
   "execution_count": null,
   "metadata": {},
   "outputs": [],
   "source": [
    "thislist = [100, 50, 65, 82, 23]\n",
    "thislist.sort(reverse = True)\n",
    "print(thislist)"
   ]
  },
  {
   "cell_type": "markdown",
   "metadata": {},
   "source": [
    "#### Customize Sort Function \n",
    "\n",
    "based on how close the number is to 50:"
   ]
  },
  {
   "cell_type": "code",
   "execution_count": null,
   "metadata": {},
   "outputs": [],
   "source": [
    "def myfunc(n):\n",
    "  return abs(n - 50)             #based on how close the number is to 50\n",
    "\n",
    "thislist = [100, 50, 65, 82, 23]\n",
    "\n",
    "thislist.sort(key = myfunc)\n",
    "\n",
    "print(thislist)"
   ]
  },
  {
   "cell_type": "markdown",
   "metadata": {},
   "source": [
    "#### Copy a List "
   ]
  },
  {
   "cell_type": "code",
   "execution_count": null,
   "metadata": {},
   "outputs": [],
   "source": [
    "thislist = [\"apple\", \"banana\", \"cherry\"]\n",
    "\n",
    "mylist = thislist.copy()\n",
    "\n",
    "print(mylist)"
   ]
  },
  {
   "cell_type": "code",
   "execution_count": null,
   "metadata": {},
   "outputs": [],
   "source": [
    "thislist = [\"apple\", \"banana\", \"cherry\"]\n",
    "\n",
    "mylist = list(thislist)                 #copy of a list with the list() method\n",
    "\n",
    "print(mylist)"
   ]
  },
  {
   "cell_type": "markdown",
   "metadata": {},
   "source": [
    "#### Join Two Lists "
   ]
  },
  {
   "cell_type": "code",
   "execution_count": null,
   "metadata": {},
   "outputs": [],
   "source": [
    "list1 = [\"a\", \"b\", \"c\"]\n",
    "list2 = [1, 2, 3]\n",
    "\n",
    "list3 = list1 + list2\n",
    "print(list3) "
   ]
  },
  {
   "cell_type": "code",
   "execution_count": null,
   "metadata": {},
   "outputs": [],
   "source": [
    "list1 = [\"a\", \"b\" , \"c\"]\n",
    "list2 = [1, 2, 3]\n",
    "\n",
    "list1.extend(list2)    #Joining using extend\n",
    "\n",
    "print(list1) "
   ]
  },
  {
   "cell_type": "code",
   "execution_count": null,
   "metadata": {},
   "outputs": [],
   "source": [
    "list1 = [\"a\", \"b\" , \"c\"]\n",
    "list2 = [1, 2, 3]\n",
    "\n",
    "for x in list2:\n",
    "  list1.append(x)       #Joining using append\n",
    "\n",
    "print(list1)"
   ]
  },
  {
   "cell_type": "markdown",
   "metadata": {},
   "source": [
    "## Dictionaries"
   ]
  },
  {
   "cell_type": "code",
   "execution_count": null,
   "metadata": {},
   "outputs": [],
   "source": [
    "thisdict = {\n",
    "  \"brand\": \"Ford\",\n",
    "  \"model\": \"Mustang\",\n",
    "  \"year\": 1969,\n",
    "  \"colors\": [\"red\", \"white\", \"blue\"]\n",
    "}\n",
    "\n",
    "print(thisdict)"
   ]
  },
  {
   "cell_type": "markdown",
   "metadata": {},
   "source": [
    "#### The dict() Constructor"
   ]
  },
  {
   "cell_type": "code",
   "execution_count": null,
   "metadata": {},
   "outputs": [],
   "source": [
    "thisdict = dict(name = \"Gokul\", age = 23, country = \"India\")\n",
    "\n",
    "print(thisdict)"
   ]
  },
  {
   "cell_type": "markdown",
   "metadata": {},
   "source": [
    "#### Dictionary Methods "
   ]
  },
  {
   "cell_type": "raw",
   "metadata": {},
   "source": [
    "Method \t              Description\n",
    "\n",
    "clear()\t              Removes all the elements from the dictionary\n",
    "\n",
    "copy()\t              Returns a copy of the dictionary\n",
    "\n",
    "fromkeys()\t          Returns a dictionary with the specified keys and value\n",
    "\n",
    "get()\t              Returns the value of the specified key\n",
    "\n",
    "items()\t              Returns a list containing a tuple for each key value pair\n",
    "\n",
    "keys()\t              Returns a list containing the dictionary's keys\n",
    "\n",
    "pop()\t              Removes the element with the specified key\n",
    "\n",
    "popitem()\t          Removes the last inserted key-value pair\n",
    "\n",
    "setdefault()\t      Returns the value of the specified key. If the key does not exist: insert the key, with the specified value\n",
    "\n",
    "update()\t          Updates the dictionary with the specified key-value pairs\n",
    "\n",
    "values()\t          Returns a list of all the values in the dictionary"
   ]
  },
  {
   "cell_type": "markdown",
   "metadata": {},
   "source": [
    "#### Uses "
   ]
  },
  {
   "cell_type": "code",
   "execution_count": null,
   "metadata": {},
   "outputs": [],
   "source": [
    "thisdict = {\n",
    "  \"brand\": \"Ford\",\n",
    "  \"model\": \"Mustang\",\n",
    "  \"year\": 1969,\n",
    "  \"colors\": [\"red\", \"white\", \"blue\"]\n",
    "}\n",
    "\n",
    "x = thisdict.keys()                        #will return a list of all the keys in the dictionary\n",
    "print(x)\n",
    "\n",
    "x = thisdict.values()                      #will return a list of all the values in the dictionary\n",
    "print(x)\n",
    "\n",
    "x = thisdict.items()                       #will return each item in a dictionary, as tuples in a list\n",
    "print(x)\n",
    "\n",
    "print(thisdict[\"model\"])                   #Access\n",
    "\n",
    "x = thisdict.get(\"year\")                   #There is also a method called get()\n",
    "print(x)\n",
    "\n",
    "print(len(thisdict))                       #Length\n",
    "\n",
    "print(type(thisdict))                      #Type\n",
    "\n",
    "if \"model\" in thisdict:                    #Check if\n",
    "  print(\"Yes, 'model' is one of the keys in the thisdict dictionary\")\n",
    "\n",
    "thisdict[\"year\"] = 2021                    #Changing and also could ADD new items\n",
    "print(thisdict[\"year\"])\n",
    "\n",
    "thisdict.update({\"Horse_power\": 1050})     #changing and also could ADD new items using the update() method\n",
    "print(thisdict)\n",
    "\n",
    "thisdict.pop(\"brand\")                      #removes the item with the specified key\n",
    "print(thisdict)\n",
    "\n",
    "del thisdict[\"colors\"]                     #Removes Specified item using del\n",
    "print(thisdict)\n",
    "\n",
    "thisdict.clear()                           #The clear() method empties the dictionary\n",
    "print(thisdict)"
   ]
  },
  {
   "cell_type": "markdown",
   "metadata": {},
   "source": [
    "#### Loop Through a Dictionary"
   ]
  },
  {
   "cell_type": "code",
   "execution_count": null,
   "metadata": {},
   "outputs": [],
   "source": [
    "thisdict = {\n",
    "  \"brand\": \"Ford\",\n",
    "  \"model\": \"Mustang\",\n",
    "  \"year\": 1969,\n",
    "  \"colors\": [\"red\", \"white\", \"blue\"]\n",
    "}\n",
    "\n",
    "for x in thisdict:                    #Print all key names in the dictionary\n",
    "  print(x)\n",
    "\n",
    "for x in thisdict.keys():             #also use the keys() method to return the keys of a dictionary\n",
    "  print(x)\n",
    "\n",
    "for x in thisdict:                    #Print all values in the dictionary\n",
    "  print(thisdict[x])\n",
    "\n",
    "for x in thisdict.values():           #also use the values() method to return values of a dictionary\n",
    "  print(x)\n",
    "\n",
    "for x, y in thisdict.items():         #Loop through both keys and values, by using the items() method\n",
    "  print(x, \":\", y)\n",
    "\n"
   ]
  },
  {
   "cell_type": "markdown",
   "metadata": {},
   "source": [
    "#### Copy a Dictionary"
   ]
  },
  {
   "cell_type": "code",
   "execution_count": null,
   "metadata": {},
   "outputs": [],
   "source": [
    "thisdict = {\n",
    "  \"brand\": \"Ford\",\n",
    "  \"model\": \"Mustang\",\n",
    "  \"year\": 1969,\n",
    "  \"colors\": [\"red\", \"white\", \"blue\"]\n",
    "}\n",
    "\n",
    "mydict = thisdict.copy()\n",
    "\n",
    "print(mydict)"
   ]
  },
  {
   "cell_type": "code",
   "execution_count": null,
   "metadata": {},
   "outputs": [],
   "source": [
    "thisdict = {\n",
    "  \"brand\": \"Ford\",\n",
    "  \"model\": \"Mustang\",\n",
    "  \"year\": 1969,\n",
    "  \"colors\": [\"red\", \"white\", \"blue\"]\n",
    "}\n",
    "\n",
    "mydict = dict(thisdict)              #copy of a dictionary with the dict() function\n",
    "\n",
    "print(mydict)"
   ]
  },
  {
   "cell_type": "markdown",
   "metadata": {},
   "source": [
    "#### Nested Dictionaries "
   ]
  },
  {
   "cell_type": "code",
   "execution_count": null,
   "metadata": {},
   "outputs": [],
   "source": [
    "myfamily = {\n",
    "    \n",
    "  \"child_1\" : {\n",
    "    \"name\" : \"Business\",\n",
    "    \"year\" : 2017\n",
    "  },\n",
    "  \"child_2\" : {\n",
    "    \"name\" : \"Dream\",\n",
    "    \"year\" : 2012\n",
    "  },\n",
    "  \"child_3\" : {\n",
    "    \"name\" : \"Empire\",\n",
    "    \"year\" : 2021\n",
    "  }\n",
    "    \n",
    "} \n",
    "\n",
    "print(myfamily)\n",
    "\n",
    "print(myfamily[\"child_2\"][\"name\"])"
   ]
  },
  {
   "cell_type": "code",
   "execution_count": null,
   "metadata": {},
   "outputs": [],
   "source": [
    "child_1 = {\n",
    "    \"name\" : \"Business\",\n",
    "    \"year\" : 2017\n",
    "  }\n",
    "\n",
    "child_2 = {\n",
    "    \"name\" : \"Dream\",\n",
    "    \"year\" : 2012\n",
    "  }\n",
    "\n",
    "child_3 = {\n",
    "    \"name\" : \"Empire\",\n",
    "    \"year\" : 2021\n",
    "  }\n",
    "\n",
    "myfamily = {\n",
    "  \"child-1\" : child_1,\n",
    "  \"child-2\" : child_2,\n",
    "  \"child-3\" : child_3\n",
    "}\n",
    "\n",
    "print(child_3)\n",
    "\n",
    "print(myfamily)\n",
    "\n",
    "print(myfamily[\"child-2\"][\"name\"])"
   ]
  },
  {
   "cell_type": "markdown",
   "metadata": {},
   "source": [
    "## Functions"
   ]
  },
  {
   "cell_type": "code",
   "execution_count": null,
   "metadata": {},
   "outputs": [],
   "source": [
    "def my_function():\n",
    "  print(\"Hello from a function\")\n",
    "\n",
    "my_function()"
   ]
  },
  {
   "cell_type": "code",
   "execution_count": null,
   "metadata": {},
   "outputs": [],
   "source": [
    "def my_function(fname):\n",
    "  print(\"Gokul \" + fname)\n",
    "\n",
    "my_function(\"Business\")     #Arguments as inputs\n",
    "my_function(\"Dream\")\n",
    "my_function(\"Empire\")"
   ]
  },
  {
   "cell_type": "markdown",
   "metadata": {},
   "source": [
    "#### Default Parameter Value "
   ]
  },
  {
   "cell_type": "code",
   "execution_count": null,
   "metadata": {},
   "outputs": [],
   "source": [
    "def my_function(country = \"India\"):\n",
    "  print(\"I am from \" + country)\n",
    "\n",
    "my_function(\"Swiss\")\n",
    "my_function(\"Norway\")\n",
    "my_function()           \n",
    "my_function(\"US\")"
   ]
  },
  {
   "cell_type": "markdown",
   "metadata": {},
   "source": [
    "#### Passing a List as an Argument"
   ]
  },
  {
   "cell_type": "code",
   "execution_count": null,
   "metadata": {},
   "outputs": [],
   "source": [
    "def my_function(food):\n",
    "  for x in food:\n",
    "    print(x)\n",
    "\n",
    "fruits = [\"apple\", \"banana\", \"cherry\"]\n",
    "\n",
    "my_function(fruits)"
   ]
  },
  {
   "cell_type": "markdown",
   "metadata": {},
   "source": [
    "#### Return Values "
   ]
  },
  {
   "cell_type": "code",
   "execution_count": null,
   "metadata": {},
   "outputs": [],
   "source": [
    "def my_function(x):\n",
    "  return 5 * x\n",
    "\n",
    "print(my_function(3))\n",
    "print(my_function(5))\n",
    "print(my_function(9))"
   ]
  },
  {
   "cell_type": "markdown",
   "metadata": {},
   "source": [
    "#### Arbitrary Arguments, *args"
   ]
  },
  {
   "cell_type": "code",
   "execution_count": null,
   "metadata": {},
   "outputs": [],
   "source": [
    "def my_function(*kids):              #If the arguments is unknown, add a * before the parameter    \n",
    "  print(\"The youngest child is \" + kids[2])      \n",
    "\n",
    "my_function(\"Emil\", \"Tobias\", \"Linus\")"
   ]
  },
  {
   "cell_type": "markdown",
   "metadata": {},
   "source": [
    "#### Arbitrary Keyword Arguments, **kwargs "
   ]
  },
  {
   "cell_type": "code",
   "execution_count": null,
   "metadata": {},
   "outputs": [],
   "source": [
    "def my_function(**kid):              #If the keyword arguments is unknown, add a double ** before the parameter\n",
    "  print(\"His last name is \" + kid[\"lname\"])\n",
    "\n",
    "my_function(fname = \"Tobias\", lname = \"Refsnes\")"
   ]
  },
  {
   "cell_type": "markdown",
   "metadata": {},
   "source": [
    "### Recursion \n",
    "\n",
    "-> It means that a function calls itself. \n",
    "\n",
    "-> This has the benefit of meaning that you can loop through data to reach a result.\n",
    "\n",
    "-> The developer should be very careful with recursion as it can be quite easy to slip into writing a function which never terminates, or one that uses excess amounts of memory or processor power.\n",
    "\n"
   ]
  },
  {
   "cell_type": "code",
   "execution_count": null,
   "metadata": {},
   "outputs": [],
   "source": [
    "def tri_recursion(k):\n",
    "  if(k > 0):\n",
    "    result = k + tri_recursion(k - 1)\n",
    "    print(result)\n",
    "  else:\n",
    "    result = 0\n",
    "  return result\n",
    "\n",
    "print(\"Recursion Example Results\")\n",
    "\n",
    "tri_recursion(6)"
   ]
  },
  {
   "cell_type": "markdown",
   "metadata": {},
   "source": [
    "## Classes / Objects"
   ]
  },
  {
   "cell_type": "markdown",
   "metadata": {},
   "source": [
    "#### Create a Class "
   ]
  },
  {
   "cell_type": "code",
   "execution_count": null,
   "metadata": {},
   "outputs": [],
   "source": [
    "class MyClass:\n",
    "  x = 5"
   ]
  },
  {
   "cell_type": "markdown",
   "metadata": {},
   "source": [
    "#### Create Object "
   ]
  },
  {
   "cell_type": "code",
   "execution_count": null,
   "metadata": {},
   "outputs": [],
   "source": [
    "p1 = MyClass()\n",
    "\n",
    "print(p1.x)"
   ]
  },
  {
   "cell_type": "markdown",
   "metadata": {},
   "source": [
    "#### The __init__() Function "
   ]
  },
  {
   "cell_type": "raw",
   "metadata": {},
   "source": [
    "   -> All classes have a function called __init__()\n",
    "   \n",
    "   -> which is always executed when the class is being initiated"
   ]
  },
  {
   "cell_type": "code",
   "execution_count": null,
   "metadata": {},
   "outputs": [],
   "source": [
    "class Person:\n",
    "  def __init__(self, name, age):\n",
    "    self.name = name\n",
    "    self.age = age\n",
    "\n",
    "p1 = Person(\"Gokul\", 23)\n",
    "\n",
    "print(p1.name)\n",
    "print(p1.age)"
   ]
  },
  {
   "cell_type": "code",
   "execution_count": null,
   "metadata": {},
   "outputs": [],
   "source": [
    "#The self parameter is a reference to the current instance of the class\n",
    "#It does not have to be named self , you can call it whatever you like\n",
    "#but it has to be the first parameter of any function in the class\n",
    "\n",
    "class Person:\n",
    "  def __init__(mysillyobject, name, age):\n",
    "    mysillyobject.name = name\n",
    "    mysillyobject.age = age\n",
    "\n",
    "  def myfunc(abc):\n",
    "    print(\"Hello my name is \" + abc.name)\n",
    "\n",
    "p1 = Person(\"Gokul\", 23)\n",
    "p1.myfunc()\n"
   ]
  },
  {
   "cell_type": "raw",
   "metadata": {},
   "source": [
    "Method \t              Description\n",
    "\n",
    "p1.age = 25           Modify Object Properties\n",
    "\n",
    "del p1.age            Delete Object Properties\n",
    "\n",
    "del p1                Delete Objects\n"
   ]
  },
  {
   "cell_type": "markdown",
   "metadata": {},
   "source": [
    "## Inheritance \n",
    "\n",
    "##### Parent class is the class being inherited from, also called base class.\n",
    "\n",
    "##### Child class is the class that inherits from another class, also called derived class."
   ]
  },
  {
   "cell_type": "code",
   "execution_count": null,
   "metadata": {},
   "outputs": [],
   "source": [
    "#Create a Parent Class\n",
    "\n",
    "class Person:\n",
    "  def __init__(self, fname, lname):\n",
    "    self.firstname = fname\n",
    "    self.lastname = lname\n",
    "\n",
    "  def printname(self):\n",
    "    print(self.firstname, self.lastname)\n",
    "\n",
    "#Use the Person class to create an object, and then execute the printname method:\n",
    "\n",
    "x = Person(\"Gokul\", \"M\")\n",
    "\n",
    "x.printname() \n",
    "\n",
    "print(x.firstname,\" \",x.lastname)"
   ]
  },
  {
   "cell_type": "code",
   "execution_count": null,
   "metadata": {},
   "outputs": [],
   "source": [
    "#Create a Child Class\n",
    "\n",
    "#class that inherits the functionality from another class,\n",
    "#send the parent class as a parameter when creating the child class\n",
    "\n",
    "class Student(Person):\n",
    "  pass                #Use the pass keyword when you do not want to add any other properties\n",
    "\n",
    "x = Student(\"GN\", \"Raavanan\")\n",
    "\n",
    "x.printname() "
   ]
  },
  {
   "cell_type": "markdown",
   "metadata": {},
   "source": [
    "## Iterators\n",
    "\n",
    "##### an object that contains a countable number of values\n",
    "\n",
    "##### meaning that you can traverse through all the values\n",
    "\n",
    "##### which consist of the methods __iter__() and __next__()"
   ]
  },
  {
   "cell_type": "code",
   "execution_count": null,
   "metadata": {},
   "outputs": [],
   "source": [
    "mytuple = (\"apple\", \"banana\", \"cherry\")\n",
    "\n",
    "myit = iter(mytuple)\n",
    "\n",
    "print(next(myit))\n",
    "print(next(myit))\n",
    "print(next(myit))"
   ]
  },
  {
   "cell_type": "code",
   "execution_count": null,
   "metadata": {},
   "outputs": [],
   "source": [
    "#the methods __iter__() and __next__() to your object\n",
    "\n",
    "class MyNumbers:\n",
    "  def __iter__(self):\n",
    "    self.a = 1\n",
    "    return self\n",
    "\n",
    "  def __next__(self):\n",
    "    x = self.a\n",
    "    self.a += 1\n",
    "    return x\n",
    "\n",
    "myclass = MyNumbers()\n",
    "\n",
    "myiter = iter(myclass)\n",
    "\n",
    "print(next(myiter))\n",
    "print(next(myiter))\n",
    "print(next(myiter))\n",
    "print(next(myiter))\n",
    "print(next(myiter)) "
   ]
  },
  {
   "cell_type": "markdown",
   "metadata": {},
   "source": [
    "## Polymorphism \n",
    "\n",
    "##### we can have multiple classes with the same method name"
   ]
  },
  {
   "cell_type": "code",
   "execution_count": null,
   "metadata": {},
   "outputs": [],
   "source": [
    "class Car:\n",
    "  def __init__(self, brand, model):\n",
    "    self.brand = brand\n",
    "    self.model = model\n",
    "\n",
    "  def move(self):\n",
    "    print(\"Drive!\")\n",
    "\n",
    "class Boat:\n",
    "  def __init__(self, brand, model):\n",
    "    self.brand = brand\n",
    "    self.model = model\n",
    "\n",
    "  def move(self):\n",
    "    print(\"Sail!\")\n",
    "\n",
    "class Plane:\n",
    "  def __init__(self, brand, model):\n",
    "    self.brand = brand\n",
    "    self.model = model\n",
    "\n",
    "  def move(self):\n",
    "    print(\"Fly!\")\n",
    "\n",
    "car1 = Car(\"Ford\", \"Mustang\")       #Create a Car class\n",
    "boat1 = Boat(\"Ibiza\", \"Touring 20\") #Create a Boat class\n",
    "plane1 = Plane(\"Boeing\", \"747\")     #Create a Plane class\n",
    "\n",
    "for x in (car1, boat1, plane1):\n",
    "  x.move()"
   ]
  },
  {
   "cell_type": "markdown",
   "metadata": {},
   "source": [
    "#### Inheritance Class Polymorphism "
   ]
  },
  {
   "cell_type": "code",
   "execution_count": null,
   "metadata": {},
   "outputs": [],
   "source": [
    "class Vehicle:\n",
    "  def __init__(self, brand, model):\n",
    "    self.brand = brand\n",
    "    self.model = model\n",
    "\n",
    "  def move(self):\n",
    "    print(\"Move!\")\n",
    "\n",
    "class Car(Vehicle):\n",
    "  pass\n",
    "\n",
    "class Boat(Vehicle):\n",
    "  def move(self):\n",
    "    print(\"Sail!\")\n",
    "\n",
    "class Plane(Vehicle):\n",
    "  def move(self):\n",
    "    print(\"Fly!\")\n",
    "\n",
    "car1 = Car(\"Ford\", \"Mustang\") #Create a Car object\n",
    "boat1 = Boat(\"Ibiza\", \"Touring 20\") #Create a Boat object\n",
    "plane1 = Plane(\"Boeing\", \"747\") #Create a Plane object\n",
    "\n",
    "for x in (car1, boat1, plane1):\n",
    "  print(x.brand)\n",
    "  print(x.model)\n",
    "  x.move()"
   ]
  },
  {
   "cell_type": "markdown",
   "metadata": {},
   "source": [
    "## Exception Handling\n",
    "\n",
    "##### When an error occurs, or exception as we call it, Python will normally stop and generate an error message"
   ]
  },
  {
   "cell_type": "code",
   "execution_count": null,
   "metadata": {},
   "outputs": [],
   "source": [
    "try:\n",
    "  print(x)\n",
    "except:\n",
    "  print(\"An exception occurred\") "
   ]
  },
  {
   "cell_type": "code",
   "execution_count": null,
   "metadata": {},
   "outputs": [],
   "source": [
    "try:\n",
    "  print(x)\n",
    "except NameError:\n",
    "  print(\"Variable x is not defined\")\n",
    "except:\n",
    "  print(\"Something else went wrong\")"
   ]
  },
  {
   "cell_type": "code",
   "execution_count": null,
   "metadata": {},
   "outputs": [],
   "source": [
    "#using ELSE\n",
    "\n",
    "try:\n",
    "  print(\"Hello\")\n",
    "except:\n",
    "  print(\"Something went wrong\")\n",
    "else:\n",
    "  print(\"Nothing went wrong\") "
   ]
  },
  {
   "cell_type": "code",
   "execution_count": null,
   "metadata": {},
   "outputs": [],
   "source": [
    "#using FINALLY block\n",
    "\n",
    "try:\n",
    "  print(x)\n",
    "except:\n",
    "  print(\"Something went wrong\")\n",
    "finally:\n",
    "  print(\"The 'try except' is finished\") "
   ]
  },
  {
   "cell_type": "code",
   "execution_count": null,
   "metadata": {},
   "outputs": [],
   "source": [
    "try:\n",
    "  f = open(\"demofile.txt\")\n",
    "  try:\n",
    "    f.write(\"Lorum Ipsum\")\n",
    "  except:\n",
    "    print(\"Something went wrong when writing to the file\")\n",
    "  finally:\n",
    "    f.close()\n",
    "except:\n",
    "  print(\"Something went wrong when opening the file\") "
   ]
  },
  {
   "cell_type": "markdown",
   "metadata": {},
   "source": [
    "# Thank You"
   ]
  }
 ],
 "metadata": {
  "kernelspec": {
   "display_name": "Python 3",
   "language": "python",
   "name": "python3"
  },
  "language_info": {
   "codemirror_mode": {
    "name": "ipython",
    "version": 3
   },
   "file_extension": ".py",
   "mimetype": "text/x-python",
   "name": "python",
   "nbconvert_exporter": "python",
   "pygments_lexer": "ipython3",
   "version": "3.7.4"
  }
 },
 "nbformat": 4,
 "nbformat_minor": 2
}
